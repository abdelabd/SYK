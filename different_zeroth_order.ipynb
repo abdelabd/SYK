{
 "cells": [
  {
   "cell_type": "markdown",
   "metadata": {},
   "source": [
    "Compute both finite-N and large-N (Schwinger-Dyson) 2-point functions of SYK Hamiltonian"
   ]
  },
  {
   "cell_type": "code",
   "execution_count": 1,
   "metadata": {},
   "outputs": [],
   "source": [
    "################# Test parameters ######################\n",
    "\n",
    "# Actual physical parameters\n",
    "BETA = 1 # inverse temperature\n",
    "K = 9 # number of fermionic modes <-- They use K=17 in the paper\n",
    "J = 4\n",
    "Q = 4\n",
    "\n",
    "LAMBDA_BJ = BETA*J\n",
    "LAMBDA_cutoff = 10\n",
    "\n",
    "N_ITER = 11 # Number of iterations for which to run the Schwinger-Dyson equation\n",
    "TAU_TEST = 1/4\n",
    "\n",
    "# Computational stuff\n",
    "WEIGHTED_UPDATE = False # Whether to use weighted or unweighted G(omega) update. See Schwinger-Dyson functions below. Use weighted update if not converging (which might be the case for large J)\n",
    "ZEROTH_ORDER = -1e16"
   ]
  },
  {
   "cell_type": "code",
   "execution_count": 2,
   "metadata": {},
   "outputs": [],
   "source": [
    "import os \n",
    "import time\n",
    "import copy\n",
    "from tqdm import tqdm\n",
    "\n",
    "import numpy as np \n",
    "import matplotlib.pyplot as plt\n",
    "import scipy\n",
    "from scipy import sparse, linalg, fft\n",
    "from scipy.linalg import expm, sinm, cosm\n",
    "import scipy.integrate as integrate\n",
    "from scipy.integrate import quad\n",
    "import pandas as pd\n",
    "\n",
    "from joblib import Parallel, delayed\n",
    "from numba import jit, njit, prange\n",
    "\n",
    "import functools\n",
    "\n",
    "################## Locals #############################\n",
    "from hamiltonian_generation import make_H4_sparse\n",
    "\n",
    "\n",
    "#################### Macros #############################\n",
    "np.random.seed(0)\n",
    "\n",
    "# Physical constants\n",
    "N = 2*K # number of fermions\n",
    "N_DIM = 2**K # Hilbert space dimensions\n",
    "#TAU_RANGE = np.arange(-BETA, BETA, 0.1) # imaginary-time domain\n",
    "TAU_RANGE = np.linspace(-BETA, BETA, 50) # imaginary-time domain\n",
    "\n",
    "# Computational stuff\n",
    "N_SAMPLES = 160 # number of samples to generate\n",
    "N_JOBS = 20 # number of jobs to run in parallel\n",
    "E_ORDER = 19 # Order to keep of matrix-exponential expansion. Also not given in the paper."
   ]
  },
  {
   "cell_type": "markdown",
   "metadata": {},
   "source": [
    "## Define Schwinger-Dyson 2-point function (i.e. large-N limit of 2-point function)"
   ]
  },
  {
   "cell_type": "markdown",
   "metadata": {},
   "source": [
    "$\\Sigma_\\tau^{(0)}(\\tau)=$ ZEROTH_ORDER\n",
    "\n",
    "$\\Sigma_\\tau^{(i)}(\\tau) = J^2 [G_{\\tau}^{(i-1)} (\\tau)]^{q-1}$\n",
    "\n",
    "$\\Sigma^{(i)}(n) = \\int_{-\\beta/2}^{\\beta/2} \\Sigma_\\tau^{(i)}(\\tau)  e^{i\\omega_{n}\\tau} d\\tau$\n",
    "\n",
    "$G^{(i)}(n) = -\\frac{1}{i\\omega_{n}+\\Sigma^{(i)}(n)}$\n",
    "\n",
    "$G_\\tau^{(i)}(\\tau) = \\frac{1}{2}sign(\\tau) + \\frac{1}{\\beta} \\sum_{n=-\\lambda}^\\lambda e^{-i \\omega_n \\tau} [G^{(i)}(n) - G^{(0)}(n)]$\n",
    "\n",
    "$\\omega_n=\\frac{2\\pi}{\\beta}(n+1/2)$"
   ]
  },
  {
   "cell_type": "markdown",
   "metadata": {},
   "source": [
    "\"Guaranteed to converge for small-enough J\" 26:00 in video. "
   ]
  },
  {
   "cell_type": "code",
   "execution_count": 3,
   "metadata": {},
   "outputs": [],
   "source": [
    "# TODO: Study numerical integration effects, discretization limit and errors, different integration method, parallelization\n",
    "\n",
    "sigma_tau_memo = {}\n",
    "def sigma_tau(i, tau):\n",
    "    if (i, tau) in sigma_tau_memo:\n",
    "        return sigma_tau_memo[(i, tau)]\n",
    "    else:\n",
    "        out = (J**2)*(G_tau(i-1, tau)**(Q-1))\n",
    "        sigma_tau_memo[(i,tau)] = out\n",
    "        return out\n",
    "\n",
    "sigma_memo = {}\n",
    "def sigma(i,n):\n",
    "    if (i,n) in sigma_memo:\n",
    "        return sigma_memo[(i,n)]\n",
    "    else:\n",
    "        if i==0:\n",
    "            sigma_memo[(i,n)] = ZEROTH_ORDER\n",
    "            return 0\n",
    "        else:\n",
    "            #w_n = (2*np.pi/BETA)*(n+1/2)\n",
    "            #dtau=1e-4\n",
    "            #sigma_integrand_range = Parallel(n_jobs=N_JOBS)(delayed(sigma_integrand_par_wrapper)(i, tau,w_n) for tau in np.linspace(-BETA/2, BETA/2, int(1/dtau)))\n",
    "            #integral = dtau*np.sum(sigma_integrand_range)\n",
    "            # Doesn't work\n",
    "            #TODO: There might be some circumstances under which the benefit from parallelization (above) outweighs that of memoization\n",
    "\n",
    "            # Yes, there are cooler/faster ways to integrate\n",
    "            # But those all call sigma_tau under the hood, bypassing the memoization\n",
    "            # So this ends up actually being the fastest\n",
    "            w_n = (2*np.pi/BETA)*(n+1/2)\n",
    "            n_dtau = 1e3\n",
    "            dtau = BETA/n_dtau\n",
    "            integral = 0                                \n",
    "            for tau in np.linspace(-BETA/2, BETA/2, int(n_dtau)):\n",
    "                integrand = sigma_tau(i, tau)*np.exp(1j*w_n*tau)\n",
    "                integral += dtau*integrand\n",
    "            # single: 6.5 s\n",
    "            # tau_range: 23.8 s \n",
    "            \n",
    "            sigma_memo[(i,n)] = integral\n",
    "            return integral\n",
    "\n",
    "G_unweighted_memo = {}  \n",
    "def G_unweighted(i, n):\n",
    "    if (i,n) in G_unweighted_memo:\n",
    "        return G_unweighted_memo[(i,n)]\n",
    "    else:\n",
    "        w_n = (2*np.pi/BETA)*(n+1/2)\n",
    "        den = -(1j*w_n + sigma(i, n))\n",
    "\n",
    "        out = 1/den\n",
    "        G_unweighted_memo[(i,n)] = out\n",
    "        return out\n",
    "\n",
    "G_weighted_memo = {}\n",
    "def G_weighted(i, n): # Use weighted-update if no convergence (usually for large J)\n",
    "    if (i,n) in G_weighted_memo:\n",
    "        return G_weighted_memo[(i,n)]\n",
    "    elif i==0:\n",
    "        w_n = (2*np.pi/BETA)*(n+1/2)\n",
    "        den = -(1j*w_n)\n",
    "        out = 1/den\n",
    "        G_weighted_memo[(i,n)] = out\n",
    "        return out\n",
    "    else:\n",
    "        w_n = (2*np.pi/BETA)*(n+1/2)\n",
    "        den = -(1j*w_n + sigma(i-1, n))\n",
    "\n",
    "        x = 0.5\n",
    "        out = (1-x)*G_weighted(i-1, n)+x/den\n",
    "        G_weighted_memo[(i,n)] = out\n",
    "        return out\n",
    "    \n",
    "G_tau_unweighted_memo = {}\n",
    "def G_tau_unweighted(i, tau):\n",
    "    if (i, tau) in G_tau_unweighted_memo:\n",
    "        return G_tau_unweighted_memo[(i,tau)]\n",
    "    else:\n",
    "        sum = 0\n",
    "        for n in range(-int(LAMBDA_cutoff), int(LAMBDA_cutoff)):\n",
    "            w_n = (2*np.pi/BETA)*(n+1/2)\n",
    "            summand_n = np.exp(-1j*w_n*tau)*(G(i, n)-G(0,n))\n",
    "            sum += summand_n\n",
    "\n",
    "        out = 0.5*np.sign(tau)+sum/BETA\n",
    "        G_tau_unweighted_memo[(i,tau)] = out\n",
    "        return out\n",
    "\n",
    "G_tau_weighted_memo = {}\n",
    "def G_tau_weighted(i, tau):\n",
    "    if (i, tau) in G_tau_weighted_memo:\n",
    "        return G_tau_weighted_memo[(i,tau)]\n",
    "    else:\n",
    "        sum = 0\n",
    "        for n in range(-int(LAMBDA_cutoff), int(LAMBDA_cutoff)):\n",
    "            w_n = (2*np.pi/BETA)*(n+1/2)\n",
    "            summand_n = np.exp(-1j*w_n*tau)*(G_weighted(i, n)-G_weighted(0,n))\n",
    "            sum += summand_n\n",
    "\n",
    "        out = 0.5*np.sign(tau)+sum/BETA\n",
    "        G_tau_weighted_memo[(i,tau)] = out\n",
    "        return out\n",
    "        \n",
    "if WEIGHTED_UPDATE:\n",
    "    G_tau = G_tau_weighted\n",
    "    G = G_weighted\n",
    "else:\n",
    "    G_tau = G_tau_unweighted\n",
    "    G = G_unweighted"
   ]
  },
  {
   "cell_type": "markdown",
   "metadata": {},
   "source": [
    "## Check iterative computations for convergence"
   ]
  },
  {
   "cell_type": "markdown",
   "metadata": {},
   "source": [
    "What do we do if it almost converges but the two sides don't touch? Do we count it?"
   ]
  },
  {
   "cell_type": "code",
   "execution_count": 4,
   "metadata": {},
   "outputs": [
    {
     "name": "stdout",
     "output_type": "stream",
     "text": [
      "(0.41395033888556987+3.0831999280056532e-18j)\n"
     ]
    },
    {
     "name": "stderr",
     "output_type": "stream",
     "text": [
      "c:\\Users\\abdel\\anaconda3\\envs\\phys417\\lib\\site-packages\\matplotlib\\collections.py:192: ComplexWarning: Casting complex values to real discards the imaginary part\n",
      "  offsets = np.asanyarray(offsets, float)\n"
     ]
    },
    {
     "data": {
      "image/png": "[encoded data removed]",
      "text/plain": [
       "<Figure size 640x480 with 1 Axes>"
      ]
     },
     "metadata": {},
     "output_type": "display_data"
    },
    {
     "name": "stdout",
     "output_type": "stream",
     "text": [
      "[0.5       +0.00000000e+00j 0.36534493+1.33153579e-18j\n",
      " 0.43746768+1.18754019e-18j 0.4009405 -6.33580645e-19j\n",
      " 0.42048585+2.67662411e-19j 0.41023802-2.76471554e-18j\n",
      " 0.41568008-2.84941883e-18j 0.41280791+3.74388563e-19j\n",
      " 0.41432895-2.31748214e-18j 0.41352486+3.20856080e-18j\n",
      " 0.41395034+3.08319993e-18j]\n"
     ]
    }
   ],
   "source": [
    "i_range = np.arange(N_ITER)\n",
    "\n",
    "G_tau_irange = np.zeros(i_range.shape, dtype=np.complex128)\n",
    "for i in i_range:\n",
    "    G_tau_irange[i] = G_tau(i, TAU_TEST)\n",
    "\n",
    "print(G_tau_irange[-1])\n",
    "\n",
    "if WEIGHTED_UPDATE:\n",
    "    label = \"Weighted update\"\n",
    "else:\n",
    "    label = \"Pure update\"\n",
    "\n",
    "plt.figure()\n",
    "plt.scatter(i_range, G_tau_irange, c=\"b\", label=label)\n",
    "plt.xlabel(\"N_ITER\")\n",
    "plt.ylabel(r\"$G_{SD}(\\theta)$\")\n",
    "plt.legend()\n",
    "plt.show()\n",
    "plt.close()\n",
    "\n",
    "print(G_tau_irange)"
   ]
  },
  {
   "cell_type": "markdown",
   "metadata": {},
   "source": [
    "## Compute large-N, Schwinger-Dyson 2-point function"
   ]
  },
  {
   "cell_type": "code",
   "execution_count": 5,
   "metadata": {},
   "outputs": [
    {
     "name": "stderr",
     "output_type": "stream",
     "text": [
      "  0%|          | 0/50 [00:00<?, ?it/s][Parallel(n_jobs=20)]: Using backend LokyBackend with 20 concurrent workers.\n",
      "100%|██████████| 50/50 [00:02<00:00, 22.54it/s]\n",
      "[Parallel(n_jobs=20)]: Done  10 tasks      | elapsed:    4.4s\n",
      "[Parallel(n_jobs=20)]: Done  50 out of  50 | elapsed:   13.1s finished\n"
     ]
    }
   ],
   "source": [
    "G_SD_range = Parallel(n_jobs=N_JOBS, verbose=1)(delayed(G_tau)(N_ITER, tau) for tau in tqdm(TAU_RANGE))"
   ]
  },
  {
   "cell_type": "code",
   "execution_count": 6,
   "metadata": {},
   "outputs": [
    {
     "name": "stderr",
     "output_type": "stream",
     "text": [
      "c:\\Users\\abdel\\anaconda3\\envs\\phys417\\lib\\site-packages\\matplotlib\\cbook\\__init__.py:1335: ComplexWarning: Casting complex values to real discards the imaginary part\n",
      "  return np.asarray(x, float)\n"
     ]
    },
    {
     "data": {
      "image/png": "[encoded data removed]",
      "text/plain": [
       "<Figure size 640x480 with 1 Axes>"
      ]
     },
     "metadata": {},
     "output_type": "display_data"
    }
   ],
   "source": [
    "plt.figure()\n",
    "plt.plot(TAU_RANGE, G_SD_range, label=\"Schwinger-Dyson\", c=\"b\", linestyle=\"dashed\")\n",
    "\n",
    "# Plot axes\n",
    "y_range = np.linspace(np.max(G_SD_range), np.min(G_SD_range), 100)\n",
    "plt.plot([0 for i in y_range], y_range, c=\"k\")\n",
    "x_range = np.linspace(np.min(TAU_RANGE), np.max(TAU_RANGE), 100)\n",
    "plt.plot(x_range, [0 for i in x_range], c=\"k\")\n",
    "\n",
    "plt.xlabel(r\"$\\theta$\")\n",
    "plt.ylabel(r\"$G_{SD}(\\theta)$\")\n",
    "plt.title(f\"K = {K}, \"+r\"$\\lambda_{\\beta J} = $\"+f\"{LAMBDA_BJ}, \"+ r\"$G^{(0)} = $\"+f\"{ZEROTH_ORDER}\")\n",
    "plt.legend()\n",
    "plt.savefig(os.path.join(\"Images\", \"ZEROTH_ORDER\", f\"K{K}_J{J:.2f}_Q{Q}_B{BETA}_z{ZEROTH_ORDER}.png\"))\n",
    "plt.show()\n",
    "plt.close()"
   ]
  },
  {
   "cell_type": "markdown",
   "metadata": {},
   "source": [
    "Not full agreement with Mathematica (see \"schwinger_dyson.nb\"). Our exact, finite results seem to match up. But our Schwinger-Dyson approximations do not. \n",
    "\n",
    "Could it be integration error??"
   ]
  },
  {
   "cell_type": "markdown",
   "metadata": {},
   "source": [
    "Very strange mathematica behavior at:\n",
    "- $\\beta = 10$\n",
    "- $K = 7$\n",
    "- $J = 4$\n",
    "- $Q = 4$\n",
    "- $\\lambda_1 = 1$\n",
    "- $\\lambda_2 = 10$\n",
    "- $nIter = 11$\n",
    "- $tauTest = 1/4$\n",
    "\n",
    "\n",
    "And it gets EVEN STRANGER at $J=9$"
   ]
  },
  {
   "cell_type": "markdown",
   "metadata": {},
   "source": [
    "Moreover, just because the SD converges (at the test-tau) does not mean that the SD and exact 2-pnt functions will match up exactly. (Maybe increase K in the exact fn?)"
   ]
  },
  {
   "cell_type": "code",
   "execution_count": 7,
   "metadata": {},
   "outputs": [
    {
     "name": "stdout",
     "output_type": "stream",
     "text": [
      "G_tau(10, 6) = (0.5000000000000001+6.938893903907228e-18j)\n",
      "G(10, -7) = (-4.169293280021563e-20-0.02442692576231923j)\n",
      "sigma(10, -7) = (6.98754826484841e-17-0.09772589487183109j)\n",
      "sigma_tau(10, -0.5) = (-0.9482783709572764+6.365509286222651e-20j)\n"
     ]
    }
   ],
   "source": [
    "i = 10\n",
    "tau_test = 6\n",
    "n_0 = - int(LAMBDA_cutoff)+3\n",
    "tau_0 = -BETA/2\n",
    "\n",
    "print(f\"G_tau({i}, {tau_test}) = {G_tau(i, tau_test)}\")\n",
    "print(f\"G({i}, {n_0}) = {G(i, n_0)}\")\n",
    "print(f\"sigma({i}, {n_0}) = {sigma(i, n_0)}\")\n",
    "print(f\"sigma_tau({i}, {tau_0}) = {sigma_tau(i, tau_0)}\")"
   ]
  }
 ],
 "metadata": {
  "kernelspec": {
   "display_name": "phys417",
   "language": "python",
   "name": "python3"
  },
  "language_info": {
   "codemirror_mode": {
    "name": "ipython",
    "version": 3
   },
   "file_extension": ".py",
   "mimetype": "text/x-python",
   "name": "python",
   "nbconvert_exporter": "python",
   "pygments_lexer": "ipython3",
   "version": "3.8.16"
  },
  "orig_nbformat": 4
 },
 "nbformat": 4,
 "nbformat_minor": 2
}
