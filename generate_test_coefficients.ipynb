{
 "cells": [
  {
   "cell_type": "code",
   "execution_count": 1,
   "metadata": {},
   "outputs": [
    {
     "ename": "NameError",
     "evalue": "name 'sigma_j' is not defined",
     "output_type": "error",
     "traceback": [
      "\u001b[1;31m---------------------------------------------------------------------------\u001b[0m",
      "\u001b[1;31mNameError\u001b[0m                                 Traceback (most recent call last)",
      "Cell \u001b[1;32mIn[1], line 11\u001b[0m\n\u001b[0;32m      7\u001b[0m n_dim \u001b[39m=\u001b[39m \u001b[39m2\u001b[39m\u001b[39m*\u001b[39m\u001b[39m*\u001b[39mK\n\u001b[0;32m      9\u001b[0m fname \u001b[39m=\u001b[39m \u001b[39m'\u001b[39m\u001b[39mtest_coefficients_K\u001b[39m\u001b[39m{}\u001b[39;00m\u001b[39m_J\u001b[39m\u001b[39m{}\u001b[39;00m\u001b[39m_q\u001b[39m\u001b[39m{}\u001b[39;00m\u001b[39m.csv\u001b[39m\u001b[39m'\u001b[39m\u001b[39m.\u001b[39mformat(K,J,q)\n\u001b[1;32m---> 11\u001b[0m test_js \u001b[39m=\u001b[39m np\u001b[39m.\u001b[39mrandom\u001b[39m.\u001b[39mnormal(\u001b[39m0\u001b[39m, sigma_j, size\u001b[39m=\u001b[39m\u001b[39mtuple\u001b[39m([N \u001b[39mfor\u001b[39;00m j \u001b[39min\u001b[39;00m \u001b[39mrange\u001b[39m(q)]))\n\u001b[0;32m     12\u001b[0m test_js\u001b[39m.\u001b[39mtofile(fname, sep \u001b[39m=\u001b[39m \u001b[39m'\u001b[39m\u001b[39m,\u001b[39m\u001b[39m'\u001b[39m)\n",
      "\u001b[1;31mNameError\u001b[0m: name 'sigma_j' is not defined"
     ]
    }
   ],
   "source": [
    "import numpy as np\n",
    "np.random.seed(0)\n",
    "\n",
    "K=7\n",
    "J=4\n",
    "q=4\n",
    "\n",
    "N = 2*K\n",
    "n_dim = 2**K\n",
    "\n",
    "fname = 'test_coefficients_K{}_J{}_q{}.csv'.format(K,J,q)\n",
    "\n",
    "sigma_j = np.sqrt((J**2)*np.math.factorial(q-1)/(N**(q-1)))\n",
    "test_js = np.random.normal(0, sigma_j, size=tuple([N for j in range(q)]))\n",
    "test_js.tofile(fname, sep = ',')\n"
   ]
  },
  {
   "cell_type": "code",
   "execution_count": null,
   "metadata": {},
   "outputs": [],
   "source": []
  }
 ],
 "metadata": {
  "kernelspec": {
   "display_name": "phys417",
   "language": "python",
   "name": "python3"
  },
  "language_info": {
   "codemirror_mode": {
    "name": "ipython",
    "version": 3
   },
   "file_extension": ".py",
   "mimetype": "text/x-python",
   "name": "python",
   "nbconvert_exporter": "python",
   "pygments_lexer": "ipython3",
   "version": "3.8.16"
  },
  "orig_nbformat": 4
 },
 "nbformat": 4,
 "nbformat_minor": 2
}
