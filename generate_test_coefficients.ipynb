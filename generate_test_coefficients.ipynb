{
 "cells": [
  {
   "cell_type": "code",
   "execution_count": 2,
   "metadata": {},
   "outputs": [],
   "source": [
    "import numpy as np\n",
    "np.random.seed(0)\n",
    "\n",
    "K=7\n",
    "J=4\n",
    "Q=4\n",
    "\n",
    "N = 2*K\n",
    "n_dim = 2**K\n",
    "\n",
    "fname = 'test_coefficients_K{}_J{}_q{}.csv'.format(K,J,Q)\n",
    "\n",
    "sigma_j = np.sqrt((J**2)*np.math.factorial(Q-1)/(N**(Q-1)))\n",
    "test_js = np.random.normal(0, sigma_j, size=tuple([N for j in range(Q)]))\n",
    "test_js.tofile(fname, sep = ',')\n"
   ]
  }
 ],
 "metadata": {
  "kernelspec": {
   "display_name": "phys417",
   "language": "python",
   "name": "python3"
  },
  "language_info": {
   "codemirror_mode": {
    "name": "ipython",
    "version": 3
   },
   "file_extension": ".py",
   "mimetype": "text/x-python",
   "name": "python",
   "nbconvert_exporter": "python",
   "pygments_lexer": "ipython3",
   "version": "3.8.16"
  },
  "orig_nbformat": 4
 },
 "nbformat": 4,
 "nbformat_minor": 2
}
