{
 "cells": [
  {
   "cell_type": "code",
   "execution_count": 12,
   "metadata": {},
   "outputs": [],
   "source": [
    "# file-handling\n",
    "import os \n",
    "\n",
    "# user status updates\n",
    "import time\n",
    "from tqdm import tqdm\n",
    "\n",
    "# the holy trinity of python\n",
    "import numpy as np \n",
    "import matplotlib.pyplot as plt\n",
    "import pandas as pd\n",
    "\n",
    "# scipy\n",
    "import scipy\n",
    "from scipy import sparse, linalg, fft\n",
    "from scipy.linalg import expm, sinm, cosm\n",
    "import scipy.integrate as integrate\n",
    "from scipy.integrate import quad\n",
    "\n",
    "# parallelization, memory management\n",
    "from joblib import Parallel, delayed\n",
    "from numba import jit, njit, prange\n",
    "import copy\n",
    "\n",
    "# itertools\n",
    "import itertools\n",
    "\n",
    "# Locals\n",
    "from hamiltonian_generation import make_H3_sparse\n",
    "\n",
    "############ Macros ###############\n",
    "np.random.seed(0)\n",
    "\n",
    "# Physical constants\n",
    "K = 9 # number of fermionic modes\n",
    "J = 4 # ~\"energy scale\"\n",
    "Q_COUPLING = 3 # order of coupling, don't want to use the letter 'Q' because that denotes the supercharge\n",
    "N = 2*K # number of fermions\n",
    "N_DIM = 2**K # Hilbert space dimension\n",
    "\n",
    "N_SAMPLES = 100 # number of samples to generate\n",
    "N_JOBS = 20 # number of jobs to run in parallel\n"
   ]
  },
  {
   "cell_type": "markdown",
   "metadata": {},
   "source": [
    "Just like normal SYK, we're still interested in Majorana fermions..."
   ]
  },
  {
   "cell_type": "markdown",
   "metadata": {},
   "source": [
    "## Define supercharge Q"
   ]
  },
  {
   "cell_type": "markdown",
   "metadata": {},
   "source": [
    "$ Q = i \\sum_{1 \\le i < j < k \\le N} C_{ijk} \\psi^i \\psi^j \\psi^k $\n",
    "\n",
    "Where $\\psi$ are Majorana fermions: $\\{\\psi^i, \\psi^j \\} = \\delta^{ij}$,\n",
    "\n",
    "and $C_{ijk}$ are independent Gaussian variables, with mean 0 and variance $\\sigma_C^2 = \\frac{2J}{N}$.\n",
    "\n",
    "Note: \"$C_{ijk}$ is a fixed, real antisymmetric tensor so that Q is hermitian\" $\\longleftarrow$ Pretty sure this is the same as normal SYK Hamiltonian; $J_{ijkl}$ is real and antisymmetric."
   ]
  },
  {
   "cell_type": "code",
   "execution_count": 13,
   "metadata": {},
   "outputs": [
    {
     "name": "stdout",
     "output_type": "stream",
     "text": [
      "Q hermitian:  True\n"
     ]
    },
    {
     "data": {
      "image/png": "[encoded data removed]",
      "text/plain": [
       "<Figure size 640x480 with 1 Axes>"
      ]
     },
     "metadata": {},
     "output_type": "display_data"
    }
   ],
   "source": [
    "H3_func, psi, psi_pairs, psi_tris = make_H3_sparse(K, precompute_pairs=True, precompute_tris=True)\n",
    "\n",
    "sigma_c = np.sqrt(2*J/(N**2))\n",
    "C_test = np.random.normal(0, sigma_c, size=(N, N, N))\n",
    "Q_test = H3_func(C_test).toarray()\n",
    "\n",
    "print(\"Q hermitian: \", linalg.ishermitian(Q_test))\n",
    "\n",
    "iv = np.linalg.eigvalsh(Q_test)\n",
    "plt.figure()\n",
    "plt.hist(iv, bins=30)\n",
    "plt.title(r\"Eigenvalues of the supercharge, $Q$\")\n",
    "plt.show()\n",
    "plt.close()"
   ]
  },
  {
   "cell_type": "markdown",
   "metadata": {},
   "source": [
    "Welp"
   ]
  },
  {
   "cell_type": "markdown",
   "metadata": {},
   "source": [
    "## 1. Compute Hamiltonian"
   ]
  },
  {
   "cell_type": "markdown",
   "metadata": {},
   "source": [
    "This one is straightforward"
   ]
  },
  {
   "cell_type": "code",
   "execution_count": 14,
   "metadata": {},
   "outputs": [
    {
     "name": "stdout",
     "output_type": "stream",
     "text": [
      "H hermitian:  True\n"
     ]
    }
   ],
   "source": [
    "H_test = Q_test@Q_test\n",
    "print(\"H hermitian: \", linalg.ishermitian(H_test))"
   ]
  },
  {
   "cell_type": "code",
   "execution_count": 15,
   "metadata": {},
   "outputs": [
    {
     "data": {
      "text/plain": [
       "(array([96., 36., 36., 24., 28., 24., 16., 24., 16., 20., 12., 20., 12.,\n",
       "        20.,  8., 12., 12., 12., 12.,  8., 12.,  8.,  8.,  8.,  8.,  4.,\n",
       "         4.,  4.,  4.,  4.]),\n",
       " array([4.35442873e-06, 2.69681977e-01, 5.39359600e-01, 8.09037223e-01,\n",
       "        1.07871485e+00, 1.34839247e+00, 1.61807009e+00, 1.88774772e+00,\n",
       "        2.15742534e+00, 2.42710296e+00, 2.69678058e+00, 2.96645821e+00,\n",
       "        3.23613583e+00, 3.50581345e+00, 3.77549108e+00, 4.04516870e+00,\n",
       "        4.31484632e+00, 4.58452395e+00, 4.85420157e+00, 5.12387919e+00,\n",
       "        5.39355681e+00, 5.66323444e+00, 5.93291206e+00, 6.20258968e+00,\n",
       "        6.47226731e+00, 6.74194493e+00, 7.01162255e+00, 7.28130018e+00,\n",
       "        7.55097780e+00, 7.82065542e+00, 8.09033305e+00]),\n",
       " <BarContainer object of 30 artists>)"
      ]
     },
     "execution_count": 15,
     "metadata": {},
     "output_type": "execute_result"
    },
    {
     "data": {
      "image/png": "[encoded data removed]",
      "text/plain": [
       "<Figure size 640x480 with 1 Axes>"
      ]
     },
     "metadata": {},
     "output_type": "display_data"
    }
   ],
   "source": [
    "iv = np.linalg.eigvalsh(H_test)\n",
    "plt.hist(iv, bins=30)"
   ]
  },
  {
   "cell_type": "markdown",
   "metadata": {},
   "source": [
    "## 2. Check equation 1.4"
   ]
  },
  {
   "cell_type": "markdown",
   "metadata": {},
   "source": [
    "$H = Q^2 = E_0 + \\sum_{1\\le i<j<k<l\\le N} J_{ijkl} \\psi^i \\psi^j \\psi^k \\psi^l$\n",
    "\n",
    "Where\n",
    "\n",
    "$E_0 = \\sum_{1\\le i<j<k \\le N} C_{ijk}^2$\n",
    "\n",
    "and\n",
    "\n",
    "$J_{ijkl} = -\\frac{1}{8} \\sum_a C_{a[ij}C_{kl]a}$"
   ]
  },
  {
   "cell_type": "markdown",
   "metadata": {},
   "source": [
    "### 2.a. Let's start by computing the easy one"
   ]
  },
  {
   "cell_type": "code",
   "execution_count": 16,
   "metadata": {},
   "outputs": [
    {
     "name": "stdout",
     "output_type": "stream",
     "text": [
      "19.033823252659\n",
      "19.033823252659\n"
     ]
    }
   ],
   "source": [
    "def get_E0(C):\n",
    "    E0 = 0\n",
    "    for i in range(N-2):\n",
    "        for j in range(i+1, N-1):\n",
    "            for k in range(j+1, N):\n",
    "                E0 += C[i,j,k]**2\n",
    "    return E0\n",
    "\n",
    "def get_E02(C):\n",
    "    C2 = C**2\n",
    "    E0 = 0\n",
    "    for i in range(N-2):\n",
    "        for j in range(i+1, N-1):\n",
    "            for k in range(j+1, N):\n",
    "                E0 += C2[i,j,k]\n",
    "    return E0\n",
    "\n",
    "E0_test = get_E0(C_test)\n",
    "E0_test2 = get_E02(C_test)\n",
    "\n",
    "print(E0_test)\n",
    "print(E0_test2)"
   ]
  },
  {
   "cell_type": "markdown",
   "metadata": {},
   "source": [
    "### 2.b. And the hard one..."
   ]
  },
  {
   "cell_type": "markdown",
   "metadata": {},
   "source": [
    "First, we need a function to antisymmetrize some tuple (i, j, k, l)"
   ]
  },
  {
   "cell_type": "code",
   "execution_count": 17,
   "metadata": {},
   "outputs": [
    {
     "name": "stdout",
     "output_type": "stream",
     "text": [
      "{(0, 1, 2): 1, (0, 2, 1): -1, (1, 0, 2): -1, (1, 2, 0): 1, (2, 0, 1): 1, (2, 1, 0): -1}\n",
      "0\n",
      "\n",
      "0\n"
     ]
    }
   ],
   "source": [
    "def levi_civita_tensor(dim):   \n",
    "    arr=np.zeros(tuple([dim for i in range(dim)]), dtype=np.int32)\n",
    "    for x in itertools.permutations(tuple(range(dim))):\n",
    "        mat = np.zeros((dim, dim), dtype=np.int32)\n",
    "        for i, j in zip(range(dim), x):\n",
    "            mat[i, j] = 1\n",
    "        arr[x]=int(np.linalg.det(mat))\n",
    "    return arr\n",
    "\n",
    "def antisymmetrize(iterable):\n",
    "    n_elem = len(iterable)\n",
    "    if len(set(iterable)) < n_elem:\n",
    "        return 0 # <-- If there are repeated elements, levi-civita value is identically zero \n",
    "\n",
    "    order_0 = tuple(list(range(n_elem)))\n",
    "    all_orders = list(itertools.permutations(order_0))\n",
    "    all_permutations = [tuple([iterable[i] for i in order]) for order in all_orders]\n",
    "\n",
    "    lc_tensor = levi_civita_tensor(n_elem)\n",
    "    out = {}\n",
    "    for i in range(len(all_orders)):\n",
    "        order_i = all_orders[i]\n",
    "        multiplier = lc_tensor[order_i]\n",
    "\n",
    "        permutation_i = all_permutations[i]\n",
    "        out[permutation_i] = multiplier\n",
    "\n",
    "    return out\n",
    "\n",
    "test_iter = (0, 1, 2)\n",
    "out = antisymmetrize(test_iter)\n",
    "print(out)\n",
    "print(sum(out.values()))\n",
    "\n",
    "test_iter = (0, 1, 0)\n",
    "out = antisymmetrize(test_iter)\n",
    "print(\"\")\n",
    "print(out)\n"
   ]
  },
  {
   "cell_type": "markdown",
   "metadata": {},
   "source": [
    "$J_a = C_{a[ij}C_{kl]a}$"
   ]
  },
  {
   "cell_type": "code",
   "execution_count": 18,
   "metadata": {},
   "outputs": [],
   "source": [
    "def get_J_a(C, a, i, j, k, l):\n",
    "    C_left = C[a,:,:]\n",
    "    C_right = C[:,:,a]\n",
    "\n",
    "    permutations = antisymmetrize((i, j, k, l))\n",
    "    out = 0\n",
    "    for perm, sign in permutations.items():\n",
    "        out += C_left[perm[:2]]*C_right[perm[2:]]*sign\n",
    "    return out\n",
    "\n",
    "def get_J_ijkl(C, i, j, k, l):\n",
    "    sum = 0\n",
    "    for a in range(N):\n",
    "        sum += get_J_a(C, a, i, j, k, l)\n",
    "    out = -sum/8\n",
    "    return out\n",
    "\n",
    "def get_H2(C):\n",
    "    E0 = get_E0(C)\n",
    "    E0 = sparse.csr_matrix(E0*np.identity(N_DIM))\n",
    "\n",
    "    sum_J = 0\n",
    "    for i in range(N-3):\n",
    "        for j in range(i+1, N-2):\n",
    "            index_ij = i*N+j #i*(N-1)+j\n",
    "            psi_ij = psi_pairs[index_ij]\n",
    "\n",
    "            for k in range(j+1, N-1):\n",
    "                for l in range(k+1, N):\n",
    "                    index_kl = k*N+l\n",
    "                    psi_kl = psi_pairs[index_kl]\n",
    "\n",
    "                    J_ijkl = get_J_ijkl(C, i, j, k, l)\n",
    "                    \n",
    "                    sum_J += J_ijkl*(psi_ij@psi_kl)\n",
    "    \n",
    "    H =  E0 + sum_J\n",
    "    return H\n"
   ]
  },
  {
   "cell_type": "code",
   "execution_count": 19,
   "metadata": {},
   "outputs": [
    {
     "name": "stdout",
     "output_type": "stream",
     "text": [
      "Duration: 0.0 minutes, 12.91156816482544 seconds\n"
     ]
    }
   ],
   "source": [
    "tic = time.time()\n",
    "\n",
    "H2_test = get_H2(C_test).toarray()\n",
    "\n",
    "duration = time.time() - tic\n",
    "print(f\"Duration: {duration//60} minutes, {duration%60} seconds\")"
   ]
  },
  {
   "cell_type": "code",
   "execution_count": 20,
   "metadata": {},
   "outputs": [
    {
     "name": "stdout",
     "output_type": "stream",
     "text": [
      "False\n"
     ]
    }
   ],
   "source": [
    "print(np.allclose(H_test, H2_test))"
   ]
  },
  {
   "cell_type": "code",
   "execution_count": 21,
   "metadata": {},
   "outputs": [
    {
     "name": "stdout",
     "output_type": "stream",
     "text": [
      "21528.527165294734\n"
     ]
    }
   ],
   "source": [
    "abs_diff = np.array(np.abs(H_test - H2_test))\n",
    "print(np.sum(np.sum(abs_diff)))"
   ]
  },
  {
   "cell_type": "code",
   "execution_count": null,
   "metadata": {},
   "outputs": [],
   "source": []
  }
 ],
 "metadata": {
  "kernelspec": {
   "display_name": "phys417",
   "language": "python",
   "name": "python3"
  },
  "language_info": {
   "codemirror_mode": {
    "name": "ipython",
    "version": 3
   },
   "file_extension": ".py",
   "mimetype": "text/x-python",
   "name": "python",
   "nbconvert_exporter": "python",
   "pygments_lexer": "ipython3",
   "version": "3.8.16"
  },
  "orig_nbformat": 4
 },
 "nbformat": 4,
 "nbformat_minor": 2
}
