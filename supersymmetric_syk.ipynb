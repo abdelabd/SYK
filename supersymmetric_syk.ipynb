{
 "cells": [
  {
   "cell_type": "code",
   "execution_count": 1,
   "metadata": {},
   "outputs": [],
   "source": [
    "import os \n",
    "import time\n",
    "import copy\n",
    "from tqdm import tqdm\n",
    "\n",
    "import numpy as np \n",
    "import matplotlib.pyplot as plt\n",
    "import scipy\n",
    "from scipy import sparse, linalg, fft\n",
    "from scipy.linalg import expm, sinm, cosm\n",
    "import scipy.integrate as integrate\n",
    "from scipy.integrate import quad\n",
    "import pandas as pd\n",
    "\n",
    "from joblib import Parallel, delayed\n",
    "from numba import jit, njit, prange\n",
    "\n",
    "import functools\n",
    "\n",
    "# Locals\n",
    "from hamiltonian_generation import make_H3_sparse\n",
    "\n",
    "############ Macros ###############\n",
    "np.random.seed(0)\n",
    "\n",
    "# Physical constants\n",
    "K = 10 # number of fermionic modes\n",
    "J = 4 # ~\"energy scale\"\n",
    "Q_COUPLING = 3 # order of coupling, don't want to use the letter 'Q' because that denotes the supercharge\n",
    "N = 2*K # number of fermions\n",
    "N_DIM = 2**K # Hilbert space dimension\n",
    "\n",
    "N_SAMPLES = 100 # number of samples to generate\n",
    "N_JOBS = 20 # number of jobs to run in parallel\n"
   ]
  },
  {
   "cell_type": "markdown",
   "metadata": {},
   "source": [
    "Just like normal SYK, we're still interested in Majorana fermions..."
   ]
  },
  {
   "cell_type": "code",
   "execution_count": 2,
   "metadata": {},
   "outputs": [
    {
     "name": "stdout",
     "output_type": "stream",
     "text": [
      "Q hermitian:  True\n"
     ]
    }
   ],
   "source": [
    "H3_func, psi, psi_pairs, psi_tris = make_H3_sparse(K, K, precompute_pairs=True, precompute_tris=True)\n",
    "\n",
    "sigma_c = np.sqrt(2*J/(N**2))\n",
    "C_test = np.random.normal(0, sigma_c, size=(N, N, N))\n",
    "Q_test = H3_func(C_test).toarray()\n",
    "\n",
    "iv = np.linalg.eigvalsh(Q_test)\n",
    "plt.figure()\n",
    "plt.hist(iv, bins=30)\n",
    "plt.title(r\"Eigenvalues of the supercharge, $Q$\")\n",
    "plt.show()\n",
    "plt.close()\n",
    "\n",
    "print(\"Q hermitian: \", linalg.ishermitian(Q_test))"
   ]
  },
  {
   "cell_type": "code",
   "execution_count": null,
   "metadata": {},
   "outputs": [],
   "source": []
  },
  {
   "cell_type": "markdown",
   "metadata": {},
   "source": [
    "Welp"
   ]
  },
  {
   "cell_type": "markdown",
   "metadata": {},
   "source": [
    "## 1. Compute Hamiltonian"
   ]
  },
  {
   "cell_type": "markdown",
   "metadata": {},
   "source": [
    "This one is straightforward"
   ]
  },
  {
   "cell_type": "code",
   "execution_count": null,
   "metadata": {},
   "outputs": [],
   "source": [
    "H_test = Q_test@Q_test\n",
    "print(linalg.ishermitian(H_test))"
   ]
  },
  {
   "cell_type": "markdown",
   "metadata": {},
   "source": [
    "## 2. Check equation 1.4"
   ]
  },
  {
   "cell_type": "markdown",
   "metadata": {},
   "source": [
    "$H = Q^2 = E_0 + \\sum_{1\\le i<j<k<l\\le N} J_{ijkl} \\psi^i \\psi^j \\psi^k \\psi^l$\n",
    "\n",
    "Where\n",
    "\n",
    "$E_0 = \\sum_{1\\le i<j<k \\le N} C_{ijk}^2$\n",
    "\n",
    "and\n",
    "\n",
    "$J_{ijkl} = -\\frac{1}{8} \\sum_a C_{a[ij}C_{kl]a}$"
   ]
  },
  {
   "cell_type": "markdown",
   "metadata": {},
   "source": [
    "### 2.a. Let's start by computing the easy one"
   ]
  },
  {
   "cell_type": "code",
   "execution_count": null,
   "metadata": {},
   "outputs": [],
   "source": [
    "def get_E0(C):\n",
    "    E0 = 0\n",
    "    for i in range(N-2):\n",
    "        for j in range(i+1, N-1):\n",
    "            for k in range(j+1, N):\n",
    "                E0 += C[i,j,k]**2\n",
    "    return E0\n",
    "\n",
    "def get_E02(C):\n",
    "    C2 = C**2\n",
    "    #C2 = C2[:N-2, 1:N-1, 2:N]\n",
    "    E0 = np.sum(np.sum(np.sum(C2[:N-2], axis=0)[1:N-1], axis=0)[2:N], axis=0)\n",
    "    return E0\n",
    "\n",
    "E0_test = get_E0(C_test)\n",
    "E0_test2 = get_E02(C_test)\n",
    "print(E0_test)\n",
    "print(E0_test2)"
   ]
  },
  {
   "cell_type": "code",
   "execution_count": null,
   "metadata": {},
   "outputs": [],
   "source": [
    "a = C_test[0].real"
   ]
  },
  {
   "cell_type": "markdown",
   "metadata": {},
   "source": [
    "### 2.b. And the hard one..."
   ]
  },
  {
   "cell_type": "markdown",
   "metadata": {},
   "source": [
    "First, we need a function to compute the levi-civita value of some numbers (i, j, k, l)"
   ]
  },
  {
   "cell_type": "code",
   "execution_count": null,
   "metadata": {},
   "outputs": [],
   "source": [
    "# TODO: Not very elegant\n",
    "def antisymm_4(i, j, k, l): # <-- Assumes i,j,k,l already ordered\n",
    "    if (i==j) or (i==k) or (i==l) or (j==k) or (j==l) or (k==l):\n",
    "        return 0\n",
    "\n",
    "    out = {}\n",
    "    \n",
    "    # i first \n",
    "\n",
    "        # j second\n",
    "    out[(i, j, k, l)] = 1\n",
    "    out[(i, j, l, k)] = -1\n",
    "\n",
    "        # k second\n",
    "    out[(i, k, j, l)] = -1\n",
    "    out[(i, k, l, j)] = 1\n",
    "\n",
    "        # l second\n",
    "    out[(i, l, k, j)] = -1\n",
    "    out[(i, l, j, k)] = 1\n",
    "\n",
    "\n",
    "\n",
    "    # j first\n",
    "\n",
    "        # i second\n",
    "    out[(j, i, k, l)] = -1\n",
    "    out[(j, i, l, k)] = 1\n",
    "\n",
    "        # k second\n",
    "    out[(j, k, i, l)] = 1\n",
    "    out[(j, k, l, i)] = -1\n",
    "\n",
    "        # l second\n",
    "    out[(j, l, k, i)] = 1\n",
    "    out[(j, l, i, k)] = -1\n",
    "\n",
    "\n",
    "    # k first\n",
    "\n",
    "        # i second\n",
    "    out[(k, i, j, l)] = 1\n",
    "    out[(k, i, l, j)] = -1\n",
    "\n",
    "        # j second\n",
    "    out[(k, j, i, l)] = -1\n",
    "    out[(k, j, l, i)] = 1\n",
    "\n",
    "        # l second\n",
    "    out[(k, l, i, j)] = 1\n",
    "    out[(k, l, j, i)] = -1\n",
    "\n",
    "\n",
    "\n",
    "    # l first\n",
    "    \n",
    "        # j second\n",
    "    out[(l, i, j, k)] = -1\n",
    "    out[(l, i, k, j)] = 1\n",
    "\n",
    "        # j second\n",
    "    out[(l, j, i, k)] = 1\n",
    "    out[(l, j, k, i)] = -1\n",
    "\n",
    "        # k second\n",
    "    out[(l, k, j, i)] = 1\n",
    "    out[(l, k, i, j)] = -1\n",
    "\n",
    "    return out\n",
    "\n",
    "out = antisymm_4(0,1,2,3)\n",
    "print(sum(out.values()))"
   ]
  },
  {
   "cell_type": "code",
   "execution_count": null,
   "metadata": {},
   "outputs": [],
   "source": [
    "def get_J_a(C, a, i, j, k, l):\n",
    "    C_left = C[a,:,:]\n",
    "    C_right = C[:,:,a]\n",
    "\n",
    "    permutations = antisymm_4(i, j, k, l)\n",
    "    out = 0\n",
    "    for perm, sign in permutations.items():\n",
    "        out += C_left[perm[:2]]*C_right[perm[2:]]*sign\n",
    "    return out\n",
    "\n",
    "def get_J_ijkl(C, i, j, k, l):\n",
    "    sum = 0\n",
    "    for a in range(N):\n",
    "        sum += get_J_a(C, a, i, j, k, l)\n",
    "    out = -sum/8\n",
    "    return out\n"
   ]
  },
  {
   "cell_type": "code",
   "execution_count": null,
   "metadata": {},
   "outputs": [],
   "source": [
    "H_long_way = E0_test2*np.identity(N_DIM)\n",
    "\n",
    "tic = time.time()\n",
    "\n",
    "for i in range(N-3):\n",
    "    for j in range(i+1, N-2):\n",
    "        for k in range(j+1, N-1):\n",
    "            for l in range(k+1, N):\n",
    "                H_long_way += get_J_ijkl(C_test, i, j, k, l)*psi_pairs[i*N+j]@psi_pairs[k*N+l]\n",
    "\n",
    "duration = time.time() - tic\n",
    "print(f\"Duration: {duration//60} minutes, {duration%60} seconds\")"
   ]
  },
  {
   "cell_type": "code",
   "execution_count": null,
   "metadata": {},
   "outputs": [],
   "source": [
    "print(np.allclose(H_test, H_long_way))"
   ]
  },
  {
   "cell_type": "code",
   "execution_count": null,
   "metadata": {},
   "outputs": [],
   "source": [
    "abs_diff = np.array(np.abs(H_test - H_long_way))\n",
    "print(np.sum(np.sum(abs_diff)))\n"
   ]
  },
  {
   "cell_type": "code",
   "execution_count": null,
   "metadata": {},
   "outputs": [],
   "source": []
  }
 ],
 "metadata": {
  "kernelspec": {
   "display_name": "phys417",
   "language": "python",
   "name": "python3"
  },
  "language_info": {
   "codemirror_mode": {
    "name": "ipython",
    "version": 3
   },
   "file_extension": ".py",
   "mimetype": "text/x-python",
   "name": "python",
   "nbconvert_exporter": "python",
   "pygments_lexer": "ipython3",
   "version": "3.8.16"
  },
  "orig_nbformat": 4
 },
 "nbformat": 4,
 "nbformat_minor": 2
}
