{
 "cells": [
  {
   "cell_type": "code",
   "execution_count": 1,
   "metadata": {},
   "outputs": [],
   "source": [
    "import os \n",
    "import time\n",
    "import copy\n",
    "from tqdm import tqdm\n",
    "\n",
    "import numpy as np \n",
    "import matplotlib.pyplot as plt\n",
    "import scipy\n",
    "from scipy import sparse, linalg, fft\n",
    "from scipy.linalg import expm, sinm, cosm\n",
    "import scipy.integrate as integrate\n",
    "from scipy.integrate import quad\n",
    "import pandas as pd\n",
    "\n",
    "from joblib import Parallel, delayed\n",
    "from numba import jit, njit, prange\n",
    "\n",
    "import functools\n",
    "\n",
    "############ Macros ###############\n",
    "np.random.seed(0)\n",
    "\n",
    "# Physical constants\n",
    "K = 9 # number of fermionic modes\n",
    "J = 4 # ~\"energy scale\"\n",
    "Q_COUPLING = 3 # order of coupling, don't want to use the letter 'Q' because that denotes the supercharge\n",
    "N = 2*K # number of fermions\n",
    "N_DIM = 2**K # Hilbert space dimension\n",
    "\n",
    "N_SAMPLES = 100 # number of samples to generate\n",
    "N_JOBS = 20 # number of jobs to run in parallel\n"
   ]
  },
  {
   "cell_type": "markdown",
   "metadata": {},
   "source": [
    "Just like normal SYK, we're still interested in Majorana fermions..."
   ]
  },
  {
   "cell_type": "markdown",
   "metadata": {},
   "source": [
    "## 1. Define fermionic modes"
   ]
  },
  {
   "cell_type": "code",
   "execution_count": 2,
   "metadata": {},
   "outputs": [],
   "source": [
    "cr = sparse.csr_array(np.array([[0,1],[0,0]]))\n",
    "an = sparse.csr_array(np.array([[0,0],[1,0]]))\n",
    "id = sparse.csr_array(np.identity(2))\n",
    "id2 = sparse.csr_array(np.array([[-1,0],[0,1]]))\n",
    "\n",
    "def c(n):\n",
    "    factors = [id for i in range(n-1)]+[cr]+[id2 for i in range(K-n)]\n",
    "    out = factors[0]\n",
    "    for i in range(1, K):\n",
    "        out = sparse.kron(out,factors[i])\n",
    "    return out\n",
    "\n",
    "def cd(n):\n",
    "    factors = [id for i in range(n-1)]+[an]+[id2 for i in range(K-n)]\n",
    "    out = factors[0]\n",
    "    for i in range(1, K):\n",
    "        out = sparse.kron(out,factors[i])\n",
    "    return out"
   ]
  },
  {
   "cell_type": "markdown",
   "metadata": {},
   "source": [
    "### 1.a. Check that fermionic modes satisfy algebra"
   ]
  },
  {
   "cell_type": "markdown",
   "metadata": {},
   "source": [
    "$\\{c_i, c_j\\}=\\{c_i^\\dagger, c_j^\\dagger\\}=0$,     $\\{c_i,c_j^\\dagger\\}=\\delta_{ij}$"
   ]
  },
  {
   "cell_type": "code",
   "execution_count": 3,
   "metadata": {},
   "outputs": [
    {
     "name": "stdout",
     "output_type": "stream",
     "text": [
      "Duration: 0.0 minutes, 4.740898609161377 seconds\n",
      "Fermionic mode algebra satisfied: True\n"
     ]
    }
   ],
   "source": [
    "def anticommutator(a,b):\n",
    "    return a@b+b@a\n",
    "    \n",
    "c_algebra_satisfied = True\n",
    "tic = time.time()\n",
    "for i in range(1,K+1):\n",
    "    c_i = c(i)\n",
    "    cd_i = cd(i)\n",
    "    \n",
    "    for j in range(1,K+1):\n",
    "        c_j = c(j)\n",
    "        cd_j = cd(j)\n",
    "\n",
    "        ac_ci_cj = anticommutator(c_i, c_j).toarray()\n",
    "        if not np.allclose(ac_ci_cj, np.zeros((N_DIM, N_DIM))):\n",
    "            c_algebra_satisfied = False\n",
    "\n",
    "        ac_cdi_cdj = anticommutator(cd_i, cd_j).toarray()\n",
    "        if not np.allclose(ac_cdi_cdj, np.zeros((N_DIM, N_DIM))):\n",
    "            c_algebra_satisfied = False\n",
    "\n",
    "        ac_ci_cdj = anticommutator(c_i, cd_j).toarray()\n",
    "        if i==j:\n",
    "            if not np.allclose(ac_ci_cdj, np.identity(N_DIM)):\n",
    "                c_algebra_satisfied = False\n",
    "        else:\n",
    "            if not np.allclose(ac_ci_cdj, np.zeros((N_DIM, N_DIM))):\n",
    "                c_algebra_satisfied = False\n",
    "\n",
    "toc = time.time()\n",
    "duration = toc - tic\n",
    "print(f\"Duration: {duration//60} minutes, {duration%60} seconds\")\n",
    "\n",
    "print(f\"Fermionic mode algebra satisfied: {c_algebra_satisfied}\")"
   ]
  },
  {
   "cell_type": "markdown",
   "metadata": {},
   "source": [
    "## 2. Define fermions"
   ]
  },
  {
   "cell_type": "code",
   "execution_count": null,
   "metadata": {},
   "outputs": [],
   "source": [
    "psi = [None for i in range(N)] \n",
    "for i in range(1,K+1):\n",
    "    psi[2*(i-1)] = sparse.csr_matrix((c(i)+cd(i))/np.sqrt(2))\n",
    "    psi[2*(i-1)+1] = sparse.csr_matrix((c(i)-cd(i))*(-1j/np.sqrt(2)))"
   ]
  },
  {
   "cell_type": "markdown",
   "metadata": {},
   "source": [
    "### 2.a. Check that fermions satisfy algebra"
   ]
  },
  {
   "cell_type": "markdown",
   "metadata": {},
   "source": [
    "$\\{\\psi_i, \\psi_j\\} = \\delta_{ij}$"
   ]
  },
  {
   "cell_type": "code",
   "execution_count": null,
   "metadata": {},
   "outputs": [],
   "source": [
    "psi_algebra_satisfied = True\n",
    "for i in range(N):\n",
    "    psi_i = psi[i]\n",
    "\n",
    "    for j in range(N):\n",
    "        psi_j = psi[j]\n",
    "\n",
    "        ac_pi_pj = anticommutator(psi_i, psi_j)\n",
    "\n",
    "        if i==j:\n",
    "            if not np.allclose(ac_pi_pj.toarray(), np.identity(N_DIM)):\n",
    "                psi_algebra_satisfied = False\n",
    "                \n",
    "        else:\n",
    "            if not np.allclose(ac_pi_pj.toarray(), np.zeros((N_DIM, N_DIM))):\n",
    "                psi_algebra_satisfied = False\n",
    "        \n",
    "print(f\"Fermion algebra satisfied: {psi_algebra_satisfied}\")"
   ]
  },
  {
   "cell_type": "markdown",
   "metadata": {},
   "source": [
    "## Define the supercharge, Q"
   ]
  },
  {
   "cell_type": "markdown",
   "metadata": {},
   "source": [
    "First let's quickly precompute pairwise inner-product"
   ]
  },
  {
   "cell_type": "code",
   "execution_count": null,
   "metadata": {},
   "outputs": [],
   "source": [
    "psi_pairs = [None for i in range(N**2)] \n",
    "for i in range(N-1):\n",
    "    for j in range(i+1, N):\n",
    "        index = i*N+j\n",
    "        psi_pairs[index] = psi[i]@psi[j]"
   ]
  },
  {
   "cell_type": "code",
   "execution_count": null,
   "metadata": {},
   "outputs": [],
   "source": [
    "sigma_c = np.sqrt(2*J/(N**2))\n",
    "cs_test = np.random.normal(0, sigma_c, size=(N, N, N))\n",
    "\n",
    "Q = sparse.csr_matrix(np.zeros((N_DIM, N_DIM), dtype=np.complex128))\n",
    "for i in range(N-2):\n",
    "    for j in range(i+1, N-1):\n",
    "        for k in range(j+1, N):\n",
    "            Q += (1j**(Q_COUPLING))*cs_test[i,j,k]*psi[i]@psi[j]@psi[k]\n",
    "\n",
    "iv = np.linalg.eigvalsh(Q.toarray())\n",
    "plt.figure()\n",
    "plt.hist(iv, bins=30)\n",
    "plt.title(\"Eigenvalues of the supercharge, Q\")\n",
    "plt.show()\n",
    "plt.close()\n",
    "\n",
    "print(\"Q hermitian: \", linalg.ishermitian(Q.toarray()))"
   ]
  },
  {
   "cell_type": "code",
   "execution_count": null,
   "metadata": {},
   "outputs": [],
   "source": [
    "Q_COUPLING=3\n",
    "sigma_c = np.sqrt(2*J/(N**2))\n",
    "cs_test = np.random.normal(0, sigma_c, size=(N, N, N))\n",
    "\n",
    "Q = sparse.csr_matrix(np.zeros((N_DIM, N_DIM), dtype=np.complex128))\n",
    "for i in range(N-2):\n",
    "    for j in range(i+1, N-1):\n",
    "        index_ij = i*N+j\n",
    "        psi_ij = psi_pairs[index_ij]\n",
    "\n",
    "        for k in range(j+1, N):\n",
    "            psi_k = psi[k]\n",
    "            Q += cs_test[i,j,k]*psi_ij@psi_k\n",
    "\n",
    "exp = Q_COUPLING\n",
    "Q *= (1j**exp)\n",
    "iv = np.linalg.eigvalsh(Q.toarray())\n",
    "plt.figure()\n",
    "plt.hist(iv, bins=30)\n",
    "plt.title(\"Eigenvalues of the supercharge, Q\")\n",
    "plt.show()\n",
    "plt.close()\n",
    "\n",
    "print(\"Q hermitian: \", linalg.ishermitian(Q.toarray()))"
   ]
  },
  {
   "cell_type": "markdown",
   "metadata": {},
   "source": [
    "How about Q=2 or 5?"
   ]
  },
  {
   "cell_type": "code",
   "execution_count": null,
   "metadata": {},
   "outputs": [],
   "source": [
    "Q_COUPLING=2\n",
    "sigma_c = np.sqrt(2*J/(N**2))\n",
    "cs_test = np.random.normal(0, sigma_c, size=(N, N))\n",
    "\n",
    "Q = sparse.csr_matrix(np.zeros((N_DIM, N_DIM), dtype=np.complex128))\n",
    "for i in range(N-1):\n",
    "    for j in range(i+1, N):\n",
    "        Q += cs_test[i,j]*psi_pairs[i*N+j]\n",
    "\n",
    "exp = Q_COUPLING/2\n",
    "Q *= (1j**exp)*Q\n",
    "\n",
    "iv = np.linalg.eigvalsh(Q.toarray())\n",
    "plt.figure()\n",
    "plt.hist(iv, bins=30)\n",
    "plt.title(\"Eigenvalues of the supercharge, Q\")\n",
    "plt.show()\n",
    "plt.close()\n",
    "\n",
    "print(\"Q hermitian: \", linalg.ishermitian(Q.toarray()))"
   ]
  },
  {
   "cell_type": "code",
   "execution_count": null,
   "metadata": {},
   "outputs": [],
   "source": [
    "Q_COUPLING = 5\n",
    "sigma_c = np.sqrt(2*J/(N**2))\n",
    "cs_test = np.random.normal(0, sigma_c, size=(N, N, N, N, N))\n",
    "\n",
    "Q = sparse.csr_matrix(np.zeros((N_DIM, N_DIM), dtype=np.complex128))\n",
    "for i in range(N-4):\n",
    "    for j in range(i+1, N-3):\n",
    "        psi_ij = psi_pairs[i*N+j]\n",
    "        \n",
    "        for k in range(j+1, N-2):\n",
    "            for l in range(k+1, N-1):\n",
    "                psi_kl = psi_pairs[k*N+l]\n",
    "\n",
    "                for m in range(l+1, N):\n",
    "                    Q += cs_test[i,j,k,l,m]*psi_ij@psi_kl@psi[m]\n",
    "\n",
    "exp = Q_COUPLING-1\n",
    "Q *= (1j**exp)\n",
    "\n",
    "iv = np.linalg.eigvalsh(Q.toarray())\n",
    "plt.figure()\n",
    "plt.hist(iv, bins=30)\n",
    "plt.title(\"Eigenvalues of the supercharge, Q\")\n",
    "plt.show()\n",
    "plt.close()\n",
    "\n",
    "print(\"Q hermitian: \", linalg.ishermitian(Q.toarray()))"
   ]
  }
 ],
 "metadata": {
  "kernelspec": {
   "display_name": "phys417",
   "language": "python",
   "name": "python3"
  },
  "language_info": {
   "codemirror_mode": {
    "name": "ipython",
    "version": 3
   },
   "file_extension": ".py",
   "mimetype": "text/x-python",
   "name": "python",
   "nbconvert_exporter": "python",
   "pygments_lexer": "ipython3",
   "version": "3.8.16"
  },
  "orig_nbformat": 4
 },
 "nbformat": 4,
 "nbformat_minor": 2
}
