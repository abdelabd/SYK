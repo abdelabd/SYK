{
 "cells": [
  {
   "cell_type": "markdown",
   "metadata": {},
   "source": [
    "Hypothesis: It's really only worth using this for very large Hamiltonians, large enough that you can't precompute the fermion inner-products and hold them in memory. Otherwise, the benefit of precomputing the inner-products far outweighs anything you'll get from Numba/Cuda. "
   ]
  },
  {
   "cell_type": "code",
   "execution_count": 1,
   "metadata": {},
   "outputs": [],
   "source": [
    "import os \n",
    "import time\n",
    "import copy\n",
    "from tqdm import tqdm\n",
    "\n",
    "import numpy as np \n",
    "import math\n",
    "import matplotlib.pyplot as plt\n",
    "import scipy\n",
    "import pandas as pd\n",
    "\n",
    "from joblib import Parallel, delayed\n",
    "from numba import jit, njit, prange, cuda, float32, float64, complex64, complex128, types\n",
    "import numba as nb\n",
    "\n",
    "np.random.seed(0)\n",
    "\n",
    "# Global variables\n",
    "TPB = 16 # threads per block\n",
    "BPG_MULTIPLIER = 1 # blocks per grid multiplier\n",
    "REAL_FLOAT_TYPE = np.float64\n",
    "REAL_COMPLEX_TYPE = np.complex128\n",
    "REAL_INT_TYPE = np.int32\n",
    "LOAD_PYTHON = False#True # Whether to generate Hamiltonians or load them from file (along with the associated coefficients, of course)\n",
    "\n",
    "\n",
    "# Physical constants\n",
    "K=7 # number of fermionic modes\n",
    "J=4 # ~\"energy scale\"\n",
    "Q=3 # order of coupling\n",
    "N = 2*K # number of fermions\n",
    "N_DIM = 2**K # Hilbert space dimensions\n",
    "\n",
    "N_SAMPLES = 10 # number of samples to generate\n",
    "N_JOBS = 20 # number of jobs to run in parallel"
   ]
  },
  {
   "cell_type": "markdown",
   "metadata": {},
   "source": [
    "# 1. Define Python Hamiltonian as benchmark"
   ]
  },
  {
   "cell_type": "code",
   "execution_count": 5,
   "metadata": {},
   "outputs": [],
   "source": [
    "#### Define fermionic modes\n",
    "cr = np.array([[0,1],[0,0]])\n",
    "an = np.array([[0,0],[1,0]])\n",
    "id = np.identity(2)\n",
    "id2 = np.array([[-1,0],[0,1]])\n",
    "\n",
    "def c(n):\n",
    "    factors = [id for i in range(n-1)]+[cr]+[id2 for i in range(K-n)]\n",
    "    out = factors[0]\n",
    "    for i in range(1, K):\n",
    "        out = np.kron(out,factors[i])\n",
    "    return out\n",
    "\n",
    "def cd(n):\n",
    "    factors = [id for i in range(n-1)]+[an]+[id2 for i in range(K-n)]\n",
    "    out = factors[0]\n",
    "    for i in range(1, K):\n",
    "        out = np.kron(out,factors[i])\n",
    "    return out\n",
    "\n",
    "#### Define fermions\n",
    "# Compute first N psi's\n",
    "psi_h = np.zeros((N, N_DIM, N_DIM), dtype=np.complex128)\n",
    "for i in range(1,K+1):\n",
    "    psi_h[2*(i-1)] = (c(i)+cd(i))/np.sqrt(2)\n",
    "    psi_h[2*(i-1)+1] = (c(i)-cd(i))*(-1j/np.sqrt(2))\n",
    "\n",
    "psi_d = cuda.to_device(psi_h)\n",
    "\n",
    "def H3_python(js): #js being the random coefficients\n",
    "    # Compute Hamiltonian\n",
    "    H = np.zeros((N_DIM, N_DIM), dtype=np.complex128)\n",
    "    for i in range(N-2):\n",
    "        psi_i = psi_h[i]\n",
    "        for j in range(i+1, N-1):\n",
    "            psi_ij=psi_i@psi_h[j]\n",
    "            for k in range(j+1, N):\n",
    "                psi_ijk = psi_ij@psi_h[k]\n",
    "                H += (1j**(Q/2))*js[i, j, k]*psi_ijk\n",
    "\n",
    "    return H\n",
    "\n",
    "#### Generate random coefficients\n",
    "sigma_j = np.sqrt((J**2)*np.math.factorial(Q-1)/(N**(Q-1)))\n",
    "js_all = [np.random.normal(0, sigma_j, size=tuple([N for i in range(Q)])) for j in range(N_SAMPLES+1)]"
   ]
  },
  {
   "cell_type": "code",
   "execution_count": 3,
   "metadata": {},
   "outputs": [
    {
     "name": "stdout",
     "output_type": "stream",
     "text": [
      "Hamiltonian generation, python: 0.0 minutes, 0.12907838821411133 seconds\n"
     ]
    }
   ],
   "source": [
    "# Test: 55.O SECONDS\n",
    "js_test = js_all[0]\n",
    "H3_python_test = H3_python(js_test)\n",
    "\n",
    "# For K=7: 0.2 seconds\n",
    "# For K=10: 62.3 SECONDS\n",
    "if LOAD_PYTHON:\n",
    "    js_test = np.load(os.path.join(\"Excel\", \"Benchmarks\", \"js4_benchmark.npy\"))\n",
    "    H3_python_test = np.load(os.path.join(\"Excel\", \"Benchmarks\", \"H3_python_benchmark.npy\"))\n",
    "else:                   \n",
    "    js_test = js_all[0]\n",
    "\n",
    "    tic = time.time()\n",
    "    H3_python_test = H3_python(js_test)\n",
    "    toc = time.time()\n",
    "    duration = toc-tic\n",
    "    print(f\"Hamiltonian generation, python: {duration//60} minutes, {duration%60} seconds\")"
   ]
  },
  {
   "cell_type": "markdown",
   "metadata": {},
   "source": [
    "# 2. Define CUDA Hamiltonian"
   ]
  },
  {
   "cell_type": "markdown",
   "metadata": {},
   "source": [
    "Method: Use thread-index to determine which value of $(i^{Q/2})*J_{ijk} \\psi_i \\psi_j \\psi_k$ that the thread is responsible for computing and adding to the total Hamiltonian"
   ]
  },
  {
   "cell_type": "code",
   "execution_count": 25,
   "metadata": {},
   "outputs": [
    {
     "name": "stderr",
     "output_type": "stream",
     "text": [
      "c:\\Users\\abdel\\anaconda3\\envs\\phys417_clone_07_10_23\\lib\\site-packages\\numba\\cuda\\dispatcher.py:488: NumbaPerformanceWarning: \u001b[1mGrid size 64 will likely result in GPU under-utilization due to low occupancy.\u001b[0m\n",
      "  warn(NumbaPerformanceWarning(msg))\n"
     ]
    },
    {
     "name": "stdout",
     "output_type": "stream",
     "text": [
      "Duration: 0.31600046157836914 seconds\n"
     ]
    }
   ],
   "source": [
    "#TODO: thread_sync, grid_sync, shared memory\n",
    "@cuda.jit(device=True)\n",
    "def matmul_device(A, B, C):\n",
    "    \"\"\"Perform square matrix multiplication of C = A * B\n",
    "    \"\"\"\n",
    "    for i in range(N_DIM):\n",
    "        for j in range(N_DIM):\n",
    "            tmp = 0.\n",
    "            for k in range(N_DIM):\n",
    "                tmp += A[i, k] * B[k, j]\n",
    "        C[i, j] = tmp\n",
    "\n",
    "@cuda.jit(inline=True, device=True)\n",
    "def matmul_vecarr_device(A, B, C):\n",
    "    \"\"\"Perform square matrix multiplication of C = A * B\n",
    "    \"\"\"\n",
    "    for i in range(N_DIM):\n",
    "        tmp = 0.\n",
    "        for j in range(N_DIM):\n",
    "            tmp += A[j] * B[i,j]\n",
    "        C[i] = tmp\n",
    "\n",
    "\n",
    "@cuda.jit()#(types.void(types.float64[:,:], types.complex128[:,:], types.complex128[:,:]), debug=True)\n",
    "def H3_cuda(js, H3, psi):\n",
    "    i, j, k = cuda.grid(3)\n",
    "    #TODO: Use shared memory to store psi_ij and psi_ijk\n",
    "    \n",
    "    if (i<N-2) and (i<j<N-1) and (j<k<N):\n",
    "        \n",
    "        psi_i = psi[i]\n",
    "        psi_j = psi[j]\n",
    "        psi_k = psi[k]\n",
    "        j_ijk = js[i, j, k]\n",
    "\n",
    "        psi_ij = cuda.shared.array(shape=(N_DIM, N_DIM), dtype=np.complex128)\n",
    "        #for i in range(N_DIM): # method 1\n",
    "\n",
    "         #   matmul_vecarr_device(psi_i[i], psi_j, psi_ij[i]) #method 2\n",
    "        #matmul_device(psi_i, psi_j, psi_ij)\n",
    "\n",
    "        # this one works for some reason\n",
    "        psi_i1 = psi_i[1,:]\n",
    "        psi_i1j = cuda.shared.array(shape=(N_DIM,), dtype=np.complex128)\n",
    "        matmul_vecarr_device(psi_i1, psi_j, psi_i1j)\n",
    "\n",
    "    \n",
    "        #manual matmul\n",
    "        for ii in range(N_DIM):\n",
    "            later = \"\"\"\n",
    "            for jj in range(N_DIM):\n",
    "                tmp = 0.\n",
    "                for kk in range(N_DIM):\n",
    "                    tmp += psi_i[ii, kk] * psi_j[kk, jj]\n",
    "                psi_ij[ii, jj] = tmp\n",
    "\n",
    "        psi_ijk = cuda.shared.array(shape=(N_DIM, N_DIM), dtype=np.complex128)\n",
    "        #fast_matmul(psi_ij, psi_k, psi_ijk)\n",
    "\n",
    "        #for alpha in range(H3.shape[0]):\n",
    "            #for beta in range(H3.shape[1]):\n",
    "                #cuda.atomic.add(H3, (alpha, beta), (1j**(Q/2))*j_ijk*psi_ijk[alpha, beta])\n",
    "                #pass\n",
    "\n",
    "        #cuda.atomic.add(H3, (i, j), (1j**(Q/2))*j_ijk*psi_ijk)\"\"\"\n",
    "\n",
    "js_test_h = js_all[0].astype(np.complex128)\n",
    "js_test_d = cuda.to_device(js_test_h)\n",
    "\n",
    "H3_cuda_test_h = np.zeros((N_DIM, N_DIM), dtype=np.complex128)\n",
    "H3_cuda_test_d = cuda.to_device(H3_cuda_test_h)\n",
    "\n",
    "threadsperblock = (TPB, TPB)\n",
    "blockspergrid_x = math.ceil(H3_cuda_test_h.shape[0] / threadsperblock[0])\n",
    "blockspergrid_y = math.ceil(H3_cuda_test_h.shape[1] / threadsperblock[1])\n",
    "blockspergrid = (blockspergrid_x, blockspergrid_y)\n",
    "\n",
    "tic = time.time()\n",
    "H3_cuda[blockspergrid, threadsperblock](js_test_d, H3_cuda_test_d, psi_d)\n",
    "toc = time.time()\n",
    "duration = toc-tic\n",
    "print(f\"Duration: {duration} seconds\")\n"
   ]
  },
  {
   "cell_type": "code",
   "execution_count": 22,
   "metadata": {},
   "outputs": [
    {
     "name": "stdout",
     "output_type": "stream",
     "text": [
      "False\n",
      "False\n"
     ]
    }
   ],
   "source": [
    "print(np.allclose(H3_python_test, H3_cuda_test_h))\n",
    "print(np.allclose(H3_python_test.real, H3_cuda_test_h.real))"
   ]
  },
  {
   "cell_type": "code",
   "execution_count": null,
   "metadata": {},
   "outputs": [],
   "source": [
    "@cuda.jit()\n",
    "def matmul(A, B, C):\n",
    "    \"\"\"Perform square matrix multiplication of C = A * B\n",
    "    \"\"\"\n",
    "    for i in range(A.shape[0]):\n",
    "        for j in range(A.shape[0]):\n",
    "            tmp = 0.\n",
    "            for k in range(A.shape[0]):\n",
    "                tmp += A[i, k] * B[k, j]\n",
    "        C[i, j] = tmp\n",
    "\n",
    "# Test\n",
    "js_test_h = js_all[0].astype(np.complex128)\n",
    "js_test_d = cuda.to_device(js_test_h)\n",
    "\n",
    "H3_test_h = np.zeros((N_DIM, N_DIM), dtype=np.complex128)\n",
    "H3_test_d = cuda.to_device(H3_test_h)\n",
    "\n",
    "\n",
    "for i in range(N-2):\n",
    "    psi_i = psi_d[i]\n",
    "    for j in range(i+1, N-1):\n",
    "        psi_j = psi_d[j]\n",
    "        \n",
    "\n",
    "        psi_ij = cuda.device_array(shape=(N_DIM, N_DIM), dtype=np.complex128)\n",
    "        threadsperblock = (TPB, TPB)\n",
    "        blockspergrid_x = math.ceil(N_DIM / threadsperblock[0])\n",
    "        blockspergrid_y = math.ceil(N_DIM / threadsperblock[1])\n",
    "        blockspergrid = (blockspergrid_x, blockspergrid_y)\n",
    "        matmul[blockspergrid, threadsperblock](psi_i, psi_j, psi_ij)\n",
    "\n",
    "        later = \"\"\"\n",
    "        for k in range(j+1,N_DIM):\n",
    "            psi_k = psi_d[k]\n",
    "\n",
    "            psi_ijk = cuda.device_array(shape=(N_DIM, N_DIM), dtype=np.complex128)\n",
    "            matmul[blockspergrid, threadsperblock](psi_ij, psi_k, psi_ijk)\n",
    "\n",
    "            j_ijk = js_test_d[i, j, k]\n",
    "            H3_test_d += j_ijk*psi_ijk\"\"\"\n",
    "        \n"
   ]
  },
  {
   "cell_type": "code",
   "execution_count": null,
   "metadata": {},
   "outputs": [],
   "source": []
  }
 ],
 "metadata": {
  "kernelspec": {
   "display_name": "phys417_clone_07_10_23",
   "language": "python",
   "name": "python3"
  },
  "language_info": {
   "codemirror_mode": {
    "name": "ipython",
    "version": 3
   },
   "file_extension": ".py",
   "mimetype": "text/x-python",
   "name": "python",
   "nbconvert_exporter": "python",
   "pygments_lexer": "ipython3",
   "version": "3.8.16"
  },
  "orig_nbformat": 4
 },
 "nbformat": 4,
 "nbformat_minor": 2
}
