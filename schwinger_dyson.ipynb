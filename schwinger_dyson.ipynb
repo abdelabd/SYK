{
 "cells": [
  {
   "cell_type": "code",
   "execution_count": 1,
   "metadata": {},
   "outputs": [],
   "source": [
    "################# Test parameters ######################\n",
    "\n",
    "# Actual physical parameters\n",
    "BETA = 10 # inverse temperature\n",
    "K = 7 # number of fermionic modes <-- They use K=17 in the paper\n",
    "J = 9\n",
    "Q = 4\n",
    "LAMBDA_1 = 1\n",
    "LAMBDA_2 = 10\n",
    "TAU_TEST = 1/4\n",
    "\n",
    "# Computational stuff\n",
    "N_ITER = 11 # Number of iterations for which run the Schwinger-Dyson equation"
   ]
  },
  {
   "cell_type": "code",
   "execution_count": 2,
   "metadata": {},
   "outputs": [],
   "source": [
    "import os \n",
    "import time\n",
    "import copy\n",
    "from tqdm import tqdm\n",
    "\n",
    "import numpy as np \n",
    "import matplotlib.pyplot as plt\n",
    "import scipy\n",
    "from scipy import sparse, linalg, fft\n",
    "from scipy.linalg import expm, sinm, cosm\n",
    "import scipy.integrate as integrate\n",
    "from scipy.integrate import quad\n",
    "import pandas as pd\n",
    "\n",
    "from joblib import Parallel, delayed\n",
    "from numba import jit, njit, prange\n",
    "\n",
    "\n",
    "################## Locals #############################\n",
    "from hamiltonian_generation import make_H4_sparse\n",
    "\n",
    "\n",
    "#################### Macros #############################\n",
    "np.random.seed(0)\n",
    "\n",
    "# Physical constants\n",
    "N = 2*K # number of fermions\n",
    "N_DIM = 2**K # Hilbert space dimensions\n",
    "TAU_RANGE = np.arange(-BETA, BETA, 0.1) # imaginary-time domain\n",
    "\n",
    "# Computational stuff\n",
    "N_SAMPLES = 160 # number of samples to generate\n",
    "N_JOBS = 20 # number of jobs to run in parallel\n",
    "E_ORDER = 19 # Order to keep of matrix-exponential expansion. Also not given in the paper.\n",
    "\n",
    "# Directory to save sample Hamiltonians\n",
    "H_DIR = os.path.join(\"Simulated Hamiltonians\", f\"H4_K{K}_J{J}_Q{Q}\")\n",
    "os.makedirs(H_DIR, exist_ok=True)\n",
    "\n",
    "######## Define Hamiltonian function ###################\n",
    "H4_func, psi, psi_pairs, psi_quads = make_H4_sparse(K, J, precompute_pairs = True, precompute_quads = True)\n",
    "\n",
    "####### Define test set ################################\n",
    "try:\n",
    "    js_test = np.load(os.path.join(\"Excel\", \"Benchmarks\", f\"js_test_K{K}_J{J}_Q{Q}.npy\"))\n",
    "    H_test = np.load(os.path.join(\"Excel\", \"Benchmarks\", f\"H_test_K{K}_J{J}_Q{Q}.npy\"))\n",
    "    iv_test = np.load(os.path.join(\"Excel\", \"Benchmarks\", f\"iv_test_K{K}_J{J}_Q{Q}.npy\"))\n",
    "except FileNotFoundError: \n",
    "    sigma_j = np.sqrt((J**2)*np.math.factorial(Q-1)/(N**(Q-1)))\n",
    "    j_test = np.random.normal(0, sigma_j, size=tuple([N for i in range(Q)]))\n",
    "    H_test = H4_func(j_test).toarray()\n",
    "    iv_test = np.linalg.eigvalsh(H_test)\n",
    "\n",
    "    np.save(os.path.join(\"Excel\", \"Benchmarks\", f\"js_test_K{K}_J{J}_Q{Q}.npy\"), j_test)\n",
    "    np.save(os.path.join(\"Excel\", \"Benchmarks\", f\"H_test_K{K}_J{J}_Q{Q}.npy\"), H_test)\n",
    "    np.save(os.path.join(\"Excel\", \"Benchmarks\", f\"iv_test_K{K}_J{J}_Q{Q}.npy\"), iv_test)"
   ]
  },
  {
   "cell_type": "markdown",
   "metadata": {},
   "source": [
    "## Define fast matrix-exponential"
   ]
  },
  {
   "cell_type": "code",
   "execution_count": 3,
   "metadata": {},
   "outputs": [],
   "source": [
    "# Define matrix exponential function\n",
    "# For K=10, E_ORDER=19 is optimal\n",
    "# For K=12, E_ORDER=13 is optimal\n",
    "# See \"spectral_form_factor.ipynb\"\n",
    "\n",
    "def matrix_exponential(A, n): # A = matrix, n = order of expansion\n",
    "    out = np.zeros(A.shape, dtype=np.complex128)\n",
    "    last_term = np.identity(A.shape[0])\n",
    "    out += last_term\n",
    "    for i in range(1, n+1):\n",
    "        last_term = last_term @ A / i\n",
    "        out += last_term\n",
    "    return out"
   ]
  },
  {
   "cell_type": "markdown",
   "metadata": {},
   "source": [
    "## Define exact, finite-N 2-point function"
   ]
  },
  {
   "cell_type": "code",
   "execution_count": 4,
   "metadata": {},
   "outputs": [],
   "source": [
    "\n",
    "def G_finite_exact(psi_a, psi_b, H, tau, beta, lam):\n",
    "    # psi_a, psi_b = fermions\n",
    "    # tau = imaginary time\n",
    "    # beta = inverse temperature\n",
    "    # lam = beta*J\n",
    "    # Note: a,b,tau,beta,lam are all scalars\n",
    "\n",
    "    # Note that this if/else basically defines the time-ordering operator\n",
    "    if tau>0: \n",
    "        E_tau = matrix_exponential(-tau*H*lam, E_ORDER)\n",
    "        E_beta_tau = matrix_exponential((-beta+tau)*H*lam, E_ORDER)\n",
    "        #E_tau = expm(-tau*H*lam)\n",
    "        #E_beta_tau = expm((-beta+tau)*H*lam)\n",
    "        num = np.trace(E_beta_tau @ psi_a @ E_tau @ psi_b)\n",
    "        den = np.trace(E_beta_tau @ E_tau)\n",
    "        return num/den\n",
    "    else:\n",
    "        E_tau = matrix_exponential(tau*H*lam, E_ORDER)\n",
    "        E_beta_tau = matrix_exponential(-(beta+tau)*H*lam, E_ORDER)\n",
    "        #E_tau = expm(tau*H*lam)\n",
    "        #E_beta_tau = expm(-(beta+tau)*H*lam)\n",
    "        num = np.trace(E_beta_tau @ psi_b @ E_tau @ psi_a)\n",
    "        den = np.trace(E_beta_tau @ E_tau)\n",
    "        return -num/den"
   ]
  },
  {
   "cell_type": "code",
   "execution_count": 5,
   "metadata": {},
   "outputs": [],
   "source": [
    "later=\"\"\"\n",
    "def G_finite_exact(psi_a, psi_b, H, tau, beta, lam):\n",
    "    # psi_a, psi_b = fermions\n",
    "    # tau = imaginary time\n",
    "    # beta = inverse temperature\n",
    "    # lam = beta*J\n",
    "    # Note: a,b,tau,beta,lam are all scalars\n",
    "\n",
    "    # Note that this if/else basically defines the time-ordering operator\n",
    "    if tau>0: \n",
    "        E_tau = matrix_exponential(-tau*H*lam, E_ORDER)\n",
    "        E_beta_tau = matrix_exponential((-beta+tau)*H*lam, E_ORDER)\n",
    "        #E_tau = expm(-tau*H*lam)\n",
    "        #E_beta_tau = expm((-beta+tau)*H*lam)\n",
    "        num = np.trace(E_beta_tau @ psi_a @ E_tau @ psi_b)\n",
    "        den = np.trace(E_beta_tau @ E_tau)\n",
    "        return 0.5*np.sign(tau)+num/den\n",
    "    else:\n",
    "        E_tau = matrix_exponential(tau*H*lam, E_ORDER)\n",
    "        E_beta_tau = matrix_exponential(-(beta+tau)*H*lam, E_ORDER)\n",
    "        #E_tau = expm(tau*H*lam)\n",
    "        #E_beta_tau = expm(-(beta+tau)*H*lam)\n",
    "        num = np.trace(E_beta_tau @ psi_b @ E_tau @ psi_a)\n",
    "        den = np.trace(E_beta_tau @ E_tau)\n",
    "        return 0.5*np.sign(tau)-num/den\"\"\""
   ]
  },
  {
   "cell_type": "code",
   "execution_count": 6,
   "metadata": {},
   "outputs": [
    {
     "data": {
      "image/png": "[encoded data removed]",
      "text/plain": [
       "<Figure size 640x480 with 1 Axes>"
      ]
     },
     "metadata": {},
     "output_type": "display_data"
    }
   ],
   "source": [
    "psi_a = psi[0]\n",
    "psi_b = psi[0]\n",
    "\n",
    "G_finite_range = Parallel(n_jobs=N_JOBS)(delayed(G_finite_exact)(psi_a, psi_b, H_test, tau, BETA, LAMBDA_1) for tau in TAU_RANGE)\n",
    "G_finite_range = np.real(np.array(G_finite_range))\n",
    "\n",
    "plt.figure()\n",
    "plt.plot(TAU_RANGE, G_finite_range)\n",
    "plt.xlabel(r\"$\\theta$\")\n",
    "plt.ylabel(r\"$G(\\theta)$\")\n",
    "plt.title(\"Exact, finite-N solution\")\n",
    "plt.show()\n",
    "plt.close()"
   ]
  },
  {
   "cell_type": "markdown",
   "metadata": {},
   "source": [
    "## Define Schwinger-Dyson 2-point function (i.e. large-N limit of 2-point function)"
   ]
  },
  {
   "cell_type": "markdown",
   "metadata": {},
   "source": [
    "$\\Sigma^{(0)}(n)=0$\n",
    "\n",
    "$\\Sigma^{(i)}(n) = \\int_{-\\beta/2}^{\\beta/2} J^2 [G_{\\tau}^{(i-1)} (\\tau)]^{q-1} e^{i\\omega_{n}\\tau} d\\tau$\n",
    "\n",
    "$G^{(i)}(n) = -1/(i\\omega_{n}+\\Sigma^{(i)}(n))$\n",
    "\n",
    "$G_\\tau^{(i)}(\\tau) = \\frac{1}{2}sign(\\tau) + \\frac{1}{\\beta} \\sum_{n=-\\lambda}^\\lambda e^{-i \\omega_n \\tau} (G^{(i)}(n) - G^{(0)}(n))$\n",
    "\n",
    "$\\omega_n=\\frac{2\\pi}{\\beta}(n+1/2)$"
   ]
  },
  {
   "cell_type": "code",
   "execution_count": 7,
   "metadata": {},
   "outputs": [],
   "source": [
    "# TODO: Study numerical integration effects, discretization limit and errors, different integration method, parallelization\n",
    "\n",
    "sigma_memo = {}\n",
    "sigma_tau_memo = {}\n",
    "sigma_integrand_memo = {}\n",
    "G_memo = {}\n",
    "G_tau_memo = {}\n",
    "\n",
    "def sigma_tau(i, tau):\n",
    "    if (i,tau) in sigma_tau_memo:\n",
    "        return sigma_tau_memo[(i, tau)]\n",
    "    else:\n",
    "        out = (J**2)*(G_tau(i-1, tau)**(Q-1))\n",
    "        sigma_tau_memo[(i,tau)] = out\n",
    "    return out\n",
    "\n",
    "def sigma_integrand(tau, i, n):\n",
    "    if (tau, i, n) in sigma_integrand_memo:\n",
    "        return sigma_integrand_memo[(tau, i, n)]\n",
    "    else:\n",
    "        w_n = (2*np.pi/BETA)*(n+1/2)\n",
    "        integrand = (J**2)*(G_tau(i-1, tau)**(Q-1))*np.exp(1j*w_n*tau)\n",
    "        sigma_integrand_memo[(tau, i, n)] = integrand\n",
    "    return integrand\n",
    "\n",
    "def sigma(i,n):\n",
    "    if (i,n) in sigma_memo:\n",
    "        return sigma_memo[(i,n)]\n",
    "    else:\n",
    "        if i==0:\n",
    "            sigma_memo[(i,n)] = 0\n",
    "            return 0\n",
    "        else:\n",
    "            #integral = quad(sigma_integrand, -BETA/2, BETA/2, args=(i,nn))[0]\n",
    "            \n",
    "            #w_nn = (2*np.pi/BETA)*(nn+1/2)\n",
    "            #integrand = lambda tau: (J**2)*(G_tau(i-1, tau)**(Q-1))*np.exp(-1j*w_nn*tau)\n",
    "            #integral = integrate.quad(integrand, -BETA/2, BETA/2)[0]\n",
    "            # Doesn't work\n",
    "\n",
    "            #dtau=1e-4\n",
    "            #integrands = Parallel(n_jobs=N_JOBS)(delayed(sigma_integrand)(t, i, nn) for t in np.linspace(-BETA/2, BETA/2, int(1e4)))\n",
    "            #integral = dtau*np.sum(np.array(integrands))  \n",
    "            # Doesn't work\n",
    "\n",
    "            w_n = (2*np.pi/BETA)*(n+1/2)\n",
    "            dtau=1e-4\n",
    "            integral = 0                                \n",
    "            for tau in np.linspace(-BETA/2, BETA/2, int(1e4)):\n",
    "                integrand = sigma_tau(i, tau)*np.exp(1j*w_n*tau)\n",
    "                integral += dtau*integrand\n",
    "            # single: 6.5 s\n",
    "            # tau_range: 23.8 s\n",
    "            \n",
    "            #dtau=1e-4\n",
    "            #tau_range = np.linspace(-BETA/2, BETA/2, int(1e4))\n",
    "            #integrands = np.array([sigma_integrand(tau, i, nn) for tau in tau_range])\n",
    "            #integral = np.trapz(integrands, dx=dtau)  \n",
    "            # single: 8.9 s\n",
    "            # tau_range: over 2 minutes    \n",
    "\n",
    "            #dtau=1e-4\n",
    "            #tau_range = np.linspace(-BETA/2, BETA/2, 1e4)\n",
    "            #integrands = np.array([sigma_integrand(tau, i, nn) for tau in tau_range])\n",
    "            #integral = np.trapz(integrands, tau_range)  \n",
    "            # single: 10.9s\n",
    "            # tau_range: over 2 minutes     \n",
    "            \n",
    "            sigma_memo[(i,n)] = integral\n",
    "            return integral\n",
    "        \n",
    "def G(i, n):\n",
    "    if (i,n) in G_memo:\n",
    "        return G_memo[(i,n)]\n",
    "    else:\n",
    "        w_n = (2*np.pi/BETA)*(n+1/2)\n",
    "        den = 1j*w_n + sigma(i, n)\n",
    "\n",
    "        #x = 0.5\n",
    "        #out = (1-x)*G(i-1, nn)-x/den\n",
    "        out = -1/den\n",
    "        G_memo[(i,n)] = out\n",
    "        return out\n",
    "\n",
    "def G_tau(i, tau):\n",
    "    if (i, tau) in G_tau_memo:\n",
    "        return G_tau_memo[(i,tau)]\n",
    "    else:\n",
    "        sum = 0\n",
    "        for n in range(-int(LAMBDA_2), int(LAMBDA_2)):\n",
    "            w_n = (2*np.pi/BETA)*(n+1/2)\n",
    "            summand_n = np.exp(-1j*w_n*tau)*(G(i, n)-G(0,n))\n",
    "            sum += summand_n\n",
    "\n",
    "        out = 0.5*np.sign(tau)+sum/BETA\n",
    "        G_tau_memo[(i,tau)] = out\n",
    "        return out"
   ]
  },
  {
   "cell_type": "code",
   "execution_count": 8,
   "metadata": {},
   "outputs": [
    {
     "name": "stdout",
     "output_type": "stream",
     "text": [
      "(0.4604273905210897-4.814725007573628e-16j)\n"
     ]
    },
    {
     "name": "stderr",
     "output_type": "stream",
     "text": [
      "c:\\Users\\abdel\\anaconda3\\envs\\phys417\\lib\\site-packages\\matplotlib\\collections.py:192: ComplexWarning: Casting complex values to real discards the imaginary part\n",
      "  offsets = np.asanyarray(offsets, float)\n"
     ]
    },
    {
     "data": {
      "image/png": "[encoded data removed]",
      "text/plain": [
       "<Figure size 640x480 with 1 Axes>"
      ]
     },
     "metadata": {},
     "output_type": "display_data"
    }
   ],
   "source": [
    "i_range = np.arange(N_ITER)\n",
    "\n",
    "G_tau_irange = np.zeros(i_range.shape, dtype=np.complex128)\n",
    "for i in i_range:\n",
    "    G_tau_irange[i] = G_tau(i, TAU_TEST)\n",
    "\n",
    "print(G_tau_irange[-1])\n",
    "plt.figure()\n",
    "plt.scatter(i_range, G_tau_irange)\n",
    "plt.xlabel(\"N_ITER\")\n",
    "plt.ylabel(r\"$G_{SD}(\\theta)$\")\n",
    "plt.show()\n",
    "plt.close()"
   ]
  },
  {
   "cell_type": "code",
   "execution_count": 9,
   "metadata": {},
   "outputs": [],
   "source": [
    "G_SD_range = Parallel(n_jobs=N_JOBS)(delayed(G_tau)(N_ITER, tau) for tau in TAU_RANGE)"
   ]
  },
  {
   "cell_type": "code",
   "execution_count": null,
   "metadata": {},
   "outputs": [],
   "source": [
    "plt.figure()\n",
    "plt.plot(TAU_RANGE, G_finite_range, label=\"Exact, finite-N solution\", c=\"b\")\n",
    "plt.plot(TAU_RANGE, G_SD_range, label=\"Schwinger-Dyson\", c=\"b\", linestyle=\"dashed\",)\n",
    "\n",
    "# Plot axes\n",
    "y_range = np.linspace(np.max(G_SD_range), np.min(G_SD_range), 100)\n",
    "plt.plot([0 for i in y_range], y_range, c=\"k\")\n",
    "x_range = np.linspace(np.min(TAU_RANGE), np.max(TAU_RANGE), 100)\n",
    "plt.plot(x_range, [0 for i in x_range], c=\"k\")\n",
    "\n",
    "plt.xlabel(r\"$\\theta$\")\n",
    "plt.ylabel(r\"$G_{SD}(\\theta)$\")\n",
    "plt.title(f\"K = {K}, \"+r\"$\\beta J = $\"+f\"{BETA*J}, \"+\"$\\lambda_1 = $\"+f\"{LAMBDA_1}, \"+\"$\\lambda_2 = $\"+f\"{LAMBDA_2}\")\n",
    "plt.legend()\n",
    "plt.savefig(os.path.join(\"Images\", f\"K{K}_J{J:.2f}_Q{Q}_B{BETA}_L1{LAMBDA_1}_L2{LAMBDA_2}_2PNT.png\"))\n",
    "plt.show()\n",
    "plt.close()"
   ]
  },
  {
   "cell_type": "markdown",
   "metadata": {},
   "source": [
    "Not full agreement with Mathematica (see \"schwinger_dyson.nb\"). Our exact, finite results seem to match up. But our Schwinger-Dyson approximations do not. \n",
    "\n",
    "Could it be integration error??"
   ]
  },
  {
   "cell_type": "markdown",
   "metadata": {},
   "source": [
    "Very strange mathematica behavior at:\n",
    "- $\\beta = 10$\n",
    "- $K = 7$\n",
    "- $J = 4$\n",
    "- $Q = 4$\n",
    "- $\\lambda_1 = 1$\n",
    "- $\\lambda_2 = 10$\n",
    "- $nIter = 11$\n",
    "- $tauTest = 1/4$\n",
    "\n",
    "\n",
    "And it gets EVEN STRANGER at $J=9$"
   ]
  },
  {
   "cell_type": "markdown",
   "metadata": {},
   "source": []
  }
 ],
 "metadata": {
  "kernelspec": {
   "display_name": "phys417",
   "language": "python",
   "name": "python3"
  },
  "language_info": {
   "codemirror_mode": {
    "name": "ipython",
    "version": 3
   },
   "file_extension": ".py",
   "mimetype": "text/x-python",
   "name": "python",
   "nbconvert_exporter": "python",
   "pygments_lexer": "ipython3",
   "version": "3.8.16"
  },
  "orig_nbformat": 4
 },
 "nbformat": 4,
 "nbformat_minor": 2
}
