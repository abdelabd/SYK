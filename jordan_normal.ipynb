{
 "cells": [
  {
   "cell_type": "code",
   "execution_count": null,
   "metadata": {},
   "outputs": [],
   "source": [
    "import os\n",
    "\n",
    "import numpy as np\n",
    "import matplotlib.pyplot as plt\n",
    "import pandas as pd\n",
    "import scipy.linalg as lnlg\n",
    "from scipy.linalg import qr\n",
    "\n",
    "import copy\n",
    "from IPython.display import display, Latex\n",
    "\n",
    "# locals\n",
    "from N2_SUSY_SYK import HamiltonianGenerator \n",
    "\n",
    "########## Macros ###########################\n",
    "N_SAMPLES = 10\n",
    "NP_RANDOM_SEED = 0\n",
    "np.random.seed(NP_RANDOM_SEED)\n",
    "\n",
    "# Physical constants\n",
    "N = 6 # number of fermions\n",
    "J = 100 # ~\"energy scale\" of couplings\n",
    "N_DIM = 2**N # dimension of Hilbert space\n",
    "Q_COUPLING = 3 # number of couplings per term\n",
    "\n",
    "# Directories\n",
    "N2_SUSY_DIR = os.path.join(\"Excel\", \"N2_SUSY_SYK\")\n",
    "RESULT_DIR = os.path.join(N2_SUSY_DIR, \"Simulated Hamiltonians\", f\"N{N}_J{J}\")\n"
   ]
  },
  {
   "cell_type": "markdown",
   "metadata": {},
   "source": [
    "# 1. Define test matrix"
   ]
  },
  {
   "cell_type": "markdown",
   "metadata": {},
   "source": [
    "It's always possible to put a Hermitian matrix (and in fact, any normal matrix) into block-diagonal form through unitary transformations (i.e. similarity transformations, preserving eigenvalues). Moreover, the Hamiltonians we work with are also Hermitian. So we might as well start with a sample Hamiltonian from the $\\mathcal{N}=2$ supersymmetric SYK model.\n",
    "\n",
    "An extra advantage is that we know these can be decomposed into fermionic and bosonic modes, i.e. a 2-block block-diagonal format (that is, if I understood Gustavo correctly at our last meeting, 9/01/2023). "
   ]
  },
  {
   "cell_type": "code",
   "execution_count": null,
   "metadata": {},
   "outputs": [],
   "source": [
    "h_generator = HamiltonianGenerator(N, J)\n",
    "H = h_generator.make_H(0).toarray()\n",
    "\n",
    "print(f\"H hermitian: {lnlg.ishermitian(H)}\")\n",
    "print(f\"H.shape: {H.shape}\")"
   ]
  },
  {
   "cell_type": "markdown",
   "metadata": {},
   "source": [
    "# 2. Define block-diagonalization algorithm"
   ]
  },
  {
   "cell_type": "markdown",
   "metadata": {},
   "source": [
    "1. Find eigenvectors and eigenvalues"
   ]
  },
  {
   "cell_type": "code",
   "execution_count": null,
   "metadata": {},
   "outputs": [],
   "source": [
    "ivals, ivecs = np.linalg.eigh(H)\n",
    "print(f\"ivecs.shape: {ivecs.shape}\")"
   ]
  },
  {
   "cell_type": "markdown",
   "metadata": {},
   "source": [
    "2. Orthonormalize eigenvectors using Graham-Schmidt procedure\n",
    "3. Stack orthonormal eigenvectors to form unitary matrix, $U$"
   ]
  },
  {
   "cell_type": "code",
   "execution_count": null,
   "metadata": {},
   "outputs": [],
   "source": [
    "def gram_schmidt(ivecs):\n",
    "    (n, m) = ivecs.shape\n",
    "    for i in range(m):\n",
    "        q = ivecs[:, i] # i-th column of A\n",
    "        for j in range(i):\n",
    "            q = q - np.dot(ivecs[:, j], ivecs[:, i]) * ivecs[:, j]\n",
    "        if np.array_equal(q, np.zeros(q.shape)):\n",
    "            raise np.linalg.LinAlgError(\"The column vectors are not linearly independent\")\n",
    "    \n",
    "        # normalize q\n",
    "        q = q / np.sqrt(q@q)\n",
    "        # write the vector back in the matrix\n",
    "        ivecs[:, i] = q\n",
    "\n",
    "U = copy.deepcopy(ivecs)\n",
    "gram_schmidt(U)\n",
    "\n",
    "# Check that they're indeed orthonormal\n",
    "\n",
    "orthonormal = True\n",
    "for i in range(N_DIM):\n",
    "    for j in range(i, N_DIM):\n",
    "        if i==j:\n",
    "            inner_ij = U[:, i]@U[:, j]\n",
    "            if not np.isclose(inner_ij, 1):\n",
    "                orthonormal = False\n",
    "                break\n",
    "        else:\n",
    "            inner_ij = U[:, i]@U[:, j]\n",
    "            if not np.isclose(inner_ij, 0):\n",
    "                orthonormal = False\n",
    "                break\n",
    "\n",
    "print(f\"ivecs orthonormal: {orthonormal}\")"
   ]
  },
  {
   "cell_type": "markdown",
   "metadata": {},
   "source": [
    "4. $P = U^\\dagger H U$ should be in block-diagonal form"
   ]
  },
  {
   "cell_type": "code",
   "execution_count": null,
   "metadata": {},
   "outputs": [],
   "source": [
    "P = np.conjugate(np.transpose(U))@H@U\n",
    "\n",
    "# Check that P is block diagonal\n",
    "\n",
    "# First, round off small values to zero\n",
    "cutoff = 1e-12 # <-- TODO: A rigorous way to determine a good floating-point cutoff (i.e. what is \"close enough\" to zero to be considered equivalently zero?)\n",
    "               # For now, I'm just checking that max_zero_row (computed below) agrees with what I find by inspection (opening up P_mag in the variable explorer)\n",
    "\n",
    "P_mag = np.abs(P)\n",
    "P_mag[P_mag < cutoff] = 0\n",
    "\n",
    "print(f\"P_mag:\\n{P_mag}\")\n",
    "P[P_mag < cutoff] = 0"
   ]
  },
  {
   "cell_type": "markdown",
   "metadata": {},
   "source": [
    "5. Define the top-down function for block-diagonalization"
   ]
  },
  {
   "cell_type": "code",
   "execution_count": null,
   "metadata": {},
   "outputs": [],
   "source": [
    "def jordan_normal(A):\n",
    "    ivals, ivecs = np.linalg.eigh(A)\n",
    "    gram_schmidt(ivecs)\n",
    "    P = np.conjugate(np.transpose(ivecs))@A@ivecs\n",
    "    return P, ivecs, ivals\n",
    "\n",
    "P, ivecs_P, ivals_P = jordan_normal(H)\n",
    "\n",
    "P_mag_round = np.abs(P)\n",
    "P_mag_round[P_mag_round < cutoff] = 0\n"
   ]
  },
  {
   "cell_type": "markdown",
   "metadata": {},
   "source": [
    "# 3. Extract the 2 blocks"
   ]
  },
  {
   "cell_type": "code",
   "execution_count": null,
   "metadata": {},
   "outputs": [],
   "source": [
    "max_0_row = 0\n",
    "for i in range(N_DIM):\n",
    "    if np.all(P_mag_round[i, :] == 0):\n",
    "        max_0_row = i\n",
    "print(f\"max_0_row: {max_0_row}\")\n",
    "\n",
    "P_upper = P[:max_0_row+1, :max_0_row+1]\n",
    "P_lower = P[max_0_row+1:, max_0_row+1:]\n",
    "\n",
    "print(f\"P_upper.shape: {P_upper.shape}\")\n",
    "print(f\"P_lower.shape: {P_lower.shape}\")"
   ]
  },
  {
   "cell_type": "markdown",
   "metadata": {},
   "source": [
    "# 4. For fun, let's apply this to the lower block once more"
   ]
  },
  {
   "cell_type": "code",
   "execution_count": null,
   "metadata": {},
   "outputs": [],
   "source": [
    "P_P_lower, ivecs_lower, ivals_lower = jordan_normal(P_lower)\n",
    "Q_mag = np.abs(Q)\n",
    "Q_mag[Q_mag < cutoff] = 0\n",
    "Q[Q_mag < cutoff] = 0\n",
    "print(f\"Q: \\n{Q}\")"
   ]
  },
  {
   "cell_type": "code",
   "execution_count": null,
   "metadata": {},
   "outputs": [],
   "source": []
  }
 ],
 "metadata": {
  "kernelspec": {
   "display_name": "phys417",
   "language": "python",
   "name": "python3"
  },
  "language_info": {
   "codemirror_mode": {
    "name": "ipython",
    "version": 3
   },
   "file_extension": ".py",
   "mimetype": "text/x-python",
   "name": "python",
   "nbconvert_exporter": "python",
   "pygments_lexer": "ipython3",
   "version": "3.8.16"
  },
  "orig_nbformat": 4
 },
 "nbformat": 4,
 "nbformat_minor": 2
}
