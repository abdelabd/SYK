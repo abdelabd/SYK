{
 "cells": [
  {
   "cell_type": "code",
   "execution_count": 1,
   "metadata": {},
   "outputs": [],
   "source": [
    "import os \n",
    "import time\n",
    "import copy\n",
    "from tqdm import tqdm\n",
    "\n",
    "import numpy as np \n",
    "import math\n",
    "import matplotlib.pyplot as plt\n",
    "import scipy\n",
    "from scipy import linalg\n",
    "import pandas as pd\n",
    "\n",
    "from joblib import Parallel, delayed\n",
    "from numba import jit, njit, prange, cuda, float32, float64, complex64, complex128, types\n",
    "import numba as nb\n",
    "\n",
    "# locals\n",
    "from hamiltonian_generation import make_H4_sparse\n",
    "\n",
    "# Macros and physical constants \n",
    "np.random.seed(0)\n",
    "K = 10 # number of fermionic modes\n",
    "J = 4 # ~\"energy scale\"\n",
    "Q = 4 # order of coupling\n",
    "N = 2*K # number of fermions\n",
    "N_DIM = 2**K # Hilbert space dimensions\n",
    "\n",
    "N_SAMPLES = 100 # number of samples to generate\n",
    "N_JOBS = 20 # number of jobs to run in parallel"
   ]
  },
  {
   "cell_type": "code",
   "execution_count": 2,
   "metadata": {},
   "outputs": [],
   "source": [
    "H4_func, psi, psi_pairs, psi_quads = make_H4_sparse(K, J, precompute_pairs = True, precompute_quads = True)"
   ]
  },
  {
   "cell_type": "markdown",
   "metadata": {},
   "source": [
    "With K=12, J=4, Q=4...\n",
    "\n",
    "\n",
    "Takes Python 3.8 seconds to create the entire Hamiltonian *function* (which includes precomputing the annihilation/creation operators, the fermion operators, the pairwise and quadwise inner-products)\n",
    "\n",
    "Takes Mathematica 26.6 seconds (7.656 per 'Timing') to precompute the annihilation/creation operators AND fermion operators, 1.3 seconds (0.3125 per 'Timing') to compute pairwise inner-products, and 14.19 seconds (2.219 per 'Timing') to compute the quadwise inner-products. "
   ]
  },
  {
   "cell_type": "code",
   "execution_count": 3,
   "metadata": {},
   "outputs": [
    {
     "name": "stdout",
     "output_type": "stream",
     "text": [
      "Duration: 0.0 minutes, 4.243858575820923 seconds\n"
     ]
    }
   ],
   "source": [
    "sigma_j = np.sqrt((J**2)*np.math.factorial(Q-1)/(N**(Q-1)))\n",
    "js_test = np.random.normal(0, sigma_j, size=tuple([N for i in range(Q)]))\n",
    "\n",
    "tic = time.time()\n",
    "H4_test = H4_func(js_test)\n",
    "toc = time.time()\n",
    "duration = toc - tic\n",
    "print(f\"Duration: {duration//60} minutes, {duration%60} seconds\")\n",
    "H4_test = H4_test.toarray()"
   ]
  },
  {
   "cell_type": "markdown",
   "metadata": {},
   "source": [
    "With K=12, J=4, Q=4...\n",
    "\n",
    "\n",
    "Takes Python 108.8 seconds to compute Hamiltonian (with all pairwise and quadwise inner-products precomputed)\n",
    "\n",
    "Takes Mathematica 129.4 seconds (33.265 per 'Timing') seconds to do the same. "
   ]
  },
  {
   "cell_type": "code",
   "execution_count": 4,
   "metadata": {},
   "outputs": [
    {
     "name": "stdout",
     "output_type": "stream",
     "text": [
      "True\n",
      "False\n"
     ]
    }
   ],
   "source": [
    "print(linalg.ishermitian(H4_test))\n",
    "print(np.allclose(H4_test, np.real(H4_test)))\n",
    "eigvals = np.linalg.eigvalsh(H4_test)"
   ]
  },
  {
   "cell_type": "code",
   "execution_count": 5,
   "metadata": {},
   "outputs": [
    {
     "data": {
      "text/plain": [
       "(array([12., 12., 24., 24., 30., 34., 34., 38., 40., 40., 40., 46., 46.,\n",
       "        44., 44., 44., 48., 44., 40., 44., 42., 40., 38., 32., 32., 32.,\n",
       "        28., 22., 18., 12.]),\n",
       " array([-3.89160321, -3.63383846, -3.3760737 , -3.11830894, -2.86054418,\n",
       "        -2.60277942, -2.34501466, -2.0872499 , -1.82948514, -1.57172038,\n",
       "        -1.31395562, -1.05619087, -0.79842611, -0.54066135, -0.28289659,\n",
       "        -0.02513183,  0.23263293,  0.49039769,  0.74816245,  1.00592721,\n",
       "         1.26369197,  1.52145672,  1.77922148,  2.03698624,  2.294751  ,\n",
       "         2.55251576,  2.81028052,  3.06804528,  3.32581004,  3.5835748 ,\n",
       "         3.84133956]),\n",
       " <BarContainer object of 30 artists>)"
      ]
     },
     "execution_count": 5,
     "metadata": {},
     "output_type": "execute_result"
    },
    {
     "data": {
      "image/png": "[encoded data removed]",
      "text/plain": [
       "<Figure size 640x480 with 1 Axes>"
      ]
     },
     "metadata": {},
     "output_type": "display_data"
    }
   ],
   "source": [
    "plt.hist(eigvals, bins=30)"
   ]
  },
  {
   "cell_type": "code",
   "execution_count": 10,
   "metadata": {},
   "outputs": [
    {
     "name": "stdout",
     "output_type": "stream",
     "text": [
      "Duration: 0.0 minutes, 0.49137282371520996 seconds\n"
     ]
    }
   ],
   "source": [
    "Q = 3\n",
    "\n",
    "from hamiltonian_generation import make_H3_sparse\n",
    "H3_func, psi, psi_pairs, psi_tris = make_H3_sparse(K, precompute_pairs = True, precompute_tris = True)\n",
    "\n",
    "sigma_j = np.sqrt((J**2)*np.math.factorial(Q-1)/(N**(Q-1)))\n",
    "js_test = np.random.normal(0, sigma_j, size=tuple([N for i in range(3)]))\n",
    "\n",
    "tic = time.time()\n",
    "H3_test = H3_func(js_test)\n",
    "toc = time.time()\n",
    "duration = toc - tic\n",
    "print(f\"Duration: {duration//60} minutes, {duration%60} seconds\")\n",
    "H3_test = H3_test.toarray()"
   ]
  },
  {
   "cell_type": "code",
   "execution_count": null,
   "metadata": {},
   "outputs": [],
   "source": [
    "print(\"H3 hermitian: \", linalg.ishermitian(H3_test))\n",
    "print(\"H3 real elements: \", np.allclose(H3_test, np.real(H3_test)))\n",
    "\n",
    "eigvals = np.linalg.eigvalsh(H3_test)\n",
    "plt.figure()\n",
    "plt.hist(eigvals, bins=30)\n",
    "plt.title(\"Q=3 eigenvalues\")\n",
    "plt.show()\n",
    "plt.close()"
   ]
  }
 ],
 "metadata": {
  "kernelspec": {
   "display_name": "phys417",
   "language": "python",
   "name": "python3"
  },
  "language_info": {
   "codemirror_mode": {
    "name": "ipython",
    "version": 3
   },
   "file_extension": ".py",
   "mimetype": "text/x-python",
   "name": "python",
   "nbconvert_exporter": "python",
   "pygments_lexer": "ipython3",
   "version": "3.8.16"
  },
  "orig_nbformat": 4
 },
 "nbformat": 4,
 "nbformat_minor": 2
}
