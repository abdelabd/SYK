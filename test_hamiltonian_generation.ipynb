{
 "cells": [
  {
   "cell_type": "code",
   "execution_count": 7,
   "metadata": {},
   "outputs": [],
   "source": [
    "import os \n",
    "import time\n",
    "import copy\n",
    "from tqdm import tqdm\n",
    "\n",
    "import numpy as np \n",
    "import math\n",
    "import matplotlib.pyplot as plt\n",
    "import scipy\n",
    "from scipy import linalg\n",
    "import pandas as pd\n",
    "\n",
    "from joblib import Parallel, delayed\n",
    "from numba import jit, njit, prange, cuda, float32, float64, complex64, complex128, types\n",
    "import numba as nb\n",
    "\n",
    "# locals\n",
    "from hamiltonian_generation import make_H4_sparse\n",
    "\n",
    "# Macros and physical constants \n",
    "np.random.seed(0)\n",
    "K = 10 # number of fermionic modes\n",
    "J = 4 # ~\"energy scale\"\n",
    "Q = 4 # order of coupling\n",
    "N = 2*K # number of fermions\n",
    "N_DIM = 2**K # Hilbert space dimensions\n",
    "\n",
    "N_SAMPLES = 100 # number of samples to generate\n",
    "N_JOBS = 20 # number of jobs to run in parallel\n",
    "\n",
    "sigma_j = np.sqrt((J**2)*np.math.factorial(Q-1)/(N**(Q-1)))\n",
    "js_test = np.random.normal(0, sigma_j, size=tuple([N for i in range(Q)]))"
   ]
  },
  {
   "cell_type": "code",
   "execution_count": 8,
   "metadata": {},
   "outputs": [],
   "source": [
    "H4_func, psi, psi_pairs, psi_quads = make_H4_sparse(K, J, precompute_pairs = True, precompute_quads = True)"
   ]
  },
  {
   "cell_type": "markdown",
   "metadata": {},
   "source": [
    "With K=12, J=4, Q=4...\n",
    "\n",
    "\n",
    "Takes Python 3.8 seconds to create the entire Hamiltonian *function* (which includes precomputing the annihilation/creation operators, the fermion operators, the pairwise and quadwise inner-products)\n",
    "\n",
    "Takes Mathematica 26.6 seconds (7.656 per 'Timing') to precompute the annihilation/creation operators AND fermion operators, 1.3 seconds (0.3125 per 'Timing') to compute pairwise inner-products, and 14.19 seconds (2.219 per 'Timing') to compute the quadwise inner-products. "
   ]
  },
  {
   "cell_type": "code",
   "execution_count": 9,
   "metadata": {},
   "outputs": [
    {
     "name": "stdout",
     "output_type": "stream",
     "text": [
      "Duration: 8.0 minutes, 14.545088291168213 seconds\n"
     ]
    }
   ],
   "source": [
    "tic = time.time()\n",
    "H4_test = H4_func(js_test)\n",
    "toc = time.time()\n",
    "duration = toc - tic\n",
    "print(f\"Duration: {duration//60} minutes, {duration%60} seconds\")"
   ]
  },
  {
   "cell_type": "markdown",
   "metadata": {},
   "source": [
    "With K=12, J=4, Q=4...\n",
    "\n",
    "\n",
    "Takes Python 108.8 seconds to compute Hamiltonian (with all pairwise and quadwise inner-products precomputed)\n",
    "\n",
    "Takes Mathematica 129.4 seconds (33.265 per 'Timing') seconds to do the same. "
   ]
  },
  {
   "cell_type": "code",
   "execution_count": 11,
   "metadata": {},
   "outputs": [
    {
     "name": "stdout",
     "output_type": "stream",
     "text": [
      "True\n",
      "False\n"
     ]
    }
   ],
   "source": [
    "#H4_test = H4_test.toarray()\n",
    "print(linalg.ishermitian(H4_test))\n",
    "print(np.allclose(H4_test, np.real(H4_test)))\n",
    "eigvals = np.linalg.eigvalsh(H4_test)"
   ]
  },
  {
   "cell_type": "code",
   "execution_count": 12,
   "metadata": {},
   "outputs": [
    {
     "data": {
      "text/plain": [
       "(array([ 54., 108., 142., 180., 212., 244., 270., 298., 322., 346., 362.,\n",
       "        380., 390., 396., 404., 402., 398., 390., 380., 362., 342., 320.,\n",
       "        296., 270., 242., 210., 174., 144., 100.,  54.]),\n",
       " array([-4.8602969 , -4.53565205, -4.21100719, -3.88636234, -3.56171749,\n",
       "        -3.23707263, -2.91242778, -2.58778293, -2.26313807, -1.93849322,\n",
       "        -1.61384837, -1.28920351, -0.96455866, -0.63991381, -0.31526895,\n",
       "         0.0093759 ,  0.33402076,  0.65866561,  0.98331046,  1.30795532,\n",
       "         1.63260017,  1.95724502,  2.28188988,  2.60653473,  2.93117958,\n",
       "         3.25582444,  3.58046929,  3.90511415,  4.229759  ,  4.55440385,\n",
       "         4.87904871]),\n",
       " <BarContainer object of 30 artists>)"
      ]
     },
     "execution_count": 12,
     "metadata": {},
     "output_type": "execute_result"
    },
    {
     "data": {
      "image/png": "[encoded data removed]",
      "text/plain": [
       "<Figure size 640x480 with 1 Axes>"
      ]
     },
     "metadata": {},
     "output_type": "display_data"
    }
   ],
   "source": [
    "plt.hist(eigvals, bins=30)"
   ]
  },
  {
   "cell_type": "code",
   "execution_count": null,
   "metadata": {},
   "outputs": [],
   "source": []
  }
 ],
 "metadata": {
  "kernelspec": {
   "display_name": "phys417",
   "language": "python",
   "name": "python3"
  },
  "language_info": {
   "codemirror_mode": {
    "name": "ipython",
    "version": 3
   },
   "file_extension": ".py",
   "mimetype": "text/x-python",
   "name": "python",
   "nbconvert_exporter": "python",
   "pygments_lexer": "ipython3",
   "version": "3.8.16"
  },
  "orig_nbformat": 4
 },
 "nbformat": 4,
 "nbformat_minor": 2
}
