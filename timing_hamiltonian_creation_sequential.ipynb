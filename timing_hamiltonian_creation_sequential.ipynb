{
 "cells": [
  {
   "cell_type": "code",
   "execution_count": 1,
   "metadata": {},
   "outputs": [],
   "source": [
    "import os \n",
    "import time\n",
    "import copy\n",
    "from tqdm import tqdm\n",
    "\n",
    "import numpy as np \n",
    "import matplotlib.pyplot as plt\n",
    "import scipy\n",
    "import pandas as pd\n",
    "\n",
    "from joblib import Parallel, delayed\n",
    "from numba import jit, njit, prange\n",
    "\n",
    "np.random.seed(0)\n",
    "\n",
    "# Define macros\n",
    "\n",
    "# Physical constants\n",
    "K=7 # number of fermionic modes\n",
    "J=4 # ~\"energy scale\"\n",
    "Q=4 # order of coupling\n",
    "N = 2*K # number of fermions\n",
    "N_DIM = 2**K # Hilbert space dimensions\n",
    "\n",
    "N_SAMPLES = 100 # number of samples to generate"
   ]
  },
  {
   "attachments": {},
   "cell_type": "markdown",
   "metadata": {},
   "source": [
    "## 1. Define fermionic modes"
   ]
  },
  {
   "cell_type": "code",
   "execution_count": 2,
   "metadata": {},
   "outputs": [],
   "source": [
    "cr = np.array([[0,1],[0,0]])\n",
    "an = np.array([[0,0],[1,0]])\n",
    "id = np.identity(2)\n",
    "id2 = np.array([[-1,0],[0,1]])\n",
    "\n",
    "def c(n):\n",
    "    factors = [id for i in range(n-1)]+[cr]+[id2 for i in range(K-n)]\n",
    "    out = factors[0]\n",
    "    for i in range(1, K):\n",
    "        out = np.kron(out,factors[i])\n",
    "    return out\n",
    "\n",
    "def cd(n):\n",
    "    factors = [id for i in range(n-1)]+[an]+[id2 for i in range(K-n)]\n",
    "    out = factors[0]\n",
    "    for i in range(1, K):\n",
    "        out = np.kron(out,factors[i])\n",
    "    return out"
   ]
  },
  {
   "attachments": {},
   "cell_type": "markdown",
   "metadata": {},
   "source": [
    "### 1.a. Check that fermionic modes satisfy algebra"
   ]
  },
  {
   "attachments": {},
   "cell_type": "markdown",
   "metadata": {},
   "source": [
    "$\\{c_i, c_j\\}=\\{c_i^\\dagger, c_j^\\dagger\\}=0$,     $\\{c_i,c_j^\\dagger\\}=\\delta_{ij}$"
   ]
  },
  {
   "cell_type": "code",
   "execution_count": 3,
   "metadata": {},
   "outputs": [
    {
     "name": "stdout",
     "output_type": "stream",
     "text": [
      "Fermionic mode algebra satisfied: True\n"
     ]
    }
   ],
   "source": [
    "def anticommutator(a,b):\n",
    "    return a@b+b@a\n",
    "\n",
    "c_algebra_satisfied = True\n",
    "for i in range(1,K+1):\n",
    "    c_i = c(i)\n",
    "    cd_i = cd(i)\n",
    "\n",
    "    for j in range(1,K+1):\n",
    "        c_j = c(j)\n",
    "        cd_j = cd(j)\n",
    "\n",
    "        ac_ci_cj = anticommutator(c_i, c_j)\n",
    "        if not np.allclose(ac_ci_cj, np.zeros((N_DIM, N_DIM))):\n",
    "            c_algebra_satisfied = False\n",
    "\n",
    "        ac_cdi_cdj = anticommutator(cd_i, cd_j)\n",
    "        if not np.allclose(ac_cdi_cdj, np.zeros((N_DIM, N_DIM))):\n",
    "            c_algebra_satisfied = False\n",
    "\n",
    "        ac_ci_cdj = anticommutator(c_i, cd_j)\n",
    "        if i==j:\n",
    "            if not np.allclose(ac_ci_cdj, np.identity(N_DIM)):\n",
    "                c_algebra_satisfied = False\n",
    "        else:\n",
    "            if not np.allclose(ac_ci_cdj, np.zeros((N_DIM, N_DIM))):\n",
    "                c_algebra_satisfied = False\n",
    "\n",
    "        \n",
    "print(f\"Fermionic mode algebra satisfied: {c_algebra_satisfied}\")"
   ]
  },
  {
   "attachments": {},
   "cell_type": "markdown",
   "metadata": {},
   "source": [
    "## 2. Define fermions"
   ]
  },
  {
   "cell_type": "code",
   "execution_count": 4,
   "metadata": {},
   "outputs": [],
   "source": [
    "# Compute first N psi's\n",
    "psi = np.zeros((N, N_DIM, N_DIM), dtype=np.complex128)\n",
    "for i in range(1,K+1):\n",
    "    psi[2*(i-1)] = (c(i)+cd(i))/np.sqrt(2)\n",
    "    psi[2*(i-1)+1] = (c(i)-cd(i))*(-1j/np.sqrt(2))"
   ]
  },
  {
   "attachments": {},
   "cell_type": "markdown",
   "metadata": {},
   "source": [
    "### 2.a. Check that fermions satisfy algebra"
   ]
  },
  {
   "attachments": {},
   "cell_type": "markdown",
   "metadata": {},
   "source": [
    "$\\{\\psi_i, \\psi_j\\} = \\delta_{ij}$"
   ]
  },
  {
   "cell_type": "code",
   "execution_count": 5,
   "metadata": {},
   "outputs": [
    {
     "name": "stdout",
     "output_type": "stream",
     "text": [
      "Fermion algebra satisfied: True\n"
     ]
    }
   ],
   "source": [
    "psi_algebra_satisfied = True\n",
    "for i in range(N):\n",
    "    psi_i = psi[i]\n",
    "\n",
    "    for j in range(N):\n",
    "        psi_j = psi[j]\n",
    "\n",
    "        ac_pi_pj = anticommutator(psi_i, psi_j)\n",
    "\n",
    "        if i==j:\n",
    "            if not np.allclose(ac_pi_pj, np.identity(N_DIM)):\n",
    "                psi_algebra_satisfied = False\n",
    "                \n",
    "        else:\n",
    "            if not np.allclose(ac_pi_pj, np.zeros((N_DIM, N_DIM))):\n",
    "                psi_algebra_satisfied = False\n",
    "        \n",
    "print(f\"Fermion algebra satisfied: {psi_algebra_satisfied}\")"
   ]
  },
  {
   "attachments": {},
   "cell_type": "markdown",
   "metadata": {},
   "source": [
    "## 3. Define different Hamiltonian-creation functions"
   ]
  },
  {
   "attachments": {},
   "cell_type": "markdown",
   "metadata": {},
   "source": [
    "### 3. a. Pre-compute pairwise inner-products of fermions"
   ]
  },
  {
   "attachments": {},
   "cell_type": "markdown",
   "metadata": {},
   "source": [
    "Saves us some time and compute"
   ]
  },
  {
   "cell_type": "code",
   "execution_count": 6,
   "metadata": {},
   "outputs": [],
   "source": [
    "# Compute pairwise inner products\n",
    "psi_pairs = np.zeros((N, N, N_DIM, N_DIM), dtype=np.complex128)\n",
    "for i in range(N):\n",
    "    for j in range(i+1, N):\n",
    "        psi_pairs[i, j] = psi[i]@psi[j]"
   ]
  },
  {
   "attachments": {},
   "cell_type": "markdown",
   "metadata": {},
   "source": [
    "### 3.b Define different Hamiltonian-creation functions to be tested"
   ]
  },
  {
   "cell_type": "code",
   "execution_count": 7,
   "metadata": {},
   "outputs": [],
   "source": [
    "def H4_base(js): #js being the random coefficients\n",
    "\n",
    "    # Compute Hamiltonian\n",
    "    H = np.zeros((N_DIM, N_DIM), dtype=np.complex128)\n",
    "    for i in range(N):\n",
    "        for j in range(i+1, N):\n",
    "            for k in range(j+1, N):\n",
    "                for l in range(k+1, N):\n",
    "                    H += (1j**(Q/2))*js[i, j, k, l]*psi_pairs[i,j].dot(psi_pairs[k,l])\n",
    "\n",
    "    return H\n",
    "\n",
    "@jit(nopython=True)\n",
    "def H4_njit(js): #js being the random coefficients\n",
    "\n",
    "    # Compute Hamiltonian|\n",
    "    H = np.zeros((N_DIM, N_DIM), dtype=np.complex128)\n",
    "    for i in range(N):\n",
    "        for j in range(i+1, N):\n",
    "            for k in range(j+1, N):\n",
    "                for l in range(k+1, N):\n",
    "                    H += (1j**(Q/2))*js[i, j, k, l]*psi_pairs[i,j].dot(psi_pairs[k,l])\n",
    "\n",
    "    return H\n",
    "\n",
    "@jit(nopython=True, parallel=True)\n",
    "def H4_njit_parallel(js): #js being the random coefficients\n",
    "\n",
    "    # Compute Hamiltonian\n",
    "    H = np.zeros((N_DIM, N_DIM), dtype=np.complex128)\n",
    "    for i in range(N):\n",
    "        for j in range(i+1, N):\n",
    "            for k in range(j+1, N):\n",
    "                for l in range(k+1, N):\n",
    "                    H += (1j**(Q/2))*js[i, j, k, l]*psi_pairs[i,j].dot(psi_pairs[k,l])\n",
    "\n",
    "    return H\n",
    "\n",
    "@jit(nopython=True, parallel=True)\n",
    "def H4_njit_parallel_prange(js): #js being the random coefficients\n",
    "\n",
    "    # Compute Hamiltonian\n",
    "    H = np.zeros((N_DIM, N_DIM), dtype=np.complex128)\n",
    "    for i in prange(N):\n",
    "        for j in prange(i+1, N):\n",
    "            for k in prange(j+1, N):\n",
    "                for l in prange(k+1, N):\n",
    "                    H += (1j**(Q/2))*js[i, j, k, l]*psi_pairs[i,j].dot(psi_pairs[k,l])\n",
    "\n",
    "    return H"
   ]
  },
  {
   "attachments": {},
   "cell_type": "markdown",
   "metadata": {},
   "source": [
    "## 4. Run tests"
   ]
  },
  {
   "cell_type": "code",
   "execution_count": 10,
   "metadata": {},
   "outputs": [
    {
     "name": "stdout",
     "output_type": "stream",
     "text": [
      "\n",
      "H4_base:\n",
      "  Actual duration: 0.0 minutes, 42.91655993461609 seconds\n",
      "  Average time per Hamiltonian: 0.0 minutes, 0.4291655993461609 seconds\n",
      "\n",
      "H4_njit:\n",
      "  Actual duration: 8.0 minutes, 39.700655698776245 seconds\n",
      "  Average time per Hamiltonian: 0.0 minutes, 5.197006556987763 seconds\n",
      "\n",
      "H4_njit_parallel:\n"
     ]
    }
   ],
   "source": [
    "sigma_j = np.sqrt((J**2)*np.math.factorial(Q-1)/(N**(Q-1)))\n",
    "js_all = [np.random.normal(0, sigma_j, size=tuple([N for i in range(Q)])) for j in range(N_SAMPLES+1)]\n",
    "\n",
    "# Instantiate functions so that they're compiled by cuda\n",
    "_ = H4_base(js_all[0])\n",
    "_ = H4_njit(js_all[0])\n",
    "_ = H4_njit_parallel(js_all[0])\n",
    "_ = H4_njit_parallel_prange(js_all[0])\n",
    "\n",
    "def test_H4(H4_func, js_all):\n",
    "    assert(len(js_all)==N_SAMPLES+1)\n",
    "\n",
    "    # Execute on N_SAMPLES sequentially\n",
    "    tic = time.time()\n",
    "    for i in range(1, N_SAMPLES+1):\n",
    "        H4_matrix = H4_func(js_all[i])\n",
    "        #if i==1:\n",
    "            #duration = time.time() - tic\n",
    "            #exp_dur = duration*N_SAMPLES\n",
    "            #print(f\"  Expected duration: {exp_dur//60} minutes, {exp_dur%60} seconds\")\n",
    "    duration = time.time() - tic\n",
    "\n",
    "    return duration\n",
    "\n",
    "functions_to_test = {\"H4_base\": {\"function\": H4_base}, \n",
    "                     \"H4_njit\": {\"function\": H4_njit}, \n",
    "                     \"H4_njit_parallel\": {\"function\": H4_njit_parallel}, \n",
    "                     \"H4_njit_parallel_prange\": {\"function\": H4_njit_parallel_prange}}\n",
    "tic = time.time()\n",
    "for fname, fdict in functions_to_test.items():\n",
    "    print(f\"\\n{fname}:\")\n",
    "    func = fdict[\"function\"]\n",
    "    duration = test_H4(func, js_all)\n",
    "    fdict[\"duration\"] = duration\n",
    "    print(f\"  Total duration: {duration//60} minutes, {duration%60} seconds\")\n",
    "    print(f\"  Average time per Hamiltonian: {duration/N_SAMPLES//60} minutes, {duration/N_SAMPLES%60} seconds\")\n",
    "\n",
    "duration = time.time() - tic\n",
    "print(f\"\\n\\nTesting all functions: {duration//60} minutes, {duration%60} seconds\")"
   ]
  },
  {
   "cell_type": "code",
   "execution_count": null,
   "metadata": {},
   "outputs": [],
   "source": []
  }
 ],
 "metadata": {
  "kernelspec": {
   "display_name": "phys417",
   "language": "python",
   "name": "python3"
  },
  "language_info": {
   "codemirror_mode": {
    "name": "ipython",
    "version": 3
   },
   "file_extension": ".py",
   "mimetype": "text/x-python",
   "name": "python",
   "nbconvert_exporter": "python",
   "pygments_lexer": "ipython3",
   "version": "3.8.16"
  },
  "orig_nbformat": 4
 },
 "nbformat": 4,
 "nbformat_minor": 2
}
