{
 "cells": [
  {
   "cell_type": "code",
   "execution_count": null,
   "metadata": {},
   "outputs": [],
   "source": [
    "# file-handling\n",
    "import os \n",
    "\n",
    "# user status updates\n",
    "import time\n",
    "from time import gmtime, strftime\n",
    "from tqdm import tqdm\n",
    "from IPython.display import display, Latex\n",
    "from datetime import datetime\n",
    "\n",
    "# the holy trinity of python data science\n",
    "import numpy as np \n",
    "import matplotlib.pyplot as plt\n",
    "import pandas as pd\n",
    "\n",
    "# scipy\n",
    "import scipy\n",
    "from scipy import sparse, linalg, fft\n",
    "from scipy.linalg import expm, sinm, cosm\n",
    "import scipy.integrate as integrate\n",
    "from scipy.integrate import quad\n",
    "\n",
    "# parallelization, memory management\n",
    "from joblib import Parallel, delayed\n",
    "from numba import jit, njit, prange\n",
    "import copy\n",
    "\n",
    "# itertools\n",
    "import itertools\n",
    "\n",
    "# Locals \n",
    "from N2_SUSY_SYK import HamiltonianGenerator\n",
    "\n",
    "############ Macros ###############\n",
    "np.random.seed(0)\n",
    "\n",
    "# Physical constants\n",
    "J_range = [1e1, 1e2, 1e3, 1e4]\n",
    "N_range = [8, 10, 12]\n",
    "Q_COUPLING = 3 # order of coupling, don't want to use the letter 'Q' because that denotes the supercharge\n",
    "\n",
    "# Computer stuff\n",
    "N_SAMPLES = 100 # number of samples to generate\n",
    "N_JOBS = 20 # number of jobs to run in parallel\n",
    "\n",
    "# Directories\n",
    "N2_SUSY_DIR = os.path.join(\"Excel\", \"N2_SUSY_SYK\")"
   ]
  },
  {
   "cell_type": "markdown",
   "metadata": {},
   "source": [
    "Manually note first nonzero eigenvalues for each (N, J)"
   ]
  },
  {
   "cell_type": "code",
   "execution_count": null,
   "metadata": {},
   "outputs": [],
   "source": [
    "N = 10\n",
    "J = 100\n",
    "H_generator = HamiltonianGenerator(N, J, n_jobs=N_JOBS, parent_dir=N2_SUSY_DIR)\n",
    "H = H_generator.make_H(0)\n",
    "iv = np.linalg.eigvalsh(H.toarray())\n",
    "plt.figure()\n",
    "plt.hist(iv, bins=4000)\n",
    "plt.xlim(0, 0.2)\n",
    "plt.show()\n",
    "plt.close()"
   ]
  },
  {
   "cell_type": "code",
   "execution_count": null,
   "metadata": {},
   "outputs": [],
   "source": [
    "# (N, J)\n",
    "first_nonzero_dict = {(8, 1e1): 0.04,\n",
    "                      (8, 1e2): 0.08,\n",
    "                      (8, 1e3): 0.8, \n",
    "                      (8, 1e4): 8,\n",
    "                      (10, 1e1): 0.02,\n",
    "                      (10, 1e2): 0.1,\n",
    "                      (10, 1e3): 1,\n",
    "                      (10, 1e4): 10,\n",
    "                      (12, 1e1): 0.02,\n",
    "                      (12, 1e2): 0.2,\n",
    "                      (12, 1e3): 1.5,\n",
    "                      (12, 1e4): 10\n",
    "}\n",
    "\n",
    "def process_i(i, H_gen, first_nonzero):\n",
    "    H_i = H_gen.make_H(i)\n",
    "    ivals_i = np.linalg.eigvalsh(H_i.toarray())\n",
    "    proportion_0 = sum(ivals_i<first_nonzero)/len(ivals_i)\n",
    "    return proportion_0\n",
    "\n",
    "proportions = {}\n",
    "tic = time.time()\n",
    "for N in N_range:\n",
    "    for J in J_range:\n",
    "        print(f\"\\n(N, J) = ({N}, {J})\")\n",
    "        H_generator = HamiltonianGenerator(N, J, n_jobs=N_JOBS, parent_dir=N2_SUSY_DIR)\n",
    "        proportions_NJ = Parallel(n_jobs=N_JOBS)(delayed(process_i)(i, H_generator, first_nonzero_dict[(N,J)]) for i in tqdm(range(N_SAMPLES)))\n",
    "        proportions[(N,J)] = np.mean(np.array(proportions_NJ))\n",
    "duration = time.time() - tic\n",
    "print(f\"Duration: {duration//60} minutes, {duration%60} seconds\")\n"
   ]
  },
  {
   "cell_type": "code",
   "execution_count": null,
   "metadata": {},
   "outputs": [],
   "source": [
    "heatmap = np.zeros(shape=(len(N_range), len(J_range)))\n",
    "for i, N in enumerate(N_range):\n",
    "    for j, J in enumerate(J_range):\n",
    "        heatmap[i,j] = proportions[(N,J)]\n",
    "\n",
    "plt.figure()\n",
    "plt.imshow(heatmap, norm=\"log\", origin=\"lower\")\n",
    "plt.colorbar(label=\"Proportion of eigenvalues which are 0\")\n",
    "plt.xlabel(\"J\")\n",
    "plt.xticks(range(len(J_range)), J_range)\n",
    "plt.ylabel(\"N\")\n",
    "plt.yticks(range(len(N_range)), N_range)\n",
    "plt.title(\"Proportion of zero-energy eigenvalues\\n based on 100 samples for each (N,J)\")\n",
    "plt.savefig(os.path.join(N2_SUSY_DIR, \"Simulated Hamiltonians\" \"proportion_of_zero_energy_eigenvalues.png\"))\n",
    "plt.show()\n",
    "plt.close()"
   ]
  },
  {
   "cell_type": "code",
   "execution_count": null,
   "metadata": {},
   "outputs": [],
   "source": [
    "plt.figure()\n",
    "plt.plot(J_range, heatmap[0,:])\n",
    "plt.xlabel(\"J\")\n",
    "plt.ylabel(\"Proportion of zero-energy eigenvectors\")\n",
    "plt.title(f\"Proportion of zero-energy e'vectors vs. J\\n at fixed N={N_range[0]}\")\n",
    "plt.savefig(os.path.join(N2_SUSY_DIR, \"Simulated Hamiltonians\" \"proportion_of_zero_energy_eigenvalues_fixed_J.png\"))\n",
    "plt.show()\n",
    "plt.close()"
   ]
  },
  {
   "cell_type": "code",
   "execution_count": null,
   "metadata": {},
   "outputs": [],
   "source": [
    "plt.figure()\n",
    "for i in range(heatmap.shape[1]):\n",
    "    plt.plot(N_range, heatmap[:,i], label=f\"J = {J_range[i]}\")\n",
    "plt.xlabel(\"N\")\n",
    "plt.ylabel(\"Proportion of zero-energy eigenvectors\")\n",
    "plt.title(f\"Proportion of zero-energy e'vectors vs. N\\n for different J\")\n",
    "plt.legend()\n",
    "plt.savefig(os.path.join(N2_SUSY_DIR, \"Simulated Hamiltonians\" \"proportion_of_zero_energy_eigenvalues_many_J.png\"))\n",
    "plt.show()\n",
    "plt.close()"
   ]
  },
  {
   "cell_type": "code",
   "execution_count": null,
   "metadata": {},
   "outputs": [],
   "source": [
    "plt.figure()\n",
    "plt.plot(N_range, heatmap[:,1])\n",
    "plt.xlabel(\"N\")\n",
    "plt.ylabel(\"Proportion of zero-energy eigenvectors\")\n",
    "plt.title(f\"J = {J_range[1]}\")\n",
    "plt.show()\n",
    "plt.close()"
   ]
  },
  {
   "cell_type": "code",
   "execution_count": null,
   "metadata": {},
   "outputs": [],
   "source": []
  }
 ],
 "metadata": {
  "kernelspec": {
   "display_name": "phys417",
   "language": "python",
   "name": "python3"
  },
  "language_info": {
   "codemirror_mode": {
    "name": "ipython",
    "version": 3
   },
   "file_extension": ".py",
   "mimetype": "text/x-python",
   "name": "python",
   "nbconvert_exporter": "python",
   "pygments_lexer": "ipython3",
   "version": "3.8.16"
  },
  "orig_nbformat": 4
 },
 "nbformat": 4,
 "nbformat_minor": 2
}
