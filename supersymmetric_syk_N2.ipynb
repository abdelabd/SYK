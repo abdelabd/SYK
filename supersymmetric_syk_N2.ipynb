{
 "cells": [
  {
   "cell_type": "code",
   "execution_count": 1,
   "metadata": {},
   "outputs": [],
   "source": [
    "# file-handling\n",
    "import os \n",
    "\n",
    "# user status updates\n",
    "import time\n",
    "from tqdm import tqdm\n",
    "from IPython.display import display, Latex\n",
    "\n",
    "# the holy trinity of python\n",
    "import numpy as np \n",
    "import matplotlib.pyplot as plt\n",
    "import pandas as pd\n",
    "\n",
    "# scipy\n",
    "import scipy\n",
    "from scipy import sparse, linalg, fft\n",
    "from scipy.linalg import expm, sinm, cosm\n",
    "import scipy.integrate as integrate\n",
    "from scipy.integrate import quad\n",
    "\n",
    "# parallelization, memory management\n",
    "from joblib import Parallel, delayed\n",
    "from numba import jit, njit, prange\n",
    "import copy\n",
    "\n",
    "# itertools\n",
    "import itertools\n",
    "\n",
    "############ Macros ###############\n",
    "np.random.seed(0)\n",
    "\n",
    "# Physical constants\n",
    "K = 6 # number of fermionic modes\n",
    "J = 4 # ~\"energy scale\"\n",
    "Q_COUPLING = 3 # order of coupling, don't want to use the letter 'Q' because that denotes the supercharge\n",
    "N = 2*K # number of fermions\n",
    "N_DIM = 2**N # Hilbert space dimension <-- Important: Hilbert space dimension is now 2^N instead of 2^(N/2). \n",
    "\n",
    "N_SAMPLES = 100 # number of samples to generate\n",
    "N_JOBS = 20 # number of jobs to run in parallel\n",
    "\n",
    "# Whether we want to check algebra\n",
    "CHECK_ALGEBRA = False\n"
   ]
  },
  {
   "cell_type": "markdown",
   "metadata": {},
   "source": [
    "# 1. Fermion operators"
   ]
  },
  {
   "cell_type": "markdown",
   "metadata": {},
   "source": [
    "Since we can't use memoization simultaneously with parallelization, we will instead precomputed all our desired values, and use those precomputed values in the parallelization"
   ]
  },
  {
   "cell_type": "markdown",
   "metadata": {},
   "source": [
    "### 1.a. Define and precompute first N fermions"
   ]
  },
  {
   "cell_type": "code",
   "execution_count": 2,
   "metadata": {},
   "outputs": [],
   "source": [
    "cr = sparse.csr_array(np.array([[0,1],[0,0]]))\n",
    "an = sparse.csr_array(np.array([[0,0],[1,0]]))\n",
    "id = sparse.csr_array(np.identity(2))\n",
    "id2 = sparse.csr_array(np.array([[-1,0],[0,1]]))\n",
    "\n",
    "def psi(n):\n",
    "    factors = [id for i in range(n-1)]+[cr]+[id2 for i in range(N-n)]\n",
    "    out = factors[0]\n",
    "    for i in range(1, N):\n",
    "        out = sparse.kron(out,factors[i])\n",
    "    return out\n",
    "psi_all = Parallel(n_jobs=N_JOBS)(delayed(psi)(n) for n in range(1,N+1))\n",
    "psi_all = {k+1:v for k,v in enumerate(psi_all)}\n",
    "\n",
    "def psi_dagger(n):\n",
    "    factors = [id for i in range(n-1)]+[an]+[id2 for i in range(N-n)]\n",
    "    out = factors[0]\n",
    "    for i in range(1, N):\n",
    "        out = sparse.kron(out,factors[i])\n",
    "    return out\n",
    "psi_dagger_all = Parallel(n_jobs=N_JOBS)(delayed(psi_dagger)(n) for n in range(1,N+1))\n",
    "psi_dagger_all = {k+1:v for k,v in enumerate(psi_dagger_all)}\n",
    "\n",
    "# Confirm that psi_dagger as defined indeed gives psi_dagger\n",
    "for i, psi_i in psi_all.items():\n",
    "    psi_daggeri = psi_dagger_all[i]\n",
    "    assert(np.allclose(np.transpose(np.conjugate(psi_i.toarray())), psi_daggeri.toarray()))"
   ]
  },
  {
   "cell_type": "markdown",
   "metadata": {},
   "source": [
    "### 1.b. Precompute pairwise dot-products of psi's and psi_dagger's"
   ]
  },
  {
   "cell_type": "markdown",
   "metadata": {},
   "source": [
    "In order to check that the algebra is satisfied, we would need every pairwise combination of $\\psi_i, \\psi_j$, $\\psi_i, \\psi_j^\\dagger$, $\\psi_i^\\dagger, \\psi_j^\\dagger$.\n",
    "\n",
    "Otherwise, only need $\\psi^i, \\psi^j$ where $i<N$, $j>i$"
   ]
  },
  {
   "cell_type": "code",
   "execution_count": 3,
   "metadata": {},
   "outputs": [
    {
     "name": "stdout",
     "output_type": "stream",
     "text": [
      "psi_pairs done\n",
      "\n",
      "Duration: 1.0 minutes, 6.325455665588379 seconds\n"
     ]
    }
   ],
   "source": [
    "def psi_psi(i, j):\n",
    "    return psi_all[i]@psi_all[j]\n",
    "\n",
    "def psi_psi_dagger(i, j):\n",
    "    return psi_all[i]@psi_dagger_all[j]\n",
    "\n",
    "def psi_dagger_psi(i, j):\n",
    "    return psi_dagger_all[i]@psi_all[j]\n",
    "\n",
    "def psi_dagger_psi_dagger(i, j):\n",
    "    return psi_dagger_all[i]@psi_dagger_all[j]\n",
    "\n",
    "############################################################################################\n",
    "tic = time.time()\n",
    "\n",
    "# If we're not checking the algebra, only necessary to compute psi_pairs at i<N, j>i\n",
    "if CHECK_ALGEBRA:\n",
    "    i_iter = range(N)\n",
    "else:\n",
    "    i_iter = range(N-1)\n",
    "\n",
    "psi_pairs = {}\n",
    "for i in i_iter:\n",
    "    if CHECK_ALGEBRA:   \n",
    "        j_iter = range(N)\n",
    "    else:\n",
    "        j_iter = range(i+1, N)\n",
    "\n",
    "    psi_psi_i = Parallel(n_jobs=N_JOBS)(delayed(psi_psi)(i+1, j+1) for j in j_iter)\n",
    "    psi_psi_i = {(i+1, i+j+2):v for j,v in enumerate(psi_psi_i)}\n",
    "    psi_pairs.update(psi_psi_i)\n",
    "print(\"psi_pairs done\")\n",
    "\n",
    "\n",
    "if CHECK_ALGEBRA:\n",
    "    psi_psi_dagger_pairs = {}\n",
    "    for i in range(N):\n",
    "        psi_psi_dagger_i = Parallel(n_jobs=N_JOBS)(delayed(psi_psi_dagger)(i+1, j+1) for j in range(N))\n",
    "        psi_psi_dagger_i = {(i+1, i+j+2):v for j,v in enumerate(psi_psi_dagger_i)}\n",
    "        psi_psi_dagger_pairs.update(psi_psi_dagger_i)\n",
    "    print(\"psi_psi_dagger_pairs done\")\n",
    "\n",
    "    psi_dagger_psi_pairs = {}\n",
    "    for i in range(N):\n",
    "        psi_dagger_psi_i = Parallel(n_jobs=N_JOBS)(delayed(psi_dagger_psi)(i+1, j+1) for j in range(N))\n",
    "        psi_dagger_psi_i = {(i+1, i+j+2):v for j,v in enumerate(psi_dagger_psi_i)}\n",
    "        psi_dagger_psi_pairs.update(psi_dagger_psi_i)\n",
    "    print(\"psi_dagger_psi_pairs done\")\n",
    "\n",
    "    psi_dagger_psi_dagger_pairs = {}\n",
    "    for i in range(N):\n",
    "        psi_dagger_psi_dagger_i = Parallel(n_jobs=N_JOBS)(delayed(psi_dagger_psi_dagger)(i+1, j+1) for j in range(N))\n",
    "        psi_dagger_psi_dagger_i = {(i+1, i+j+2):v for j,v in enumerate(psi_dagger_psi_dagger_i)}\n",
    "        psi_dagger_psi_dagger_pairs.update(psi_dagger_psi_dagger_i)\n",
    "    print(\"psi_dagger_psi_dagger_pairs done\")\n",
    "\n",
    "\n",
    "toc = time.time()\n",
    "duration = toc - tic\n",
    "print(f\"\\nDuration: {duration//60} minutes, {duration%60} seconds\")\n"
   ]
  },
  {
   "cell_type": "markdown",
   "metadata": {},
   "source": [
    "### 1.c. Check that they satisfy the given algebra"
   ]
  },
  {
   "cell_type": "markdown",
   "metadata": {},
   "source": [
    "In this case, our fermions are actually the \"fermionic mode\" operators from the original SYK model. In other words, they satisfy the anticommutation relations:\n",
    "\n",
    "$\\{ \\psi^i, \\bar{\\psi_j} \\} = \\delta^i_j$\n",
    "\n",
    "$\\{ \\psi^i, \\psi^j \\} = 0$\n",
    "\n",
    "$\\{ \\bar{\\psi_i}, \\bar{\\psi_j} \\} = 0$"
   ]
  },
  {
   "cell_type": "code",
   "execution_count": 4,
   "metadata": {},
   "outputs": [],
   "source": [
    "def process_j(i_index, j_index):\n",
    "    psi_algebra_satisfied_ij = True\n",
    "\n",
    "    i_label = i_index+1\n",
    "    j_label = j_index+1\n",
    "\n",
    "    # ac_i_j = psi(i)@psi(j)+psi(j)@psi(i)\n",
    "    ac_i_j = psi_pairs[(i_label,j_label)]+psi_pairs[(j_label,i_label)]\n",
    "    ac_i_j = ac_i_j.toarray()\n",
    "    if not np.allclose(ac_i_j, np.zeros((N_DIM, N_DIM))):\n",
    "        psi_algebra_satisfied_ij = False\n",
    "\n",
    "    # ac_id_jd = psi_dagger(i)@psi_dagger(j)+psi_dagger(j)@psi_dagger(i)\n",
    "    ac_idagger_jdagger = psi_dagger_psi_dagger_pairs[(i_label, j_label)]+psi_dagger_psi_dagger_pairs[(j_label, i_label)]\n",
    "    ac_idagger_jdagger = ac_idagger_jdagger.toarray()\n",
    "    if not np.allclose(ac_idagger_jdagger, np.zeros((N_DIM, N_DIM))):\n",
    "        psi_algebra_satisfied_ij = False\n",
    "\n",
    "    ac_i_jdagger = psi_psi_dagger_pairs[(i_label, j_label)]+psi_dagger_psi_pairs[(j_label, i_label)]\n",
    "    ac_i_jdagger = ac_i_jdagger.toarray()\n",
    "    if i_label==j_label:\n",
    "        if not np.allclose(ac_i_jdagger, np.identity(N_DIM)):\n",
    "            psi_algebra_satisfied_ij = False\n",
    "    else:\n",
    "        if not np.allclose(ac_i_jdagger, np.zeros((N_DIM, N_DIM))):\n",
    "            psi_algebra_satisfied_ij = False\n",
    "\n",
    "    return psi_algebra_satisfied_ij\n",
    "\n",
    "if CHECK_ALGEBRA:\n",
    "    print(\"Checking fermion algebra...\")\n",
    "    psi_algebra_satisfied = True\n",
    "    tic = time.time()\n",
    "    for i_index in tqdm(range(N)):\n",
    "\n",
    "        # anticommutator(A, B) \\equiv anticommutator(A, B), for ANY operators A, B\n",
    "        # Since these are all anticommutation relations, it's therefore only necessary to check for j>=i \n",
    "        # Note that we do have to include j==i because that's in the prescribed anticommutation relations\n",
    "        psi_algebra_satisfied_i = Parallel(n_jobs=N_JOBS)(delayed(process_j)(i_index, j_index) for j_index in range(i, N))\n",
    "        if False in psi_algebra_satisfied_i:\n",
    "            psi_algebra_satisfied = False\n",
    "            break\n",
    "\n",
    "        if i_index==0:\n",
    "            duration = time.time() - tic\n",
    "            n_jobs = N\n",
    "            exp_dur = duration*n_jobs\n",
    "            print(f\"Expected duration: {exp_dur//60} minutes, {exp_dur%60} seconds\")\n",
    "\n",
    "    toc = time.time()\n",
    "    duration = toc - tic\n",
    "    print(f\"\\nDuration: {duration//60} minutes, {duration%60} seconds\")\n",
    "    print(f\"Fermion algebra satisfied: {psi_algebra_satisfied}\")"
   ]
  },
  {
   "cell_type": "markdown",
   "metadata": {},
   "source": [
    "### 1.e. Precompute triple inner-products psi-psi-psi"
   ]
  },
  {
   "cell_type": "markdown",
   "metadata": {},
   "source": [
    "Since there are no comprehensive anticommutation relations to check for triple inner-products, we only need $i<j<k$, in the definition of the Hamiltonian"
   ]
  },
  {
   "cell_type": "code",
   "execution_count": 5,
   "metadata": {},
   "outputs": [
    {
     "name": "stderr",
     "output_type": "stream",
     "text": [
      " 10%|█         | 1/10 [01:03<09:30, 63.43s/it]"
     ]
    },
    {
     "name": "stdout",
     "output_type": "stream",
     "text": [
      "Expected duration: 10.0 minutes, 34.25121784210205 seconds\n",
      "\n"
     ]
    },
    {
     "name": "stderr",
     "output_type": "stream",
     "text": [
      "100%|██████████| 10/10 [10:28<00:00, 62.82s/it]"
     ]
    },
    {
     "name": "stdout",
     "output_type": "stream",
     "text": [
      "Duration: 10.0 minutes, 28.210167169570923 seconds\n"
     ]
    },
    {
     "name": "stderr",
     "output_type": "stream",
     "text": [
      "\n"
     ]
    }
   ],
   "source": [
    "def psi_psi_psi(i,j,k):\n",
    "    psi_ij = psi_pairs[(i, j)]\n",
    "    psi_ijk = psi_ij@psi_all[k]\n",
    "    return psi_ijk\n",
    "\n",
    "tic = time.time()\n",
    "\n",
    "psi_psi_psi_tris = {}\n",
    "for i in tqdm(range(N-2)):\n",
    "    psi_psi_psi_i = {}\n",
    "\n",
    "    for j in range(i+1, N-1):\n",
    "        psi_psi_psi_ij = Parallel(n_jobs=N_JOBS)(delayed(psi_psi_psi)(i+1, j+1, k+1) for k in range(j+1, N))\n",
    "        psi_psi_psi_ij = {(i+1, j+1, j+k+2):v for k,v in enumerate(psi_psi_psi_ij)}\n",
    "        psi_psi_psi_i.update(psi_psi_psi_ij)\n",
    "\n",
    "    if i==0:\n",
    "        duration = time.time() - tic\n",
    "        n_jobs = N-2\n",
    "        exp_dur = duration*n_jobs\n",
    "        print(f\"Expected duration: {exp_dur//60} minutes, {exp_dur%60} seconds\\n\")\n",
    "    \n",
    "    psi_psi_psi_tris.update(psi_psi_psi_i)\n",
    "\n",
    "duration = time.time() - tic\n",
    "print(f\"Duration: {duration//60} minutes, {duration%60} seconds\")"
   ]
  },
  {
   "cell_type": "markdown",
   "metadata": {},
   "source": [
    "# 2. Random coefficients"
   ]
  },
  {
   "cell_type": "markdown",
   "metadata": {},
   "source": [
    "We generate complex gaussian $C \\sim \\mathcal{N}(0, \\sigma_C)$ by defining $C = X + iY$,  \n",
    "\n",
    "where $X \\sim \\mathcal{N}(0, \\sigma_X)$, $Y \\sim \\mathcal{N}(0, \\sigma_Y)$\n",
    "\n",
    "and $\\sigma_X=\\sigma_Y=\\frac{\\sigma_C}{\\sqrt{2}}$."
   ]
  },
  {
   "cell_type": "code",
   "execution_count": 6,
   "metadata": {},
   "outputs": [],
   "source": [
    "sigma_C = np.sqrt(2*J/(N**2))\n",
    "sigma_XY = sigma_C/np.sqrt(2)\n",
    "X = np.random.normal(0, sigma_XY, size=(N, N, N))\n",
    "Y = np.random.normal(0, sigma_XY, size=(N, N, N))\n",
    "C = X + 1j*Y"
   ]
  },
  {
   "cell_type": "markdown",
   "metadata": {},
   "source": [
    "Confirm that this is in line with equation 5.4: \n",
    "\n",
    "$\\overline{C_{ijk} \\bar{C}^{ijk}} = \\frac{2J}{N^2}$"
   ]
  },
  {
   "cell_type": "code",
   "execution_count": 7,
   "metadata": {},
   "outputs": [
    {
     "name": "stdout",
     "output_type": "stream",
     "text": [
      "Declared variance: 0.05555555555555555, Computed variance: (0.053162164762167174+0j)\n",
      "Abs diff: 0.002393390793388378\n",
      "Percent abs diff: 4.31%\n"
     ]
    }
   ],
   "source": [
    "declared_variance = sigma_C**2\n",
    "C_bar = np.conjugate(C)\n",
    "computed_variance = np.mean(np.mean(np.mean(C*C_bar)))\n",
    "\n",
    "print(f\"Declared variance: {declared_variance}, Computed variance: {computed_variance}\")\n",
    "print(f\"Abs diff: {np.abs(computed_variance-declared_variance)}\")\n",
    "print(f\"Percent abs diff: {100*np.abs(computed_variance-declared_variance)/declared_variance:.2f}%\")"
   ]
  },
  {
   "cell_type": "markdown",
   "metadata": {},
   "source": [
    "## 3. Supercharge, $Q$"
   ]
  },
  {
   "cell_type": "markdown",
   "metadata": {},
   "source": [
    "Compute it"
   ]
  },
  {
   "cell_type": "code",
   "execution_count": 8,
   "metadata": {},
   "outputs": [],
   "source": [
    "Q = sparse.csr_array(np.zeros((N_DIM, N_DIM), dtype=np.complex128))\n",
    "tic = time.time()\n",
    "for i_index in range(N-2):\n",
    "    i_label = i_index+1\n",
    "\n",
    "    for j_index in range(i_index+1, N-1):\n",
    "        j_label = j_index+1\n",
    "\n",
    "        for k_index in range(j_index+1, N):\n",
    "            k_label = k_index+1\n",
    "\n",
    "            C_ijk = C[i_index, j_index, k_index]\n",
    "            psi_ijk = psi_psi_psi_tris[(i_label, j_label, k_label)]\n",
    "            Q += C_ijk*psi_ijk\n",
    "        \n",
    "    if (i_index==0):\n",
    "        duration = time.time() - tic\n",
    "        n_jobs = N-Q_COUPLING\n",
    "        exp_dur = duration*n_jobs\n",
    "\n",
    "Q *= 1j\n",
    "Q_bar = np.transpose(np.conjugate(Q))"
   ]
  },
  {
   "cell_type": "markdown",
   "metadata": {},
   "source": [
    "Check if Hermitian"
   ]
  },
  {
   "cell_type": "code",
   "execution_count": 9,
   "metadata": {},
   "outputs": [
    {
     "name": "stdout",
     "output_type": "stream",
     "text": [
      "Q hermitian: False\n",
      "Q_bar hermitian: False\n"
     ]
    }
   ],
   "source": [
    "print(f\"Q hermitian: {linalg.ishermitian(Q.toarray())}\")\n",
    "print(f\"Q_bar hermitian: {linalg.ishermitian(Q_bar.toarray())}\")"
   ]
  },
  {
   "cell_type": "markdown",
   "metadata": {},
   "source": [
    "Confirm $Q^2=\\bar{Q}^2=0$"
   ]
  },
  {
   "cell_type": "code",
   "execution_count": 10,
   "metadata": {},
   "outputs": [
    {
     "data": {
      "text/latex": [
       "$Q^2=0$: True"
      ],
      "text/plain": [
       "<IPython.core.display.Latex object>"
      ]
     },
     "metadata": {},
     "output_type": "display_data"
    },
    {
     "data": {
      "text/latex": [
       "$Qbar^2=0$: True"
      ],
      "text/plain": [
       "<IPython.core.display.Latex object>"
      ]
     },
     "metadata": {},
     "output_type": "display_data"
    }
   ],
   "source": [
    "Q2 = (Q@Q).toarray()\n",
    "display(Latex(f\"$Q^2=0$: {np.allclose(Q2, np.zeros(Q2.shape))}\"))\n",
    "\n",
    "Q_bar_2 = (Q_bar@Q_bar).toarray()\n",
    "display(Latex(f\"$Qbar^2=0$: {np.allclose(Q2, np.zeros(Q2.shape))}\"))"
   ]
  },
  {
   "cell_type": "markdown",
   "metadata": {},
   "source": [
    "Confirm equation (5.2.a):\n",
    "\n",
    "$\\{ Q, \\psi^i \\}=0$"
   ]
  },
  {
   "cell_type": "code",
   "execution_count": 11,
   "metadata": {},
   "outputs": [
    {
     "name": "stdout",
     "output_type": "stream",
     "text": [
      "True\n",
      "abs_diff: 0.0\n",
      "\n",
      "True\n",
      "abs_diff: 0.0\n",
      "\n",
      "True\n",
      "abs_diff: 0.0\n",
      "\n",
      "True\n",
      "abs_diff: 0.0\n",
      "\n",
      "True\n",
      "abs_diff: 0.0\n",
      "\n",
      "True\n",
      "abs_diff: 0.0\n",
      "\n",
      "True\n",
      "abs_diff: 0.0\n",
      "\n",
      "True\n",
      "abs_diff: 0.0\n",
      "\n",
      "True\n",
      "abs_diff: 0.0\n",
      "\n",
      "True\n",
      "abs_diff: 0.0\n",
      "\n",
      "True\n",
      "abs_diff: 0.0\n",
      "\n",
      "True\n",
      "abs_diff: 0.0\n",
      "\n"
     ]
    }
   ],
   "source": [
    "def anticommutator(a,b):\n",
    "    return a@b+b@a\n",
    "\n",
    "for i_index in range(N):\n",
    "    i_label = i_index+1\n",
    "    \n",
    "    ac_Q_i = anticommutator(Q, psi(i_label)).toarray()\n",
    "    print(np.allclose(ac_Q_i, np.zeros(ac_Q_i.shape)))\n",
    "\n",
    "    abs_diff = np.sum(np.sum(np.abs(ac_Q_i)))\n",
    "    print(f\"abs_diff: {abs_diff}\\n\")"
   ]
  },
  {
   "cell_type": "markdown",
   "metadata": {},
   "source": [
    "Confirm equation (5.2.b):\n",
    "\n",
    "$\\{Q, \\bar{\\psi_i}\\} = \\bar{b^i} = i \\sum_{1\\le j<k\\le N} C_{ijk} \\psi^j \\psi^k$"
   ]
  },
  {
   "cell_type": "code",
   "execution_count": 12,
   "metadata": {},
   "outputs": [
    {
     "name": "stdout",
     "output_type": "stream",
     "text": [
      "False\n",
      "abs_diff: (29282.941969638538+0j)\n",
      "\n",
      "False\n",
      "abs_diff: (29292.815137195314+0j)\n",
      "\n",
      "False\n",
      "abs_diff: (29124.1666650015+0j)\n",
      "\n",
      "False\n",
      "abs_diff: (29703.948896611862+0j)\n",
      "\n",
      "False\n",
      "abs_diff: (29455.07202132972+0j)\n",
      "\n",
      "False\n",
      "abs_diff: (28960.109302408382+0j)\n",
      "\n",
      "False\n",
      "abs_diff: (29358.04569142036+0j)\n",
      "\n",
      "False\n",
      "abs_diff: (29716.493838519185+0j)\n",
      "\n",
      "False\n",
      "abs_diff: (29670.560237889185+0j)\n",
      "\n",
      "False\n",
      "abs_diff: (28610.524493219917+0j)\n",
      "\n"
     ]
    },
    {
     "ename": "KeyboardInterrupt",
     "evalue": "",
     "output_type": "error",
     "traceback": [
      "\u001b[1;31m---------------------------------------------------------------------------\u001b[0m",
      "\u001b[1;31mKeyboardInterrupt\u001b[0m                         Traceback (most recent call last)",
      "Cell \u001b[1;32mIn[12], line 16\u001b[0m\n\u001b[0;32m     14\u001b[0m         C_ijk \u001b[39m=\u001b[39m C[i_index, j_index, k_index]\n\u001b[0;32m     15\u001b[0m         psi_jk \u001b[39m=\u001b[39m psi_pairs[(j_label, k_label)]\n\u001b[1;32m---> 16\u001b[0m         rhs \u001b[39m+\u001b[39m\u001b[39m=\u001b[39m C_ijk\u001b[39m*\u001b[39mpsi_jk\n\u001b[0;32m     18\u001b[0m rhs \u001b[39m*\u001b[39m\u001b[39m=\u001b[39m \u001b[39m1\u001b[39mj\n\u001b[0;32m     19\u001b[0m \u001b[39mprint\u001b[39m(np\u001b[39m.\u001b[39mallclose(c_Q_idagger, rhs))\n",
      "File \u001b[1;32mc:\\Users\\abdel\\anaconda3\\envs\\phys417\\lib\\site-packages\\scipy\\sparse\\_base.py:480\u001b[0m, in \u001b[0;36mspmatrix.__radd__\u001b[1;34m(self, other)\u001b[0m\n\u001b[0;32m    479\u001b[0m \u001b[39mdef\u001b[39;00m \u001b[39m__radd__\u001b[39m(\u001b[39mself\u001b[39m,other):  \u001b[39m# other + self\u001b[39;00m\n\u001b[1;32m--> 480\u001b[0m     \u001b[39mreturn\u001b[39;00m \u001b[39mself\u001b[39;49m\u001b[39m.\u001b[39;49m\u001b[39m__add__\u001b[39;49m(other)\n",
      "File \u001b[1;32mc:\\Users\\abdel\\anaconda3\\envs\\phys417\\lib\\site-packages\\scipy\\sparse\\_base.py:475\u001b[0m, in \u001b[0;36mspmatrix.__add__\u001b[1;34m(self, other)\u001b[0m\n\u001b[0;32m    473\u001b[0m \u001b[39melif\u001b[39;00m isdense(other):\n\u001b[0;32m    474\u001b[0m     other \u001b[39m=\u001b[39m np\u001b[39m.\u001b[39mbroadcast_to(other, \u001b[39mself\u001b[39m\u001b[39m.\u001b[39mshape)\n\u001b[1;32m--> 475\u001b[0m     \u001b[39mreturn\u001b[39;00m \u001b[39mself\u001b[39;49m\u001b[39m.\u001b[39;49m_add_dense(other)\n\u001b[0;32m    476\u001b[0m \u001b[39melse\u001b[39;00m:\n\u001b[0;32m    477\u001b[0m     \u001b[39mreturn\u001b[39;00m \u001b[39mNotImplemented\u001b[39m\n",
      "File \u001b[1;32mc:\\Users\\abdel\\anaconda3\\envs\\phys417\\lib\\site-packages\\scipy\\sparse\\_bsr.py:351\u001b[0m, in \u001b[0;36mbsr_matrix._add_dense\u001b[1;34m(self, other)\u001b[0m\n\u001b[0;32m    350\u001b[0m \u001b[39mdef\u001b[39;00m \u001b[39m_add_dense\u001b[39m(\u001b[39mself\u001b[39m, other):\n\u001b[1;32m--> 351\u001b[0m     \u001b[39mreturn\u001b[39;00m \u001b[39mself\u001b[39;49m\u001b[39m.\u001b[39;49mtocoo(copy\u001b[39m=\u001b[39;49m\u001b[39mFalse\u001b[39;49;00m)\u001b[39m.\u001b[39;49m_add_dense(other)\n",
      "File \u001b[1;32mc:\\Users\\abdel\\anaconda3\\envs\\phys417\\lib\\site-packages\\scipy\\sparse\\_coo.py:567\u001b[0m, in \u001b[0;36mcoo_matrix._add_dense\u001b[1;34m(self, other)\u001b[0m\n\u001b[0;32m    564\u001b[0m     \u001b[39mraise\u001b[39;00m \u001b[39mValueError\u001b[39;00m(\u001b[39m'\u001b[39m\u001b[39mIncompatible shapes (\u001b[39m\u001b[39m{}\u001b[39;00m\u001b[39m and \u001b[39m\u001b[39m{}\u001b[39;00m\u001b[39m)\u001b[39m\u001b[39m'\u001b[39m\n\u001b[0;32m    565\u001b[0m                      \u001b[39m.\u001b[39mformat(\u001b[39mself\u001b[39m\u001b[39m.\u001b[39mshape, other\u001b[39m.\u001b[39mshape))\n\u001b[0;32m    566\u001b[0m dtype \u001b[39m=\u001b[39m upcast_char(\u001b[39mself\u001b[39m\u001b[39m.\u001b[39mdtype\u001b[39m.\u001b[39mchar, other\u001b[39m.\u001b[39mdtype\u001b[39m.\u001b[39mchar)\n\u001b[1;32m--> 567\u001b[0m result \u001b[39m=\u001b[39m np\u001b[39m.\u001b[39;49marray(other, dtype\u001b[39m=\u001b[39;49mdtype, copy\u001b[39m=\u001b[39;49m\u001b[39mTrue\u001b[39;49;00m)\n\u001b[0;32m    568\u001b[0m fortran \u001b[39m=\u001b[39m \u001b[39mint\u001b[39m(result\u001b[39m.\u001b[39mflags\u001b[39m.\u001b[39mf_contiguous)\n\u001b[0;32m    569\u001b[0m M, N \u001b[39m=\u001b[39m \u001b[39mself\u001b[39m\u001b[39m.\u001b[39mshape\n",
      "\u001b[1;31mKeyboardInterrupt\u001b[0m: "
     ]
    }
   ],
   "source": [
    "for i_index in range(N):\n",
    "    i_label = i_index+1\n",
    "    ac_Q_idagger = anticommutator(Q, psi_dagger_all[(i_label)]).toarray()\n",
    "\n",
    "    rhs = np.zeros(Q.shape)\n",
    "    for j_index in range(N-1):\n",
    "        j_label = j_index+1\n",
    "        for k_index in range(j_index+1, N):\n",
    "            k_label = k_index+1\n",
    "\n",
    "            C_ijk = C[i_index, j_index, k_index]\n",
    "            psi_jk = psi_pairs[(j_label, k_label)]\n",
    "            rhs += C_ijk*psi_jk\n",
    "\n",
    "    rhs *= 1j\n",
    "    print(np.allclose(ac_Q_idagger, rhs))\n",
    "\n",
    "    abs_diff = np.sum(np.sum(np.abs(ac_Q_idagger, rhs)))\n",
    "    print(f\"abs_diff: {abs_diff}\\n\")"
   ]
  },
  {
   "cell_type": "markdown",
   "metadata": {},
   "source": [
    "## 4. Hamiltonian"
   ]
  },
  {
   "cell_type": "code",
   "execution_count": 27,
   "metadata": {},
   "outputs": [
    {
     "name": "stdout",
     "output_type": "stream",
     "text": [
      "H hermitian: True\n"
     ]
    }
   ],
   "source": [
    "def anticommutator(A,B):\n",
    "    return A@B+B@A\n",
    "\n",
    "Q_bar = np.transpose(np.conjugate(Q))\n",
    "H = anticommutator(Q, Q_bar)\n",
    "\n",
    "print(f\"H hermitian: {linalg.ishermitian(H.toarray())}\")"
   ]
  },
  {
   "cell_type": "code",
   "execution_count": 28,
   "metadata": {},
   "outputs": [
    {
     "data": {
      "text/plain": [
       "(array([1260.,  252.,  260.,  236.,  252.,  260.,  260.,  228.,  208.,\n",
       "         192.,  156.,  124.,  116.,   84.,   72.,   56.,   36.,   32.,\n",
       "           8.,    4.]),\n",
       " array([-1.58931354e-14,  5.99401359e-01,  1.19880272e+00,  1.79820408e+00,\n",
       "         2.39760543e+00,  2.99700679e+00,  3.59640815e+00,  4.19580951e+00,\n",
       "         4.79521087e+00,  5.39461223e+00,  5.99401359e+00,  6.59341495e+00,\n",
       "         7.19281630e+00,  7.79221766e+00,  8.39161902e+00,  8.99102038e+00,\n",
       "         9.59042174e+00,  1.01898231e+01,  1.07892245e+01,  1.13886258e+01,\n",
       "         1.19880272e+01]),\n",
       " <BarContainer object of 20 artists>)"
      ]
     },
     "execution_count": 28,
     "metadata": {},
     "output_type": "execute_result"
    },
    {
     "data": {
      "image/png": "[encoded data removed]",
      "text/plain": [
       "<Figure size 640x480 with 1 Axes>"
      ]
     },
     "metadata": {},
     "output_type": "display_data"
    }
   ],
   "source": [
    "iv = np.linalg.eigvalsh(H.toarray())\n",
    "iv = np.sort(iv)\n",
    "plt.hist(iv, bins=20)"
   ]
  },
  {
   "cell_type": "markdown",
   "metadata": {},
   "source": [
    "Important question: How small is small-enough to consider it \"exactly 0\"?"
   ]
  }
 ],
 "metadata": {
  "kernelspec": {
   "display_name": "phys417",
   "language": "python",
   "name": "python3"
  },
  "language_info": {
   "codemirror_mode": {
    "name": "ipython",
    "version": 3
   },
   "file_extension": ".py",
   "mimetype": "text/x-python",
   "name": "python",
   "nbconvert_exporter": "python",
   "pygments_lexer": "ipython3",
   "version": "3.8.16"
  },
  "orig_nbformat": 4
 },
 "nbformat": 4,
 "nbformat_minor": 2
}
