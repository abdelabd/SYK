{
 "cells": [
  {
   "cell_type": "code",
   "execution_count": 1,
   "metadata": {},
   "outputs": [],
   "source": [
    "# file-handling\n",
    "import os \n",
    "\n",
    "# user status updates\n",
    "import time\n",
    "from time import gmtime, strftime\n",
    "from tqdm import tqdm\n",
    "from IPython.display import display, Latex\n",
    "from datetime import datetime\n",
    "\n",
    "# the holy trinity of python\n",
    "import numpy as np \n",
    "import matplotlib.pyplot as plt\n",
    "import pandas as pd\n",
    "\n",
    "# scipy\n",
    "import scipy\n",
    "from scipy import sparse, linalg, fft\n",
    "from scipy.linalg import expm, sinm, cosm\n",
    "import scipy.integrate as integrate\n",
    "from scipy.integrate import quad\n",
    "\n",
    "# parallelization, memory management\n",
    "from joblib import Parallel, delayed\n",
    "from numba import jit, njit, prange\n",
    "import copy\n",
    "\n",
    "# itertools\n",
    "import itertools\n",
    "\n",
    "############ Macros ###############\n",
    "np.random.seed(0)\n",
    "\n",
    "# Physical constants\n",
    "K = 5 # number of fermionic modes\n",
    "J = 10 # ~\"energy scale\"\n",
    "Q_COUPLING = 3 # order of coupling, don't want to use the letter 'Q' because that denotes the supercharge\n",
    "N = 2*K # number of fermions\n",
    "N_DIM = 2**N # Hilbert space dimension <-- Important: Hilbert space dimension is now 2^N instead of 2^(N/2). \n",
    "\n",
    "N_SAMPLES = 100 # number of samples to generate\n",
    "N_JOBS = 20 # number of jobs to run in parallel\n",
    "\n",
    "# Whether we want to check algebra\n",
    "CHECK_ALGEBRA = True\n",
    "\n",
    "N2_SUSY_DIR = os.path.join(\"Excel\", \"N2_supersymmetric_syk\")\n",
    "now = strftime(\"%Y-%m-%d %H:%M:%S\", gmtime()).replace(\"-\",\"_\").replace(\" \", \"_\").replace(\":\",\"_\")\n",
    "RESULT_DIR = os.path.join(N2_SUSY_DIR, \"Results\", now)\n",
    "os.makedirs(RESULT_DIR, exist_ok=True)\n",
    "\n",
    "PSI_DIR = os.path.join(N2_SUSY_DIR, \"Psi\")\n",
    "os.makedirs(PSI_DIR, exist_ok=True)\n",
    "\n",
    "K_DIR = os.path.join(PSI_DIR, f\"K{K}\")\n",
    "os.makedirs(K_DIR, exist_ok=True)\n"
   ]
  },
  {
   "cell_type": "markdown",
   "metadata": {},
   "source": [
    "# 1. Fermion operators"
   ]
  },
  {
   "cell_type": "markdown",
   "metadata": {},
   "source": [
    "Since we can't use memoization simultaneously with parallelization, we will instead precomputed all our desired values, and use those precomputed values in the parallelization"
   ]
  },
  {
   "cell_type": "markdown",
   "metadata": {},
   "source": [
    "### 1.a. Define and precompute first N fermions"
   ]
  },
  {
   "cell_type": "code",
   "execution_count": 2,
   "metadata": {},
   "outputs": [
    {
     "name": "stdout",
     "output_type": "stream",
     "text": [
      "Computing psi's...\n",
      "Computing psi_dagger's...\n"
     ]
    }
   ],
   "source": [
    "cr = sparse.csr_array(np.array([[0,1],[0,0]]))\n",
    "an = sparse.csr_array(np.array([[0,0],[1,0]]))\n",
    "id = sparse.csr_array(np.identity(2))\n",
    "id2 = sparse.csr_array(np.array([[-1,0],[0,1]]))\n",
    "\n",
    "def psi(n):\n",
    "    factors = [id for i in range(n-1)]+[cr]+[id2 for i in range(N-n)]\n",
    "    out = factors[0]\n",
    "    for i in range(1, N):\n",
    "        out = sparse.kron(out,factors[i])\n",
    "    return out\n",
    "\n",
    "def psi_dagger(n):\n",
    "    factors = [id for i in range(n-1)]+[an]+[id2 for i in range(N-n)]\n",
    "    out = factors[0]\n",
    "    for i in range(1, N):\n",
    "        out = sparse.kron(out,factors[i])\n",
    "    return out\n",
    "\n",
    "# Try loading the psi's and psi_dagger's if previously computed, otherwise compute and save them\n",
    "try:\n",
    "    psi_all = {}\n",
    "    for i in range(1,N+1):\n",
    "        psi_i = np.load(os.path.join(K_DIR, f\"psi_{i}.npy\"))\n",
    "        psi_all[i] = sparse.csr_matrix(psi_i)\n",
    "except FileNotFoundError:\n",
    "    print(\"Computing psi's...\")\n",
    "    psi_all = Parallel(n_jobs=N_JOBS)(delayed(psi)(n) for n in range(1,N+1))\n",
    "    psi_all = {k+1:v for k,v in enumerate(psi_all)}\n",
    "    for i, psi_i_sparse in psi_all.items():\n",
    "        psi_i = psi_i_sparse.toarray()\n",
    "        np.save(os.path.join(K_DIR, f\"psi_{i}.npy\"), psi_i)\n",
    "\n",
    "try:\n",
    "    psi_dagger_all = {}\n",
    "    for i in range(1,N+1):\n",
    "        psi_dagger_i = np.load(os.path.join(K_DIR, f\"psi_dagger_{i}.npy\"))\n",
    "        psi_dagger_all[i] = sparse.csr_matrix(psi_dagger_i)\n",
    "except FileNotFoundError:\n",
    "    print(\"Computing psi_dagger's...\")\n",
    "    psi_dagger_all = Parallel(n_jobs=N_JOBS)(delayed(psi_dagger)(n) for n in range(1,N+1))\n",
    "    psi_dagger_all = {k+1:v for k,v in enumerate(psi_dagger_all)}\n",
    "    for i, psi_dagger_i_sparse in psi_dagger_all.items():\n",
    "        psi_dagger_i = psi_dagger_i_sparse.toarray()\n",
    "        np.save(os.path.join(K_DIR, f\"psi_dagger_{i}.npy\"), psi_dagger_i)\n",
    "\n",
    "# Confirm that psi_dagger as defined indeed gives psi_dagger\n",
    "for i, psi_i in psi_all.items():\n",
    "    psi_daggeri = psi_dagger_all[i]\n",
    "    assert(np.allclose(np.transpose(np.conjugate(psi_i.toarray())), psi_daggeri.toarray()))"
   ]
  },
  {
   "cell_type": "markdown",
   "metadata": {},
   "source": [
    "### 1.b. Precompute pairwise dot-products of psi's and psi_dagger's"
   ]
  },
  {
   "cell_type": "markdown",
   "metadata": {},
   "source": [
    "In order to check that the algebra is satisfied, we would need every pairwise combination of $\\psi_i, \\psi_j$, $\\psi_i, \\psi_j^\\dagger$, $\\psi_i^\\dagger, \\psi_j^\\dagger$.\n",
    "\n",
    "Otherwise, only need $\\psi^i, \\psi^j$ where $i<N$, $j>i$"
   ]
  },
  {
   "cell_type": "code",
   "execution_count": 3,
   "metadata": {},
   "outputs": [
    {
     "name": "stdout",
     "output_type": "stream",
     "text": [
      "Computing psi_psi's...\n",
      "Computing psi_psi_dagger's...\n",
      "Computing psi_dagger_psi's...\n",
      "Computing psi_dagger_psi_dagger's...\n",
      "\n",
      "Duration: 0.0 minutes, 32.28885531425476 seconds\n"
     ]
    }
   ],
   "source": [
    "def psi_psi(i, j):\n",
    "    return psi_all[i]@psi_all[j]\n",
    "\n",
    "def psi_psi_dagger(i, j):\n",
    "    return psi_all[i]@psi_dagger_all[j]\n",
    "\n",
    "def psi_dagger_psi(i, j):\n",
    "    return psi_dagger_all[i]@psi_all[j]\n",
    "\n",
    "def psi_dagger_psi_dagger(i, j):\n",
    "    return psi_dagger_all[i]@psi_dagger_all[j]\n",
    "\n",
    "\n",
    "# Again, load them if possible, otherwise compute and save\n",
    "tic = time.time()\n",
    "\n",
    "# psi_psi\n",
    "try:\n",
    "    psi_psi_all = {}\n",
    "    for i in range(1, N+1):\n",
    "        for j in range(1, N+1):\n",
    "            psi_psi_ij = np.load(os.path.join(K_DIR, f\"psi_psi_{i}{j}.npy\"))\n",
    "            psi_psi_all[(i,j)] = sparse.csr_matrix(psi_psi_ij)\n",
    "except FileNotFoundError:\n",
    "    print(\"Computing psi_psi's...\")\n",
    "    psi_psi_all = {}\n",
    "    for i in range(1, N+1):\n",
    "        psi_psi_i = Parallel(n_jobs=N_JOBS)(delayed(psi_psi)(i,j) for j in range(1, N+1))\n",
    "        psi_psi_i = {(i, j+1):v for j,v in enumerate(psi_psi_i)}\n",
    "        for (i_label, j_label), psi_psi_ij_sparse in psi_psi_i.items():\n",
    "            psi_psi_ij = psi_psi_ij_sparse.toarray()\n",
    "            np.save(os.path.join(K_DIR, f\"psi_psi_{i_label}{j_label}.npy\"), psi_psi_ij)\n",
    "        psi_psi_all.update(psi_psi_i)\n",
    "\n",
    "# psi_psi_dagger\n",
    "try:\n",
    "    psi_psi_dagger_all = {}\n",
    "    for i in range(1, N+1):\n",
    "        for j in range(1, N+1):\n",
    "            psi_psi_dagger_ij = np.load(os.path.join(K_DIR, f\"psi_psi_dagger_{i}{j}.npy\"))\n",
    "            psi_psi_dagger_all[(i,j)] = sparse.csr_matrix(psi_psi_dagger_ij)\n",
    "except FileNotFoundError:\n",
    "    print(\"Computing psi_psi_dagger's...\")\n",
    "    psi_psi_dagger_all = {}\n",
    "    for i in range(1, N+1):\n",
    "        psi_psi_dagger_i = Parallel(n_jobs=N_JOBS)(delayed(psi_psi_dagger)(i,j) for j in range(1, N+1))\n",
    "        psi_psi_dagger_i = {(i, j+1):v for j,v in enumerate(psi_psi_dagger_i)}\n",
    "        for (i_label, j_label), psi_psi_dagger_ij_sparse in psi_psi_dagger_i.items():\n",
    "            psi_psi_dagger_ij = psi_psi_dagger_ij_sparse.toarray()\n",
    "            np.save(os.path.join(K_DIR, f\"psi_psi_dagger_{i_label}{j_label}.npy\"), psi_psi_dagger_ij)\n",
    "        psi_psi_dagger_all.update(psi_psi_dagger_i)\n",
    "\n",
    "# psi_dagger_psi\n",
    "try:\n",
    "    psi_dagger_psi_all = {}\n",
    "    for i in range(1, N+1):\n",
    "        for j in range(1, N+1):\n",
    "            psi_dagger_psi_ij = np.load(os.path.join(K_DIR, f\"psi_dagger_psi_{i}{j}.npy\"))\n",
    "            psi_dagger_psi_all[(i,j)] = sparse.csr_matrix(psi_dagger_psi_ij)\n",
    "except FileNotFoundError:\n",
    "    print(\"Computing psi_dagger_psi's...\")\n",
    "    psi_dagger_psi_all = {}\n",
    "    for i in range(1, N+1):\n",
    "        psi_dagger_psi_i = Parallel(n_jobs=N_JOBS)(delayed(psi_dagger_psi)(i,j) for j in range(1, N+1))\n",
    "        psi_dagger_psi_i = {(i, j+1):v for j,v in enumerate(psi_dagger_psi_i)}\n",
    "        for (i_label, j_label), psi_dagger_psi_ij_sparse in psi_dagger_psi_i.items():\n",
    "            psi_dagger_psi_ij = psi_dagger_psi_ij_sparse.toarray()\n",
    "            np.save(os.path.join(K_DIR, f\"psi_dagger_psi_{i_label}{j_label}.npy\"), psi_dagger_psi_ij)\n",
    "        psi_dagger_psi_all.update(psi_dagger_psi_i)\n",
    "\n",
    "# psi_dagger_psi_dagger\n",
    "try:\n",
    "    psi_dagger_psi_dagger_all = {}\n",
    "    for i in range(1, N+1):\n",
    "        for j in range(1, N+1):\n",
    "            psi_dagger_psi_dagger_ij = np.load(os.path.join(K_DIR, f\"psi_dagger_psi_dagger_{i}{j}.npy\"))\n",
    "            psi_dagger_psi_dagger_all[(i,j)] = sparse.csr_matrix(psi_dagger_psi_dagger_ij)\n",
    "except FileNotFoundError:\n",
    "    print(\"Computing psi_dagger_psi_dagger's...\")\n",
    "    psi_dagger_psi_dagger_all = {}\n",
    "    for i in range(1, N+1):\n",
    "        psi_dagger_psi_dagger_i = Parallel(n_jobs=N_JOBS)(delayed(psi_dagger_psi_dagger)(i,j) for j in range(1, N+1))\n",
    "        psi_dagger_psi_dagger_i = {(i, j+1):v for j,v in enumerate(psi_dagger_psi_dagger_i)}\n",
    "        for (i_label, j_label), psi_dagger_psi_dagger_ij_sparse in psi_dagger_psi_dagger_i.items():\n",
    "            psi_dagger_psi_dagger_ij = psi_dagger_psi_dagger_ij_sparse.toarray()\n",
    "            np.save(os.path.join(K_DIR, f\"psi_dagger_psi_dagger_{i_label}{j_label}.npy\"), psi_dagger_psi_dagger_ij)\n",
    "        psi_dagger_psi_dagger_all.update(psi_dagger_psi_dagger_i)\n",
    "\n",
    "toc = time.time()\n",
    "duration = toc - tic\n",
    "print(f\"\\nDuration: {duration//60} minutes, {duration%60} seconds\")\n"
   ]
  },
  {
   "cell_type": "markdown",
   "metadata": {},
   "source": [
    "### 1.c. Check that they satisfy the given algebra"
   ]
  },
  {
   "cell_type": "markdown",
   "metadata": {},
   "source": [
    "In this case, our fermions are actually the \"fermionic mode\" operators from the original SYK model. In other words, they satisfy the anticommutation relations:\n",
    "\n",
    "$\\{ \\psi^i, \\bar{\\psi_j} \\} = \\delta^i_j$\n",
    "\n",
    "$\\{ \\psi^i, \\psi^j \\} = 0$\n",
    "\n",
    "$\\{ \\bar{\\psi_i}, \\bar{\\psi_j} \\} = 0$"
   ]
  },
  {
   "cell_type": "code",
   "execution_count": 4,
   "metadata": {},
   "outputs": [
    {
     "name": "stdout",
     "output_type": "stream",
     "text": [
      "Checking fermion algebra...\n"
     ]
    },
    {
     "name": "stderr",
     "output_type": "stream",
     "text": [
      " 10%|█         | 1/10 [00:13<01:59, 13.29s/it]"
     ]
    },
    {
     "name": "stdout",
     "output_type": "stream",
     "text": [
      "Expected duration: 2.0 minutes, 12.96926498413086 seconds\n"
     ]
    },
    {
     "name": "stderr",
     "output_type": "stream",
     "text": [
      "100%|██████████| 10/10 [01:11<00:00,  7.10s/it]"
     ]
    },
    {
     "name": "stdout",
     "output_type": "stream",
     "text": [
      "\n",
      "Duration: 1.0 minutes, 11.046058893203735 seconds\n",
      "Fermion algebra satisfied: True\n"
     ]
    },
    {
     "name": "stderr",
     "output_type": "stream",
     "text": [
      "\n"
     ]
    }
   ],
   "source": [
    "def process_j(i_index, j_index):\n",
    "    psi_algebra_satisfied_ij = True\n",
    "\n",
    "    i_label = i_index+1\n",
    "    j_label = j_index+1\n",
    "\n",
    "    # ac_i_j = psi(i)@psi(j)+psi(j)@psi(i)\n",
    "    ac_i_j = psi_psi_all[(i_label,j_label)]+psi_psi_all[(j_label,i_label)]    \n",
    "    ac_i_j = ac_i_j.toarray()\n",
    "    if not np.allclose(ac_i_j, np.zeros((N_DIM, N_DIM))):\n",
    "        psi_algebra_satisfied_ij = False\n",
    "\n",
    "    # ac_id_jd = psi_dagger(i)@psi_dagger(j)+psi_dagger(j)@psi_dagger(i)\n",
    "    ac_idagger_jdagger = psi_dagger_psi_dagger_all[(i_label, j_label)]+psi_dagger_psi_dagger_all[(j_label, i_label)]\n",
    "    ac_idagger_jdagger = ac_idagger_jdagger.toarray()\n",
    "    if not np.allclose(ac_idagger_jdagger, np.zeros((N_DIM, N_DIM))):\n",
    "        psi_algebra_satisfied_ij = False\n",
    "\n",
    "    ac_i_jdagger = psi_psi_dagger_all[(i_label, j_label)]+psi_dagger_psi_all[(j_label, i_label)]\n",
    "    ac_i_jdagger = ac_i_jdagger.toarray()\n",
    "    if i_label==j_label:\n",
    "        if not np.allclose(ac_i_jdagger, np.identity(N_DIM)):\n",
    "            psi_algebra_satisfied_ij = False\n",
    "    else:\n",
    "        if not np.allclose(ac_i_jdagger, np.zeros((N_DIM, N_DIM))):\n",
    "            psi_algebra_satisfied_ij = False\n",
    "\n",
    "    return psi_algebra_satisfied_ij\n",
    "\n",
    "if CHECK_ALGEBRA:\n",
    "    print(\"Checking fermion algebra...\")\n",
    "    psi_algebra_satisfied = True\n",
    "    tic = time.time()\n",
    "    for i_index in tqdm(range(N)):\n",
    "\n",
    "        # anticommutator(A, B) \\equiv anticommutator(A, B), for ANY operators A, B\n",
    "        # Since these are all anticommutation relations, it's therefore only necessary to check for j>=i \n",
    "        # Note that we do have to include j==i because that's in the prescribed anticommutation relations\n",
    "        psi_algebra_satisfied_i = Parallel(n_jobs=N_JOBS)(delayed(process_j)(i_index, j_index) for j_index in range(i_index, N))\n",
    "        if False in psi_algebra_satisfied_i:\n",
    "            psi_algebra_satisfied = False\n",
    "            break\n",
    "\n",
    "        if i_index==0:\n",
    "            duration = time.time() - tic\n",
    "            n_jobs = N\n",
    "            exp_dur = duration*n_jobs\n",
    "            print(f\"Expected duration: {exp_dur//60} minutes, {exp_dur%60} seconds\")\n",
    "\n",
    "    toc = time.time()\n",
    "    duration = toc - tic\n",
    "    print(f\"\\nDuration: {duration//60} minutes, {duration%60} seconds\")\n",
    "    print(f\"Fermion algebra satisfied: {psi_algebra_satisfied}\")"
   ]
  },
  {
   "cell_type": "markdown",
   "metadata": {},
   "source": [
    "### 1.e. Precompute triple inner-products"
   ]
  },
  {
   "cell_type": "markdown",
   "metadata": {},
   "source": [
    "Since there are no comprehensive anticommutation relations to check for triple inner-products, we only need the terms included in the definition of the Hamiltonian, i.e. $i<j<k$."
   ]
  },
  {
   "cell_type": "code",
   "execution_count": 5,
   "metadata": {},
   "outputs": [
    {
     "name": "stdout",
     "output_type": "stream",
     "text": [
      "Computing psi_psi_psi's...\n",
      "Duration: 0.0 minutes, 11.884961128234863 seconds\n"
     ]
    }
   ],
   "source": [
    "def psi_psi_psi(psi_psi_ij,k):\n",
    "    psi_ijk = psi_psi_ij@psi_all[k]\n",
    "    return psi_ijk\n",
    "\n",
    "tic = time.time()\n",
    "# psi_psi_psi\n",
    "try:\n",
    "    psi_psi_psi_all = {}\n",
    "    for i in range(1, N-1):\n",
    "        for j in range(i+1, N):\n",
    "            for k in range(j+1, N+1):\n",
    "                psi_psi_psi_ijk = np.load(os.path.join(K_DIR, f\"psi_psi_psi_{i}{j}{k}.npy\"))\n",
    "                psi_psi_psi_all[(i,j,k)] = sparse.csr_matrix(psi_psi_psi_ijk)\n",
    "except FileNotFoundError:\n",
    "    print(\"Computing psi_psi_psi's...\")\n",
    "    psi_psi_psi_all = {}\n",
    "    for i in range(1, N-1):\n",
    "        for j in range(i+1, N):\n",
    "            psi_psi_ij = psi_psi_all[(i,j)]\n",
    "            psi_psi_psi_ij = Parallel(n_jobs=N_JOBS)(delayed(psi_psi_psi)(psi_psi_ij, k) for k in range(j+1, N+1))\n",
    "            psi_psi_psi_ij = {(i, j, j+k+1):v for k,v in enumerate(psi_psi_psi_ij)}\n",
    "            for (i_label, j_label, k_label), psi_psi_psi_ijk_sparse in psi_psi_psi_ij.items():\n",
    "                psi_psi_psi_ijk = psi_psi_psi_ijk_sparse.toarray()\n",
    "                np.save(os.path.join(K_DIR, f\"psi_psi_psi_{i_label}{j_label}{k_label}.npy\"), psi_psi_psi_ijk)\n",
    "            psi_psi_psi_all.update(psi_psi_psi_ij)\n",
    "\n",
    "duration = time.time() - tic\n",
    "print(f\"Duration: {duration//60} minutes, {duration%60} seconds\")"
   ]
  },
  {
   "cell_type": "markdown",
   "metadata": {},
   "source": [
    "# 2. Random coefficients tensor, $C_{ijk}$"
   ]
  },
  {
   "cell_type": "markdown",
   "metadata": {},
   "source": [
    "\"$C_{ijk}$ are independent, random, complex numbers... with second moment $\\overline{C_{ijk} \\bar{C}^{ijk}} = \\frac{2J}{N^2}$\""
   ]
  },
  {
   "cell_type": "markdown",
   "metadata": {},
   "source": [
    "Here's the strategy:\n",
    "\n",
    "To achieve antisymmetry, start by filling in upper-upper-triangle (i.e. where k>j>i), and leave all other elements as zero. Then, for positive permutations of the indeces, *add* this upper-upper-triangle matrix transposed about those axes; conversely, for negative permutations of the indeces, *subtract* the transpose. \n",
    "\n",
    "However, we must first figure out how to find these upper-upper-triangle elements such that the variance of the overall matrix-elements is $\\sigma_C^2$. "
   ]
  },
  {
   "cell_type": "markdown",
   "metadata": {},
   "source": [
    "## 2.a. Compute variance of upper-upper-triangle elements"
   ]
  },
  {
   "cell_type": "markdown",
   "metadata": {},
   "source": [
    "In other words, we must choose the upper-upper-triangular elements from some distribution $C' \\sim \\mathcal{N}(0, \\sigma_{C'})$, such that the zero elements along the diagonals and the equal-magnitude elements along the cross-diagonals give the total variance $\\sigma_C^2$. "
   ]
  },
  {
   "cell_type": "markdown",
   "metadata": {},
   "source": [
    "\n",
    "    Digression: But wouldn't that ruin the \"Gaussian-ness\" of the overall distribution? \n",
    "    - Well, we know the sum of two gaussians is still a gaussian. \n",
    "    - Moreover, I *think* we can say that the off-diagonal elements form a Gaussian (although they surely aren't independent of one another?). \n",
    "    - However, the diagonal elements are equivalently zero, so is it fair to call them a distribution at all? Sure we can say they're $\\sim \\mathcal{N}(0,0)$, but that seems like cheating..."
   ]
  },
  {
   "cell_type": "markdown",
   "metadata": {},
   "source": [
    "Save that question for later. For now, let's find $\\sigma_{C'}^2$.\n",
    "\n",
    "Start by writing down the expression for $\\sigma_C^2$\n",
    "\n",
    "$\\sigma_C^2 = (\\frac{1}{N}) \\sum_{i=1}^N \\sum_{j=1}^N \\sum_{k=1}^N (C_{ijk} - \\mu)^2$"
   ]
  },
  {
   "cell_type": "markdown",
   "metadata": {},
   "source": [
    "And we know $\\mu=0$, so:\n",
    "\n",
    "$\\sigma_C^2 = (\\frac{1}{N}) \\sum_{i=1}^N \\sum_{j=1}^N \\sum_{k=1}^N C_{ijk}^2$"
   ]
  },
  {
   "cell_type": "markdown",
   "metadata": {},
   "source": [
    "$= (\\frac{1}{N}) \\sum_{i=1}^N \\sum_{j=1}^{N} \\sum_{k=1}^{j-1} C_{ijk}^2 + (\\frac{1}{N}) \\sum_{i=1}^N \\sum_{j=1}^N C_{ijk}^2|_{k=j} + (\\frac{1}{N}) \\sum_{i=1}^N \\sum_{j=1}^{N} \\sum_{k=j+1}^N C_{ijk}^2$"
   ]
  },
  {
   "cell_type": "markdown",
   "metadata": {},
   "source": [
    "And since $C_{ijk}$ is antisymmetric, we know $C_{ijk}|_{k=j} \\equiv 0$:\n",
    "\n",
    "$\\sigma_C^2 = (\\frac{1}{N}) \\sum_{i=1}^N \\sum_{j=1}^{N} \\sum_{k=1}^{j-1} C_{ijk}^2 + (\\frac{1}{N}) \\sum_{i=1}^N \\sum_{j=1}^{N} \\sum_{k=j+1}^N C_{ijk}^2$"
   ]
  },
  {
   "cell_type": "markdown",
   "metadata": {},
   "source": [
    "We can see that the first and second terms on the right-hand side describe the bottom and upper-triangles of the 2D matrices indexed by (j,k) for each i. The antisymmetry condition again constrains these; we know these must be negatives of each other, meaning they have the same squared values. "
   ]
  },
  {
   "cell_type": "markdown",
   "metadata": {},
   "source": [
    "$\\sigma_C^2 = (\\frac{2}{N}) \\sum_{i=1}^N \\sum_{j=1}^{N} \\sum_{k=j+1}^N C_{ijk}^2$"
   ]
  },
  {
   "cell_type": "markdown",
   "metadata": {},
   "source": [
    "$= (\\frac{2}{N}) \\sum_{i=1}^N \\sum_{j=1}^{i-1} \\sum_{k=j+1}^N C_{ijk}^2 + (\\frac{2}{N}) \\sum_{i=1}^N \\sum_{k=j+1}^N C_{ijk}^2|_{j=i} + (\\frac{2}{N}) \\sum_{i=1}^N \\sum_{j=i+1}^{N} \\sum_{k=j+1}^N C_{ijk}^2$"
   ]
  },
  {
   "cell_type": "markdown",
   "metadata": {},
   "source": [
    "$= (\\frac{2}{N}) \\sum_{i=1}^N \\sum_{j=1}^{i-1} \\sum_{k=j+1}^N C_{ijk}^2 + (\\frac{2}{N}) \\sum_{i=1}^N \\sum_{j=i+1}^{N} \\sum_{k=j+1}^N C_{ijk}^2$"
   ]
  },
  {
   "cell_type": "markdown",
   "metadata": {},
   "source": [
    "$= (\\frac{4}{N}) \\sum_{i=1}^N \\sum_{j=i+1}^{N} \\sum_{k=j+1}^N C_{ijk}^2$"
   ]
  },
  {
   "cell_type": "markdown",
   "metadata": {},
   "source": [
    "$\\sigma_C^2 = (\\frac{4}{N}) \\sum_{i=1}^{N-2} \\sum_{j=i+1}^{N-1} \\sum_{k=j+1}^N C_{ijk}^2$"
   ]
  },
  {
   "cell_type": "markdown",
   "metadata": {},
   "source": [
    "On the other hand, by definition, $\\sigma_{C'}^2$ describes the variance of the distribution from which we draw *only* the upper-triangle elements"
   ]
  },
  {
   "cell_type": "markdown",
   "metadata": {},
   "source": [
    "$\\sigma_{C'}^2 \\equiv (\\frac{1}{N_{upper}}) \\sum_{i=1}^{N-2} \\sum_{j=i+1}^{N-1} \\sum_{k=j+1}^N C_{ijk}^2$,\n",
    "\n",
    "where $N_{upper} = \\frac{1}{6} N(N-1)(N-2)$\n",
    "\n",
    "$\\Longrightarrow \\sigma_{C'}^2 = (\\frac{6}{N(N-1)(N-2)}) \\sum_{i=1}^{N-2} \\sum_{j=i+1}^{N-1} \\sum_{k=j+1}^N C_{ijk}^2$"
   ]
  },
  {
   "cell_type": "markdown",
   "metadata": {},
   "source": [
    "$\\frac{\\sigma_{C'}^2}{\\sigma_C^2} = \\frac{6}{N(N-1)(N-2)} \\frac{N}{4} = \\frac{3}{2(N-1)(N-2)}$ "
   ]
  },
  {
   "cell_type": "markdown",
   "metadata": {},
   "source": [
    "Finally,\n",
    "\n",
    "$\\sigma_{C'} = \\sigma_C \\sqrt{\\frac{3}{2(N-1)(N-2)}}$\n",
    "\n",
    "That's the variance we use to select the upper-triangle elements!!"
   ]
  },
  {
   "cell_type": "code",
   "execution_count": 6,
   "metadata": {},
   "outputs": [],
   "source": [
    "sigma_C = np.sqrt(2*J/(N**2))\n",
    "sigma_C_prime = sigma_C*np.sqrt(3/(2*(N-1)*(N-2)))\n",
    "#sigma_C_prime = sigma_C/np.sqrt(6)"
   ]
  },
  {
   "cell_type": "markdown",
   "metadata": {},
   "source": [
    "## 2.b. Generate distribution for upper-upper-triangle elements"
   ]
  },
  {
   "cell_type": "markdown",
   "metadata": {},
   "source": [
    "To select the upper-upper-triangle elements, we draw them from the distribution \n",
    "\n",
    "$C' \\sim \\mathcal{N}(0, \\sigma_C \\sqrt{\\frac{3}{2(N-1)(N-2)}})$\n",
    "\n",
    "But since $C'$ is complex, it's not so straightforward..."
   ]
  },
  {
   "cell_type": "markdown",
   "metadata": {},
   "source": [
    "### 2.b.iii. Generate distribution for real, imaginary parts"
   ]
  },
  {
   "cell_type": "markdown",
   "metadata": {},
   "source": [
    "We must define it as the sum of a real and imaginary distribution:\n",
    "\n",
    "$C' = X' + iY'$,  \n",
    "\n",
    "where $X' \\sim \\mathcal{N}(0, \\sigma_{X'})$, $Y \\sim \\mathcal{N}(0, \\sigma_{Y'})$\n",
    "\n",
    "Per the variance-addition rule, we know: $\\sigma_{X'}=\\sigma_{Y'}=\\frac{\\sigma_{C'}}{\\sqrt{2}}$"
   ]
  },
  {
   "cell_type": "code",
   "execution_count": 7,
   "metadata": {},
   "outputs": [],
   "source": [
    "N_UPPER = N*(N-1)*(N-2)//6\n",
    "\n",
    "sigma_XY_prime = sigma_C_prime/np.sqrt(2)\n",
    "#sigma_XY_prime = sigma_C/np.sqrt(2)\n",
    "X_prime = np.random.normal(0, sigma_XY_prime, size=(N_UPPER))\n",
    "Y_prime = np.random.normal(0, sigma_XY_prime, size=(N_UPPER))"
   ]
  },
  {
   "cell_type": "markdown",
   "metadata": {},
   "source": [
    "### 2.b.ii Combine them into complex distribution"
   ]
  },
  {
   "cell_type": "code",
   "execution_count": 8,
   "metadata": {},
   "outputs": [],
   "source": [
    "C_prime = X_prime + 1j*Y_prime"
   ]
  },
  {
   "cell_type": "markdown",
   "metadata": {},
   "source": [
    "## 2.c. Generate $C$ matrix"
   ]
  },
  {
   "cell_type": "markdown",
   "metadata": {},
   "source": [
    "### 2.c.i Initialize the upper-upper-triangle array"
   ]
  },
  {
   "cell_type": "code",
   "execution_count": 9,
   "metadata": {},
   "outputs": [],
   "source": [
    "C_upper_upper = np.zeros(shape = [N for i in range(Q_COUPLING)], dtype=np.complex128)\n",
    "\n",
    "index = 0\n",
    "for i in range(N-2):\n",
    "    for j in range(i+1, N-1):\n",
    "        for k in range(j+1, N):\n",
    "            C_upper_upper[i, j, k] = C_prime[index]\n",
    "            index += 1"
   ]
  },
  {
   "cell_type": "markdown",
   "metadata": {},
   "source": [
    "### 2.c.ii Antisymmetrize by adding positive and negative permutations."
   ]
  },
  {
   "cell_type": "markdown",
   "metadata": {},
   "source": [
    "To do that, we first need a function to antisymmetrize the tuple (i,j,k):"
   ]
  },
  {
   "cell_type": "code",
   "execution_count": 10,
   "metadata": {},
   "outputs": [],
   "source": [
    "def levi_civita_tensor(dim):   \n",
    "    arr=np.zeros(tuple([dim for i in range(dim)]), dtype=np.int32)\n",
    "    for x in itertools.permutations(tuple(range(dim))):\n",
    "        mat = np.zeros((dim, dim), dtype=np.int32)\n",
    "        for i, j in zip(range(dim), x):\n",
    "            mat[i, j] = 1\n",
    "        arr[x]=int(np.linalg.det(mat))\n",
    "    return arr\n",
    "\n",
    "def asym_perm(iterable):\n",
    "    n_elem = len(iterable)\n",
    "    if len(set(iterable)) < n_elem:\n",
    "        return 0 # <-- If there are repeated elements, levi-civita value is identically zero \n",
    "\n",
    "    order_0 = tuple(list(range(n_elem)))\n",
    "    all_orders = list(itertools.permutations(order_0))\n",
    "    all_permutations = [tuple([iterable[i] for i in order]) for order in all_orders]\n",
    "\n",
    "    lc_tensor = levi_civita_tensor(n_elem)\n",
    "    out = {}\n",
    "    for i in range(len(all_orders)):\n",
    "        order_i = all_orders[i]\n",
    "        multiplier = lc_tensor[order_i]\n",
    "\n",
    "        permutation_i = all_permutations[i]\n",
    "        out[permutation_i] = multiplier\n",
    "\n",
    "    return out"
   ]
  },
  {
   "cell_type": "markdown",
   "metadata": {},
   "source": [
    "Here we antisymmetrize and form the overall array"
   ]
  },
  {
   "cell_type": "code",
   "execution_count": 11,
   "metadata": {},
   "outputs": [],
   "source": [
    "axes_og = (0,1,2)\n",
    "axes_asym_perms = asym_perm(axes_og)\n",
    "\n",
    "C = np.zeros(shape=[N for i in range(Q_COUPLING)], dtype=np.complex128)\n",
    "for axes, multiplier in axes_asym_perms.items():\n",
    "    addendum = multiplier*np.transpose(C_upper_upper, axes)\n",
    "    C += addendum"
   ]
  },
  {
   "cell_type": "markdown",
   "metadata": {},
   "source": [
    "## 2.d. Check antisymmetry, variance, mean"
   ]
  },
  {
   "cell_type": "markdown",
   "metadata": {},
   "source": [
    "### 2.d.i Check antisymmetry"
   ]
  },
  {
   "cell_type": "markdown",
   "metadata": {},
   "source": [
    "$C_{ijk} = -C_{ikj} = -C_{jik}  = C_{jki} = -C_{kji} = C_{kij}$.\n",
    "\n",
    "In other words:\n",
    "- If $i==j$, $j==k$, or $i==k$: $C_{ijk} = 0$\n",
    "\n",
    "Otherwise:\n",
    "- $C_{ikj} = -C_{ijk}$\n",
    "- $C_{jik} = -C_{ijk}$\n",
    "- $C_{jki} = C_{ijk}$\n",
    "- $C_{kji} = -C_{ijk}$\n",
    "- $C_{kij} = C_{ijk}$\n"
   ]
  },
  {
   "cell_type": "code",
   "execution_count": 12,
   "metadata": {},
   "outputs": [
    {
     "name": "stdout",
     "output_type": "stream",
     "text": [
      "antisymmetric: True\n",
      "errors: []\n"
     ]
    }
   ],
   "source": [
    "antisymmetric = True\n",
    "errors = []\n",
    "for i in range(N):\n",
    "    for j in range(N):\n",
    "        if i==j:\n",
    "            if C[i,j,k] != 0:\n",
    "                antisymmetric=False\n",
    "                errors.append(1)\n",
    "\n",
    "        for k in range(N):\n",
    "            C_ijk = C[i,j,k]\n",
    "            if j==k:\n",
    "                if C_ijk != 0:\n",
    "                    antisymmetric=False\n",
    "                    errors.append(2)\n",
    "\n",
    "            elif i==k:\n",
    "                if C_ijk != 0:\n",
    "                    antisymmetric=False\n",
    "                    errors.append(3)\n",
    "\n",
    "            else:\n",
    "                if C_ijk != - C[i,k,j]:\n",
    "                    antisymmetric = False\n",
    "                    errors.append(4)\n",
    "\n",
    "                if C_ijk != -C[j,i,k]:\n",
    "                    antisymmetric = False\n",
    "                    errors.append(5)\n",
    "\n",
    "                if C_ijk != C[j,k,i]:\n",
    "                    antisymmetric = False\n",
    "                    errors.append(6)\n",
    "\n",
    "                if C_ijk != -C[k,j,i]:\n",
    "                    antisymmetric = False\n",
    "                    errors.append(7)\n",
    "\n",
    "                if C_ijk != C[k,i,j]:\n",
    "                    antisymmetric = False\n",
    "                    errors.append(8)\n",
    "\n",
    "\n",
    "print(f\"antisymmetric: {antisymmetric}\")\n",
    "print(f\"errors: {errors}\")"
   ]
  },
  {
   "cell_type": "markdown",
   "metadata": {},
   "source": [
    "Confirm that this is in line with equation 5.4: \n",
    "\n",
    "$\\overline{C_{ijk} \\bar{C}^{ijk}} = \\frac{2J}{N^2}$"
   ]
  },
  {
   "cell_type": "code",
   "execution_count": 13,
   "metadata": {},
   "outputs": [
    {
     "name": "stdout",
     "output_type": "stream",
     "text": [
      "Declared variance: 0.19999999999999998, Computed variance: 0.0029928274396315087\n",
      "Abs diff: 0.19700717256036848\n",
      "Percent abs diff: 98.50%\n"
     ]
    }
   ],
   "source": [
    "declared_variance = sigma_C**2\n",
    "C_bar = np.conjugate(C)\n",
    "computed_variance = np.var(C)#np.mean(np.mean(np.mean(C*C_bar)))\n",
    "\n",
    "print(f\"Declared variance: {declared_variance}, Computed variance: {computed_variance}\")\n",
    "print(f\"Abs diff: {np.abs(computed_variance-declared_variance)}\")\n",
    "print(f\"Percent abs diff: {100*np.abs(computed_variance-declared_variance)/declared_variance:.2f}%\")"
   ]
  },
  {
   "cell_type": "markdown",
   "metadata": {},
   "source": [
    "## 3. Supercharge, $Q$"
   ]
  },
  {
   "cell_type": "markdown",
   "metadata": {},
   "source": [
    "Compute it"
   ]
  },
  {
   "cell_type": "code",
   "execution_count": 14,
   "metadata": {},
   "outputs": [
    {
     "name": "stdout",
     "output_type": "stream",
     "text": [
      "Q hermitian: False\n",
      "Q_bar hermitian: False\n"
     ]
    }
   ],
   "source": [
    "Q = sparse.csr_array(np.zeros((N_DIM, N_DIM), dtype=np.complex128))\n",
    "tic = time.time()\n",
    "for i_index in range(N-2):\n",
    "    i_label = i_index+1\n",
    "\n",
    "    for j_index in range(i_index+1, N-1):\n",
    "        j_label = j_index+1\n",
    "\n",
    "        for k_index in range(j_index+1, N):\n",
    "            k_label = k_index+1\n",
    "\n",
    "            C_ijk = C[i_index, j_index, k_index]\n",
    "            psi_psi_psi_ijk = psi_psi_psi_all[(i_label, j_label, k_label)]\n",
    "            Q += C_ijk*psi_psi_psi_ijk\n",
    "        \n",
    "    if (i_index==0):\n",
    "        duration = time.time() - tic\n",
    "        n_jobs = N-Q_COUPLING\n",
    "        exp_dur = duration*n_jobs\n",
    "\n",
    "Q *= 1j\n",
    "Q_bar = np.transpose(np.conjugate(Q))\n",
    "\n",
    "print(f\"Q hermitian: {linalg.ishermitian(Q.toarray())}\")\n",
    "print(f\"Q_bar hermitian: {linalg.ishermitian(Q_bar.toarray())}\")"
   ]
  },
  {
   "cell_type": "markdown",
   "metadata": {},
   "source": [
    "Confirm $Q^2=\\bar{Q}^2=0$"
   ]
  },
  {
   "cell_type": "code",
   "execution_count": 15,
   "metadata": {},
   "outputs": [
    {
     "data": {
      "text/latex": [
       "$Q^2=0$: True"
      ],
      "text/plain": [
       "<IPython.core.display.Latex object>"
      ]
     },
     "metadata": {},
     "output_type": "display_data"
    },
    {
     "data": {
      "text/latex": [
       "$Qbar^2=0$: True"
      ],
      "text/plain": [
       "<IPython.core.display.Latex object>"
      ]
     },
     "metadata": {},
     "output_type": "display_data"
    }
   ],
   "source": [
    "Q2 = (Q@Q).toarray()\n",
    "display(Latex(f\"$Q^2=0$: {np.allclose(Q2, np.zeros(Q2.shape))}\"))\n",
    "\n",
    "Q_bar_2 = (Q_bar@Q_bar).toarray()\n",
    "display(Latex(f\"$Qbar^2=0$: {np.allclose(Q2, np.zeros(Q2.shape))}\"))"
   ]
  },
  {
   "cell_type": "markdown",
   "metadata": {},
   "source": [
    "Confirm equation (5.2.a):\n",
    "\n",
    "$\\{Q, \\psi^i\\}=0$"
   ]
  },
  {
   "cell_type": "code",
   "execution_count": 16,
   "metadata": {},
   "outputs": [
    {
     "name": "stdout",
     "output_type": "stream",
     "text": [
      "True\n",
      "abs_diff: 0.0\n",
      "\n",
      "True\n",
      "abs_diff: 0.0\n",
      "\n",
      "True\n",
      "abs_diff: 0.0\n",
      "\n",
      "True\n",
      "abs_diff: 0.0\n",
      "\n",
      "True\n",
      "abs_diff: 0.0\n",
      "\n",
      "True\n",
      "abs_diff: 0.0\n",
      "\n",
      "True\n",
      "abs_diff: 0.0\n",
      "\n",
      "True\n",
      "abs_diff: 0.0\n",
      "\n",
      "True\n",
      "abs_diff: 0.0\n",
      "\n",
      "True\n",
      "abs_diff: 0.0\n",
      "\n"
     ]
    }
   ],
   "source": [
    "def anticommutator(a,b):\n",
    "    return a@b+b@a\n",
    "\n",
    "for i_index in range(N):\n",
    "    i_label = i_index+1\n",
    "    \n",
    "    ac_Q_i = anticommutator(Q, psi(i_label)).toarray()\n",
    "    print(np.allclose(ac_Q_i, np.zeros(ac_Q_i.shape)))\n",
    "\n",
    "    abs_diff = np.sum(np.sum(np.abs(ac_Q_i)))\n",
    "    print(f\"abs_diff: {abs_diff}\\n\")"
   ]
  },
  {
   "cell_type": "markdown",
   "metadata": {},
   "source": [
    "Confirm equation (5.2.b):\n",
    "\n",
    "$\\{Q, \\bar{\\psi_i}\\} = \\bar{b^i} = i \\sum_{1\\le j<k\\le N} C_{ijk} \\psi^j \\psi^k$"
   ]
  },
  {
   "cell_type": "code",
   "execution_count": 18,
   "metadata": {},
   "outputs": [
    {
     "name": "stdout",
     "output_type": "stream",
     "text": [
      "True\n",
      "abs_diff: (526.2719574639093+0j)\n",
      "\n",
      "True\n",
      "abs_diff: (557.0829341677271+0j)\n",
      "\n",
      "True\n",
      "abs_diff: (509.70187043654096+0j)\n",
      "\n",
      "True\n",
      "abs_diff: (527.2508770928638+0j)\n",
      "\n",
      "True\n",
      "abs_diff: (528.0593484863297+0j)\n",
      "\n",
      "True\n",
      "abs_diff: (550.8605328561887+0j)\n",
      "\n",
      "True\n",
      "abs_diff: (471.248077704589+0j)\n",
      "\n",
      "True\n",
      "abs_diff: (529.3410457772758+0j)\n",
      "\n",
      "True\n",
      "abs_diff: (574.9682536464976+0j)\n",
      "\n",
      "True\n",
      "abs_diff: (555.0669804926746+0j)\n",
      "\n"
     ]
    }
   ],
   "source": [
    "for i_index in range(N):\n",
    "    i_label = i_index+1\n",
    "    ac_Q_idagger = anticommutator(Q, psi_dagger_all[(i_label)]).toarray()\n",
    "\n",
    "    rhs = np.zeros(Q.shape)\n",
    "    for j_index in range(N-1):\n",
    "        j_label = j_index+1\n",
    "        for k_index in range(j_index+1, N):\n",
    "            k_label = k_index+1\n",
    "\n",
    "            C_ijk = C[i_index, j_index, k_index]\n",
    "            psi_psi_jk = psi_psi_all[(j_label, k_label)]\n",
    "            rhs += C_ijk*psi_psi_jk\n",
    "\n",
    "    rhs *= 1j\n",
    "    print(np.allclose(ac_Q_idagger, rhs))\n",
    "\n",
    "    abs_diff = np.sum(np.sum(np.abs(ac_Q_idagger, rhs)))\n",
    "    print(f\"abs_diff: {abs_diff}\\n\")"
   ]
  },
  {
   "cell_type": "markdown",
   "metadata": {},
   "source": [
    "## 4. Hamiltonian"
   ]
  },
  {
   "cell_type": "code",
   "execution_count": 19,
   "metadata": {},
   "outputs": [
    {
     "name": "stdout",
     "output_type": "stream",
     "text": [
      "H hermitian: True\n"
     ]
    }
   ],
   "source": [
    "def anticommutator(A,B):\n",
    "    return A@B+B@A\n",
    "\n",
    "Q_bar = np.transpose(np.conjugate(Q))\n",
    "H = anticommutator(Q, Q_bar)\n",
    "\n",
    "print(f\"H hermitian: {linalg.ishermitian(H.toarray())}\")"
   ]
  },
  {
   "cell_type": "code",
   "execution_count": 20,
   "metadata": {},
   "outputs": [
    {
     "data": {
      "image/png": "[encoded data removed]",
      "text/plain": [
       "<Figure size 640x480 with 1 Axes>"
      ]
     },
     "metadata": {},
     "output_type": "display_data"
    }
   ],
   "source": [
    "iv = np.linalg.eigvalsh(H.toarray())\n",
    "iv = np.sort(iv)\n",
    "\n",
    "plt.figure()\n",
    "plt.hist(iv, bins=30)\n",
    "plt.xlabel(\"Eigenvalue\")\n",
    "plt.ylabel(\"Frequency\")\n",
    "plt.title(r\"$N=2$ Supersymmetric SYK Model, \"+f\"N={N}, J={J}, Q={Q_COUPLING}\")\n",
    "plt.savefig(os.path.join(RESULT_DIR, \"iv_hist.png\"))"
   ]
  },
  {
   "cell_type": "markdown",
   "metadata": {},
   "source": [
    "Important question: How small is small-enough to consider it \"exactly 0\"?"
   ]
  },
  {
   "cell_type": "markdown",
   "metadata": {},
   "source": [
    "## Save everything"
   ]
  },
  {
   "cell_type": "code",
   "execution_count": 21,
   "metadata": {},
   "outputs": [],
   "source": [
    "# Save eigenvalues\n",
    "np.save(os.path.join(RESULT_DIR, \"iv.npy\"), iv)\n",
    "iv_df = pd.DataFrame({\"eigenvalue\":iv})\n",
    "iv_df.to_csv(os.path.join(RESULT_DIR,\"iv.csv\"), index=False)"
   ]
  },
  {
   "cell_type": "code",
   "execution_count": 22,
   "metadata": {},
   "outputs": [],
   "source": [
    "# Save Hamiltonian\n",
    "np.save(os.path.join(RESULT_DIR, \"H.npy\"), H)\n",
    "H_df = pd.DataFrame(H.toarray())\n",
    "H_df.to_csv(os.path.join(RESULT_DIR,\"H.csv\"), index=False)"
   ]
  },
  {
   "cell_type": "code",
   "execution_count": 23,
   "metadata": {},
   "outputs": [],
   "source": [
    "# Save Q and Q_bar\n",
    "np.save(os.path.join(RESULT_DIR, \"Q.npy\"), Q)\n",
    "Q_df = pd.DataFrame(Q.toarray())\n",
    "Q_df.to_csv(os.path.join(RESULT_DIR, \"Q.csv\"), index=False)\n",
    "\n",
    "np.save(os.path.join(RESULT_DIR, \"Q_bar.npy\"), Q_bar)\n",
    "Q_bar_df = pd.DataFrame(Q_bar.toarray())\n",
    "Q_bar_df.to_csv(os.path.join(RESULT_DIR, \"Q_bar.csv\"), index=False)"
   ]
  },
  {
   "cell_type": "code",
   "execution_count": 24,
   "metadata": {},
   "outputs": [],
   "source": [
    "# Save C_prime, C\n",
    "np.save(os.path.join(RESULT_DIR, \"C_prime.npy\"), C_prime)\n",
    "C_prime_df = pd.DataFrame(C_prime)\n",
    "C_prime_df.to_csv(os.path.join(RESULT_DIR, \"C_prime.csv\"), index=False)\n",
    "\n",
    "np.save(os.path.join(RESULT_DIR, \"C.npy\"), C)\n",
    "C_dir = os.path.join(RESULT_DIR, \"C\")\n",
    "os.makedirs(C_dir, exist_ok=True)\n",
    "for i in range(N):\n",
    "    C_i = C[i]\n",
    "    C_i_dict_temp = {f\"C_ij{k+1}\": C_i[:,k] for k in range(N)}\n",
    "    C_i_dict = {\"j\":list(range(1,N+1))}\n",
    "    C_i_dict.update(C_i_dict_temp)\n",
    "    C_i_df = pd.DataFrame(C_i_dict)\n",
    "    C_i_df.set_index(\"j\", inplace=True)\n",
    "    C_i_df.to_csv(os.path.join(C_dir, f\"C_{i+1}jk.csv\"))"
   ]
  },
  {
   "cell_type": "code",
   "execution_count": 25,
   "metadata": {},
   "outputs": [],
   "source": [
    "about_txt = f\"N={N} \\nJ={J} \\nQ_COUPLING={Q_COUPLING}\"\n",
    "with open(os.path.join(RESULT_DIR, \"about.txt\"), \"w\") as f:\n",
    "    f.write(about_txt)"
   ]
  }
 ],
 "metadata": {
  "kernelspec": {
   "display_name": "phys417",
   "language": "python",
   "name": "python3"
  },
  "language_info": {
   "codemirror_mode": {
    "name": "ipython",
    "version": 3
   },
   "file_extension": ".py",
   "mimetype": "text/x-python",
   "name": "python",
   "nbconvert_exporter": "python",
   "pygments_lexer": "ipython3",
   "version": "3.8.16"
  },
  "orig_nbformat": 4
 },
 "nbformat": 4,
 "nbformat_minor": 2
}
