{
 "cells": [
  {
   "cell_type": "code",
   "execution_count": null,
   "metadata": {},
   "outputs": [],
   "source": [
    "# file-handling\n",
    "import os \n",
    "\n",
    "# user status updates\n",
    "import time\n",
    "from time import gmtime, strftime\n",
    "from tqdm import tqdm\n",
    "from IPython.display import display, Latex\n",
    "from datetime import datetime\n",
    "\n",
    "# the holy trinity of python\n",
    "import numpy as np \n",
    "import matplotlib.pyplot as plt\n",
    "import pandas as pd\n",
    "\n",
    "# scipy\n",
    "import scipy\n",
    "from scipy import sparse, linalg, fft\n",
    "from scipy.linalg import expm, sinm, cosm\n",
    "import scipy.integrate as integrate\n",
    "from scipy.integrate import quad\n",
    "\n",
    "# parallelization, memory management\n",
    "from joblib import Parallel, delayed\n",
    "from numba import jit, njit, prange\n",
    "import copy\n",
    "\n",
    "# itertools\n",
    "import itertools\n",
    "\n",
    "############ Macros ###############\n",
    "np.random.seed(0)\n",
    "\n",
    "# Physical constants\n",
    "K = 6 # number of fermionic modes\n",
    "J = 10 # ~\"energy scale\"\n",
    "Q_COUPLING = 3 # order of coupling, don't want to use the letter 'Q' because that denotes the supercharge\n",
    "N = 2*K # number of fermions\n",
    "N_DIM = 2**N # Hilbert space dimension <-- Important: Hilbert space dimension is now 2^N instead of 2^(N/2). \n",
    "\n",
    "N_SAMPLES = 100 # number of samples to generate\n",
    "N_JOBS = 20 # number of jobs to run in parallel\n",
    "\n",
    "# Whether we want to check algebra\n",
    "CHECK_ALGEBRA = False\n",
    "\n",
    "# Set up directories\n",
    "N2_SUSY_DIR = os.path.join(\"Excel\", \"N2_SUSY_SYK\")\n",
    "now = strftime(\"%Y-%m-%d %H:%M:%S\", gmtime()).replace(\"-\",\"_\").replace(\" \", \"_\").replace(\":\",\"_\")\n",
    "RESULT_DIR = os.path.join(N2_SUSY_DIR, \"Results\", now)\n",
    "os.makedirs(RESULT_DIR, exist_ok=True)\n"
   ]
  },
  {
   "cell_type": "markdown",
   "metadata": {},
   "source": [
    "# 1. Fermion operators"
   ]
  },
  {
   "cell_type": "markdown",
   "metadata": {},
   "source": [
    "We've compartmentalized the whole thing (computing fermions, their daggers, pairwise and triple inner-products) to it's own Python function. "
   ]
  },
  {
   "cell_type": "code",
   "execution_count": null,
   "metadata": {},
   "outputs": [],
   "source": [
    "from N2_SUSY_fermions import make_fermions\n",
    "psi_dict = make_fermions(N, check_algebra=CHECK_ALGEBRA, n_jobs=N_JOBS)\n",
    "\n",
    "psi_all = psi_dict[\"psi_all\"]\n",
    "psi_dagger_all = psi_dict[\"psi_dagger_all\"]\n",
    "psi_psi_all = psi_dict[\"psi_psi_all\"]\n",
    "psi_dagger_psi_all = psi_dict[\"psi_dagger_psi_all\"]\n",
    "psi_psi_dagger_all = psi_dict[\"psi_psi_dagger_all\"]\n",
    "psi_dagger_psi_dagger_all = psi_dict[\"psi_dagger_psi_dagger_all\"]\n",
    "psi_psi_psi_all = psi_dict[\"psi_psi_psi_all\"]"
   ]
  },
  {
   "cell_type": "markdown",
   "metadata": {},
   "source": [
    "# 2. Random coefficients tensor, $C_{ijk}$"
   ]
  },
  {
   "cell_type": "markdown",
   "metadata": {},
   "source": [
    "$C_{ijk}$ is antisymmetric, has second moment $\\overline{C_{ijk} \\bar{C}^{ijk}} = \\frac{2J}{N^2}$, is complex, and Gaussian. "
   ]
  },
  {
   "cell_type": "markdown",
   "metadata": {},
   "source": [
    "1. To achieve antisymmetry: Start by filling in upper-upper-triangle (i.e. where k>j>i), and leave all other elements as zero. Then, for positive permutations of the indeces, *add* this upper-upper-triangle matrix transposed about those axes; conversely, for negative permutations of the indeces, *subtract* the transpose. \n",
    "\n",
    "2. To achieve the prescribed variance: Select the upper-upper-triangular elements from some distribution $C' \\sim \\mathcal{N}(0, \\sigma_{C'})$, such that the zero elements along the diagonals and the equal-magnitude elements along the cross-diagonals combine to give the total variance $\\sigma_C^2$. We ultimately find: $\\sigma_{C'} = \\sigma_C \\sqrt{\\frac{3}{2(N-1)(N-2)}}$. For a derivation of this, see \"Upper_upper_triangle_variance.pdf\".\n",
    "\n",
    "3. To achieve complexity: $C'$, the distribution from which the upper-upper-triangular elements are selected, must be generated as the sum of a real and complex distribution: $C' = X' + iY'$, where $X' \\sim \\mathcal{N}(0, \\sigma_{X'})$, $Y \\sim \\mathcal{N}(0, \\sigma_{Y'})$ and - per the variance-addition rule - $\\sigma_{X'}=\\sigma_{Y'}=\\frac{\\sigma_{C'}}{\\sqrt{2}}$\n",
    "\n",
    "4. To achieve Gaussian-ness: $X'$ and $Y'$ must be Gaussian, so that the sum - $C'$ is also Gaussian. Whether the zero-elements along the diagonals ruin the Gaussian-ness of the overall tensor: I'm not sure. One *could* consider the diagonals to be distributed as $\\sim \\mathcal{N}(0,0)$, but that seems fishy..."
   ]
  },
  {
   "cell_type": "code",
   "execution_count": null,
   "metadata": {},
   "outputs": [],
   "source": [
    "sigma_C = np.sqrt(2*J/(N**2))\n",
    "sigma_C_prime = sigma_C*np.sqrt(3/(2*(N-1)*(N-2)))\n",
    "\n",
    "# Generate distribution for X', Y'\n",
    "N_UPPER = N*(N-1)*(N-2)//6\n",
    "sigma_XY_prime = sigma_C_prime/np.sqrt(2)\n",
    "X_prime = np.random.normal(0, sigma_XY_prime, size=(N_UPPER))\n",
    "Y_prime = np.random.normal(0, sigma_XY_prime, size=(N_UPPER))\n",
    "\n",
    "# Generate distribution for C'\n",
    "C_prime = X_prime + 1j*Y_prime\n",
    "\n",
    "# Initialize upper-upper-triangle array\n",
    "C_upper_upper = np.zeros(shape = [N for i in range(Q_COUPLING)], dtype=np.complex128)\n",
    "\n",
    "index = 0\n",
    "for i in range(N-2):\n",
    "    for j in range(i+1, N-1):\n",
    "        for k in range(j+1, N):\n",
    "            C_upper_upper[i, j, k] = C_prime[index]\n",
    "            index += 1"
   ]
  },
  {
   "cell_type": "markdown",
   "metadata": {},
   "source": [
    "To antisymmetrize the tensor, we first need a function to antisymmetrize the tuple of axes/indeces (i,j,k)"
   ]
  },
  {
   "cell_type": "code",
   "execution_count": null,
   "metadata": {},
   "outputs": [],
   "source": [
    "def levi_civita_tensor(dim):   \n",
    "    arr=np.zeros(tuple([dim for i in range(dim)]), dtype=np.int32)\n",
    "    for x in itertools.permutations(tuple(range(dim))):\n",
    "        mat = np.zeros((dim, dim), dtype=np.int32)\n",
    "        for i, j in zip(range(dim), x):\n",
    "            mat[i, j] = 1\n",
    "        arr[x]=int(np.linalg.det(mat))\n",
    "    return arr\n",
    "\n",
    "def asym_perm(iterable):\n",
    "    n_elem = len(iterable)\n",
    "    if len(set(iterable)) < n_elem:\n",
    "        return 0 # <-- If there are repeated elements, levi-civita value is identically zero \n",
    "\n",
    "    order_0 = tuple(list(range(n_elem)))\n",
    "    all_orders = list(itertools.permutations(order_0))\n",
    "    all_permutations = [tuple([iterable[i] for i in order]) for order in all_orders]\n",
    "\n",
    "    lc_tensor = levi_civita_tensor(n_elem)\n",
    "    out = {}\n",
    "    for i in range(len(all_orders)):\n",
    "        order_i = all_orders[i]\n",
    "        multiplier = lc_tensor[order_i]\n",
    "\n",
    "        permutation_i = all_permutations[i]\n",
    "        out[permutation_i] = multiplier\n",
    "\n",
    "    return out"
   ]
  },
  {
   "cell_type": "markdown",
   "metadata": {},
   "source": [
    "Now we can antisymmetrize and form the full tensor $C$"
   ]
  },
  {
   "cell_type": "code",
   "execution_count": null,
   "metadata": {},
   "outputs": [],
   "source": [
    "axes_og = (0,1,2)\n",
    "axes_asym_perms = asym_perm(axes_og)\n",
    "\n",
    "C = np.zeros(shape=[N for i in range(Q_COUPLING)], dtype=np.complex128)\n",
    "for axes, multiplier in axes_asym_perms.items():\n",
    "    addendum = multiplier*np.transpose(C_upper_upper, axes)\n",
    "    C += addendum"
   ]
  },
  {
   "cell_type": "markdown",
   "metadata": {},
   "source": [
    "### 2.a Check antisymmetry"
   ]
  },
  {
   "cell_type": "code",
   "execution_count": null,
   "metadata": {},
   "outputs": [],
   "source": [
    "antisymmetric = True\n",
    "errors = []\n",
    "for i in range(N):\n",
    "    for j in range(N):\n",
    "        for k in range(N):\n",
    "            C_ijk = C[i,j,k]\n",
    "\n",
    "            if i==j:\n",
    "                if C_ijk != 0:\n",
    "                    antisymmetric=False\n",
    "                    errors.append(1)\n",
    "\n",
    "            if i==k:\n",
    "                if C_ijk != 0:\n",
    "                    antisymmetric=False\n",
    "                    errors.append(2)\n",
    "\n",
    "            if j==k:\n",
    "                if C_ijk != 0:\n",
    "                    antisymmetric=False\n",
    "                    errors.append(3)\n",
    "\n",
    "            if C_ijk != - C[i,k,j]:\n",
    "                antisymmetric = False\n",
    "                errors.append(4)\n",
    "\n",
    "            if C_ijk != -C[j,i,k]:\n",
    "                antisymmetric = False\n",
    "                errors.append(5)\n",
    "\n",
    "            if C_ijk != C[j,k,i]:\n",
    "                antisymmetric = False\n",
    "                errors.append(6)\n",
    "\n",
    "            if C_ijk != -C[k,j,i]:\n",
    "                antisymmetric = False\n",
    "                errors.append(7)\n",
    "\n",
    "            if C_ijk != C[k,i,j]:\n",
    "                antisymmetric = False\n",
    "                errors.append(8)\n",
    "\n",
    "\n",
    "print(f\"antisymmetric: {antisymmetric}\")\n",
    "print(f\"errors: {errors}\")"
   ]
  },
  {
   "cell_type": "markdown",
   "metadata": {},
   "source": [
    "### 2.b. Confirm variance"
   ]
  },
  {
   "cell_type": "markdown",
   "metadata": {},
   "source": [
    "$\\overline{C_{ijk} \\bar{C}^{ijk}} = \\frac{2J}{N^2}$"
   ]
  },
  {
   "cell_type": "code",
   "execution_count": null,
   "metadata": {},
   "outputs": [],
   "source": [
    "declared_variance = sigma_C**2\n",
    "C_bar = np.conjugate(C)\n",
    "computed_variance = np.var(C)#np.mean(np.mean(np.mean(C*C_bar)))\n",
    "\n",
    "print(f\"Declared variance: {declared_variance}, Computed variance: {computed_variance}\")\n",
    "print(f\"Abs diff: {np.abs(computed_variance-declared_variance)}\")\n",
    "print(f\"Percent abs diff: {100*np.abs(computed_variance-declared_variance)/declared_variance:.2f}%\")"
   ]
  },
  {
   "cell_type": "markdown",
   "metadata": {},
   "source": [
    "## 3. Supercharge, $Q$"
   ]
  },
  {
   "cell_type": "markdown",
   "metadata": {},
   "source": [
    "Compute it"
   ]
  },
  {
   "cell_type": "code",
   "execution_count": null,
   "metadata": {},
   "outputs": [],
   "source": [
    "Q = sparse.csr_array(np.zeros((N_DIM, N_DIM), dtype=np.complex128))\n",
    "tic = time.time()\n",
    "for i_index in range(N-2):\n",
    "    i_label = i_index+1\n",
    "\n",
    "    for j_index in range(i_index+1, N-1):\n",
    "        j_label = j_index+1\n",
    "\n",
    "        for k_index in range(j_index+1, N):\n",
    "            k_label = k_index+1\n",
    "\n",
    "            C_ijk = C[i_index, j_index, k_index]\n",
    "            psi_psi_psi_ijk = psi_psi_psi_all[(i_label, j_label, k_label)]\n",
    "            Q += C_ijk*psi_psi_psi_ijk\n",
    "        \n",
    "    if (i_index==0):\n",
    "        duration = time.time() - tic\n",
    "        n_jobs = N-Q_COUPLING\n",
    "        exp_dur = duration*n_jobs\n",
    "\n",
    "Q *= 1j\n",
    "Q_bar = np.transpose(np.conjugate(Q))\n",
    "\n",
    "print(f\"Q hermitian: {linalg.ishermitian(Q.toarray())}\")\n",
    "print(f\"Q_bar hermitian: {linalg.ishermitian(Q_bar.toarray())}\")"
   ]
  },
  {
   "cell_type": "markdown",
   "metadata": {},
   "source": [
    "Confirm $Q^2=\\bar{Q}^2=0$"
   ]
  },
  {
   "cell_type": "code",
   "execution_count": null,
   "metadata": {},
   "outputs": [],
   "source": [
    "Q2 = (Q@Q).toarray()\n",
    "display(Latex(f\"$Q^2=0$: {np.allclose(Q2, np.zeros(Q2.shape))}\"))\n",
    "\n",
    "Q_bar_2 = (Q_bar@Q_bar).toarray()\n",
    "display(Latex(f\"$Qbar^2=0$: {np.allclose(Q2, np.zeros(Q2.shape))}\"))"
   ]
  },
  {
   "cell_type": "markdown",
   "metadata": {},
   "source": [
    "Confirm equation (5.2.a):\n",
    "\n",
    "$\\{Q, \\psi^i\\}=0$"
   ]
  },
  {
   "cell_type": "code",
   "execution_count": null,
   "metadata": {},
   "outputs": [],
   "source": [
    "def anticommutator(a,b):\n",
    "    return a@b+b@a\n",
    "\n",
    "for i_index in range(N):\n",
    "    i_label = i_index+1\n",
    "    \n",
    "    ac_Q_i = anticommutator(Q, psi_all[i_label]).toarray()\n",
    "    print(np.allclose(ac_Q_i, np.zeros(ac_Q_i.shape)))\n",
    "\n",
    "    abs_diff = np.sum(np.sum(np.abs(ac_Q_i)))\n",
    "    print(f\"abs_diff: {abs_diff}\\n\")"
   ]
  },
  {
   "cell_type": "markdown",
   "metadata": {},
   "source": [
    "Confirm equation (5.2.b):\n",
    "\n",
    "$\\{Q, \\bar{\\psi_i}\\} = \\bar{b^i} = i \\sum_{1\\le j<k\\le N} C_{ijk} \\psi^j \\psi^k$"
   ]
  },
  {
   "cell_type": "code",
   "execution_count": null,
   "metadata": {},
   "outputs": [],
   "source": [
    "for i_index in range(N):\n",
    "    i_label = i_index+1\n",
    "    ac_Q_idagger = anticommutator(Q, psi_dagger_all[i_label]).toarray()\n",
    "\n",
    "    rhs = np.zeros(Q.shape)\n",
    "    for j_index in range(N-1):\n",
    "        j_label = j_index+1\n",
    "        for k_index in range(j_index+1, N):\n",
    "            k_label = k_index+1\n",
    "\n",
    "            C_ijk = C[i_index, j_index, k_index]\n",
    "            psi_psi_jk = psi_psi_all[(j_label, k_label)]\n",
    "            rhs += C_ijk*psi_psi_jk\n",
    "\n",
    "    rhs *= 1j\n",
    "    print(np.allclose(ac_Q_idagger, rhs, atol=1e-10, rtol=1e-6))\n",
    "\n",
    "    abs_diff = np.sum(np.sum(np.abs(ac_Q_idagger, rhs)))\n",
    "    print(f\"abs_diff: {abs_diff}\\n\")"
   ]
  },
  {
   "cell_type": "markdown",
   "metadata": {},
   "source": [
    "## 4. Hamiltonian"
   ]
  },
  {
   "cell_type": "code",
   "execution_count": null,
   "metadata": {},
   "outputs": [],
   "source": [
    "def anticommutator(A,B):\n",
    "    return A@B+B@A\n",
    "\n",
    "Q_bar = np.transpose(np.conjugate(Q))\n",
    "H = anticommutator(Q, Q_bar)\n",
    "\n",
    "print(f\"H hermitian: {linalg.ishermitian(H.toarray())}\")"
   ]
  },
  {
   "cell_type": "code",
   "execution_count": null,
   "metadata": {},
   "outputs": [],
   "source": [
    "iv = np.linalg.eigvalsh(H.toarray())\n",
    "iv = np.sort(iv)\n",
    "\n",
    "plt.figure()\n",
    "plt.hist(iv, bins=30)\n",
    "plt.xlabel(\"Eigenvalue\")\n",
    "plt.ylabel(\"Frequency\")\n",
    "plt.title(r\"$N=2$ Supersymmetric SYK Model, \"+f\"N={N}, J={J}, Q={Q_COUPLING}\")\n",
    "plt.savefig(os.path.join(RESULT_DIR, \"iv_hist.png\"))"
   ]
  },
  {
   "cell_type": "markdown",
   "metadata": {},
   "source": [
    "Important question: How small is small-enough to consider it \"exactly 0\"?"
   ]
  },
  {
   "cell_type": "markdown",
   "metadata": {},
   "source": [
    "## Save everything"
   ]
  },
  {
   "cell_type": "code",
   "execution_count": null,
   "metadata": {},
   "outputs": [],
   "source": [
    "# Save eigenvalues\n",
    "np.save(os.path.join(RESULT_DIR, \"iv.npy\"), iv)\n",
    "iv_df = pd.DataFrame({\"eigenvalue\":iv})\n",
    "iv_df.to_csv(os.path.join(RESULT_DIR,\"iv.csv\"), index=False)"
   ]
  },
  {
   "cell_type": "code",
   "execution_count": null,
   "metadata": {},
   "outputs": [],
   "source": [
    "# Save Hamiltonian\n",
    "np.save(os.path.join(RESULT_DIR, \"H.npy\"), H)\n",
    "H_df = pd.DataFrame(H.toarray())\n",
    "H_df.to_csv(os.path.join(RESULT_DIR,\"H.csv\"), index=False)"
   ]
  },
  {
   "cell_type": "code",
   "execution_count": null,
   "metadata": {},
   "outputs": [],
   "source": [
    "# Save Q and Q_bar\n",
    "np.save(os.path.join(RESULT_DIR, \"Q.npy\"), Q)\n",
    "Q_df = pd.DataFrame(Q.toarray())\n",
    "Q_df.to_csv(os.path.join(RESULT_DIR, \"Q.csv\"), index=False)\n",
    "\n",
    "np.save(os.path.join(RESULT_DIR, \"Q_bar.npy\"), Q_bar)\n",
    "Q_bar_df = pd.DataFrame(Q_bar.toarray())\n",
    "Q_bar_df.to_csv(os.path.join(RESULT_DIR, \"Q_bar.csv\"), index=False)"
   ]
  },
  {
   "cell_type": "code",
   "execution_count": null,
   "metadata": {},
   "outputs": [],
   "source": [
    "# Save C_prime, C\n",
    "np.save(os.path.join(RESULT_DIR, \"C_prime.npy\"), C_prime)\n",
    "C_prime_df = pd.DataFrame(C_prime)\n",
    "C_prime_df.to_csv(os.path.join(RESULT_DIR, \"C_prime.csv\"), index=False)\n",
    "\n",
    "np.save(os.path.join(RESULT_DIR, \"C.npy\"), C)\n",
    "C_dir = os.path.join(RESULT_DIR, \"C\")\n",
    "os.makedirs(C_dir, exist_ok=True)\n",
    "for i in range(N):\n",
    "    C_i = C[i]\n",
    "    C_i_dict_temp = {f\"C_ij{k+1}\": C_i[:,k] for k in range(N)}\n",
    "    C_i_dict = {\"j\":list(range(1,N+1))}\n",
    "    C_i_dict.update(C_i_dict_temp)\n",
    "    C_i_df = pd.DataFrame(C_i_dict)\n",
    "    C_i_df.set_index(\"j\", inplace=True)\n",
    "    C_i_df.to_csv(os.path.join(C_dir, f\"C_{i+1}jk.csv\"))"
   ]
  },
  {
   "cell_type": "code",
   "execution_count": null,
   "metadata": {},
   "outputs": [],
   "source": [
    "# Save about.txt, explaining the parameters\n",
    "about_txt = f\"N={N} \\nJ={J} \\nQ_COUPLING={Q_COUPLING}\"\n",
    "with open(os.path.join(RESULT_DIR, \"about.txt\"), \"w\") as f:\n",
    "    f.write(about_txt)"
   ]
  },
  {
   "cell_type": "code",
   "execution_count": null,
   "metadata": {},
   "outputs": [],
   "source": []
  }
 ],
 "metadata": {
  "kernelspec": {
   "display_name": "phys417",
   "language": "python",
   "name": "python3"
  },
  "language_info": {
   "codemirror_mode": {
    "name": "ipython",
    "version": 3
   },
   "file_extension": ".py",
   "mimetype": "text/x-python",
   "name": "python",
   "nbconvert_exporter": "python",
   "pygments_lexer": "ipython3",
   "version": "3.8.16"
  },
  "orig_nbformat": 4
 },
 "nbformat": 4,
 "nbformat_minor": 2
}
