{
 "cells": [
  {
   "cell_type": "markdown",
   "metadata": {},
   "source": [
    "Hypothesis: It's really only worth using this for very large Hamiltonians, large enough that you can't precompute the fermion inner-products and hold them in memory. Otherwise, the benefit of precomputing the inner-products far outweighs anything you'll get from Numba/Cuda. "
   ]
  },
  {
   "cell_type": "code",
   "execution_count": 1,
   "metadata": {},
   "outputs": [],
   "source": [
    "import os \n",
    "import time\n",
    "import copy\n",
    "from tqdm import tqdm\n",
    "\n",
    "import numpy as np \n",
    "import math\n",
    "import matplotlib.pyplot as plt\n",
    "import scipy\n",
    "import pandas as pd\n",
    "\n",
    "from joblib import Parallel, delayed\n",
    "from numba import jit, njit, prange, cuda, float32, float64, complex64, complex128, types\n",
    "import numba as nb\n",
    "\n",
    "np.random.seed(0)\n",
    "\n",
    "# Global variables\n",
    "TPB = 16 # threads per block\n",
    "BPG_MULTIPLIER = 1 # blocks per grid multiplier\n",
    "REAL_FLOAT_TYPE = np.float64\n",
    "REAL_COMPLEX_TYPE = np.complex128\n",
    "REAL_INT_TYPE = np.int32\n",
    "LOAD_PYTHON = False#True # Whether to generate Hamiltonians or load them from file (along with the associated coefficients, of course)\n",
    "\n",
    "# Physical constants\n",
    "K=7 # number of fermionic modes\n",
    "J=4 # ~\"energy scale\"\n",
    "Q=3 # order of coupling\n",
    "N = 2*K # number of fermions\n",
    "N_DIM = 2**K # Hilbert space dimensions\n",
    "\n",
    "N_SAMPLES = 10 # number of samples to generate\n",
    "N_JOBS = 20 # number of jobs to run in parallel"
   ]
  },
  {
   "cell_type": "markdown",
   "metadata": {},
   "source": [
    "# 1. Define Python Hamiltonian as benchmark"
   ]
  },
  {
   "cell_type": "code",
   "execution_count": 2,
   "metadata": {},
   "outputs": [],
   "source": [
    "#### Define fermionic modes\n",
    "cr = np.array([[0,1],[0,0]])\n",
    "an = np.array([[0,0],[1,0]])\n",
    "id = np.identity(2)\n",
    "id2 = np.array([[-1,0],[0,1]])\n",
    "\n",
    "def c(n):\n",
    "    factors = [id for i in range(n-1)]+[cr]+[id2 for i in range(K-n)]\n",
    "    out = factors[0]\n",
    "    for i in range(1, K):\n",
    "        out = np.kron(out,factors[i])\n",
    "    return out\n",
    "\n",
    "def cd(n):\n",
    "    factors = [id for i in range(n-1)]+[an]+[id2 for i in range(K-n)]\n",
    "    out = factors[0]\n",
    "    for i in range(1, K):\n",
    "        out = np.kron(out,factors[i])\n",
    "    return out\n",
    "\n",
    "#### Define fermions\n",
    "# Compute first N psi's\n",
    "psi_h = np.zeros((N, N_DIM, N_DIM), dtype=np.complex128)\n",
    "for i in range(1,K+1):\n",
    "    psi_h[2*(i-1)] = (c(i)+cd(i))/np.sqrt(2)\n",
    "    psi_h[2*(i-1)+1] = (c(i)-cd(i))*(-1j/np.sqrt(2))\n",
    "\n",
    "# Copy to GPU\n",
    "psi_d = cuda.to_device(psi_h)\n",
    "\n",
    "def H3_python(js): #js being the random coefficients\n",
    "    # Compute Hamiltonian\n",
    "    H = np.zeros((N_DIM, N_DIM), dtype=np.complex128)\n",
    "    for i in range(N-2):\n",
    "        psi_i = psi_h[i]\n",
    "        for j in range(i+1, N-1):\n",
    "            psi_ij=psi_i@psi_h[j]\n",
    "            for k in range(j+1, N):\n",
    "                psi_ijk = psi_ij@psi_h[k]\n",
    "                H += (1j**(Q/2))*js[i, j, k]*psi_ijk\n",
    "\n",
    "    return H\n",
    "\n",
    "#### Generate random coefficients\n",
    "sigma_j = np.sqrt((J**2)*np.math.factorial(Q-1)/(N**(Q-1)))\n",
    "js_all = [np.random.normal(0, sigma_j, size=tuple([N for i in range(Q)])) for j in range(N_SAMPLES+1)]"
   ]
  },
  {
   "cell_type": "code",
   "execution_count": 3,
   "metadata": {},
   "outputs": [
    {
     "name": "stdout",
     "output_type": "stream",
     "text": [
      "Hamiltonian generation, python: 0.0 minutes, 0.11816620826721191 seconds\n"
     ]
    }
   ],
   "source": [
    "# Test: 55.O SECONDS\n",
    "js_test = js_all[0]\n",
    "H3_python_test = H3_python(js_test)\n",
    "\n",
    "# For K=7: 0.2 seconds\n",
    "# For K=10: 62.3 SECONDS\n",
    "if LOAD_PYTHON:\n",
    "    js_test = np.load(os.path.join(\"Excel\", \"Benchmarks\", f\"js{Q}_benchmark.npy\"))\n",
    "    H3_python_test = np.load(os.path.join(\"Excel\", \"Benchmarks\", f\"H{Q}_python_benchmark.npy\"))\n",
    "else:                   \n",
    "    js_test = js_all[0]\n",
    "\n",
    "    tic = time.time()\n",
    "    H3_python_test = H3_python(js_test)\n",
    "    toc = time.time()\n",
    "    duration = toc-tic\n",
    "    print(f\"Hamiltonian generation, python: {duration//60} minutes, {duration%60} seconds\")\n",
    "\n",
    "    np.save(os.path.join(\"Excel\", \"Benchmarks\", f\"js{Q}_benchmark.npy\"), js_test)\n",
    "    np.save(os.path.join(\"Excel\", \"Benchmarks\", f\"H{Q}_python_benchmark.npy\"), H3_python_test)"
   ]
  },
  {
   "cell_type": "markdown",
   "metadata": {},
   "source": [
    "K=7: 0.1s\n",
    "\n",
    "K=8: 1.4s"
   ]
  },
  {
   "cell_type": "markdown",
   "metadata": {},
   "source": [
    "# 2. Define CUDA Hamiltonian"
   ]
  },
  {
   "cell_type": "markdown",
   "metadata": {},
   "source": [
    "Method: elementwise function for Hamiltonian\n",
    "\n",
    "In essence, each thread is responsible for computing the value at a specific index, e.g. $(\\alpha,\\beta)$, of the Hamiltonian, which is given by \n",
    "\n",
    "$H[\\alpha,\\beta] = \\sum_{k>j>i} J_{ijk} \\psi_i[\\alpha,:] \\psi_j \\psi_k[:,\\beta]$"
   ]
  },
  {
   "cell_type": "code",
   "execution_count": 28,
   "metadata": {},
   "outputs": [
    {
     "name": "stdout",
     "output_type": "stream",
     "text": [
      "Config: K=7, Q=3, J=4, threadsperblock=(4, 4), blockspergrid=(32, 32)\n"
     ]
    },
    {
     "ename": "TypingError",
     "evalue": "Failed in cuda mode pipeline (step: nopython frontend)\n\u001b[1m\u001b[1m\u001b[1mNo implementation of function Function(<class 'numba.cuda.stubs.atomic.add'>) found for signature:\n \n >>> add(array(complex128, 2d, C), UniTuple(int32 x 2), complex128)\n \nThere are 2 candidate implementations:\n\u001b[1m  - Of which 2 did not match due to:\n  Overload of function 'add': File: numba\\cuda\\cudadecl.py: Line 390.\n    With argument(s): '(array(complex128, 2d, C), UniTuple(int32 x 2), complex128)':\u001b[0m\n\u001b[1m   No match.\u001b[0m\n\u001b[0m\n\u001b[0m\u001b[1mDuring: resolving callee type: Function(<class 'numba.cuda.stubs.atomic.add'>)\u001b[0m\n\u001b[0m\u001b[1mDuring: typing of call at C:\\Users\\abdel\\AppData\\Local\\Temp\\ipykernel_19872\\2043246606.py (66)\n\u001b[0m\n\u001b[1m\nFile \"..\\..\\..\\..\\..\\AppData\\Local\\Temp\\ipykernel_19872\\2043246606.py\", line 66:\u001b[0m\n\u001b[1m<source missing, REPL/exec in use?>\u001b[0m\n",
     "output_type": "error",
     "traceback": [
      "\u001b[1;31m---------------------------------------------------------------------------\u001b[0m",
      "\u001b[1;31mTypingError\u001b[0m                               Traceback (most recent call last)",
      "Cell \u001b[1;32mIn[28], line 85\u001b[0m\n\u001b[0;32m     83\u001b[0m tic \u001b[39m=\u001b[39m time\u001b[39m.\u001b[39mtime()\n\u001b[0;32m     84\u001b[0m \u001b[39mprint\u001b[39m(\u001b[39mf\u001b[39m\u001b[39m\"\u001b[39m\u001b[39mConfig: K=\u001b[39m\u001b[39m{\u001b[39;00mK\u001b[39m}\u001b[39;00m\u001b[39m, Q=\u001b[39m\u001b[39m{\u001b[39;00mQ\u001b[39m}\u001b[39;00m\u001b[39m, J=\u001b[39m\u001b[39m{\u001b[39;00mJ\u001b[39m}\u001b[39;00m\u001b[39m, threadsperblock=\u001b[39m\u001b[39m{\u001b[39;00mthreadsperblock\u001b[39m}\u001b[39;00m\u001b[39m, blockspergrid=\u001b[39m\u001b[39m{\u001b[39;00mblockspergrid\u001b[39m}\u001b[39;00m\u001b[39m\"\u001b[39m)\n\u001b[1;32m---> 85\u001b[0m H3_cuda[blockspergrid, threadsperblock](js_test_d, H3_test_d, psi_d)\n\u001b[0;32m     86\u001b[0m duration \u001b[39m=\u001b[39m time\u001b[39m.\u001b[39mtime() \u001b[39m-\u001b[39m tic\n\u001b[0;32m     87\u001b[0m \u001b[39mprint\u001b[39m(\u001b[39mf\u001b[39m\u001b[39m\"\u001b[39m\u001b[39mDuration: \u001b[39m\u001b[39m{\u001b[39;00mduration\u001b[39m/\u001b[39m\u001b[39m/\u001b[39m\u001b[39m60\u001b[39m\u001b[39m}\u001b[39;00m\u001b[39m minutes, \u001b[39m\u001b[39m{\u001b[39;00mduration\u001b[39m%\u001b[39m\u001b[39m60\u001b[39m\u001b[39m}\u001b[39;00m\u001b[39m seconds\u001b[39m\u001b[39m\"\u001b[39m)\n",
      "File \u001b[1;32mc:\\Users\\abdel\\anaconda3\\envs\\phys417_clone_07_10_23\\lib\\site-packages\\numba\\cuda\\dispatcher.py:491\u001b[0m, in \u001b[0;36m_LaunchConfiguration.__call__\u001b[1;34m(self, *args)\u001b[0m\n\u001b[0;32m    490\u001b[0m \u001b[39mdef\u001b[39;00m \u001b[39m__call__\u001b[39m(\u001b[39mself\u001b[39m, \u001b[39m*\u001b[39margs):\n\u001b[1;32m--> 491\u001b[0m     \u001b[39mreturn\u001b[39;00m \u001b[39mself\u001b[39;49m\u001b[39m.\u001b[39;49mdispatcher\u001b[39m.\u001b[39;49mcall(args, \u001b[39mself\u001b[39;49m\u001b[39m.\u001b[39;49mgriddim, \u001b[39mself\u001b[39;49m\u001b[39m.\u001b[39;49mblockdim,\n\u001b[0;32m    492\u001b[0m                                 \u001b[39mself\u001b[39;49m\u001b[39m.\u001b[39;49mstream, \u001b[39mself\u001b[39;49m\u001b[39m.\u001b[39;49msharedmem)\n",
      "File \u001b[1;32mc:\\Users\\abdel\\anaconda3\\envs\\phys417_clone_07_10_23\\lib\\site-packages\\numba\\cuda\\dispatcher.py:625\u001b[0m, in \u001b[0;36mCUDADispatcher.call\u001b[1;34m(self, args, griddim, blockdim, stream, sharedmem)\u001b[0m\n\u001b[0;32m    623\u001b[0m     kernel \u001b[39m=\u001b[39m \u001b[39mnext\u001b[39m(\u001b[39miter\u001b[39m(\u001b[39mself\u001b[39m\u001b[39m.\u001b[39moverloads\u001b[39m.\u001b[39mvalues()))\n\u001b[0;32m    624\u001b[0m \u001b[39melse\u001b[39;00m:\n\u001b[1;32m--> 625\u001b[0m     kernel \u001b[39m=\u001b[39m _dispatcher\u001b[39m.\u001b[39;49mDispatcher\u001b[39m.\u001b[39;49m_cuda_call(\u001b[39mself\u001b[39;49m, \u001b[39m*\u001b[39;49margs)\n\u001b[0;32m    627\u001b[0m kernel\u001b[39m.\u001b[39mlaunch(args, griddim, blockdim, stream, sharedmem)\n",
      "File \u001b[1;32mc:\\Users\\abdel\\anaconda3\\envs\\phys417_clone_07_10_23\\lib\\site-packages\\numba\\cuda\\dispatcher.py:633\u001b[0m, in \u001b[0;36mCUDADispatcher._compile_for_args\u001b[1;34m(self, *args, **kws)\u001b[0m\n\u001b[0;32m    631\u001b[0m \u001b[39massert\u001b[39;00m \u001b[39mnot\u001b[39;00m kws\n\u001b[0;32m    632\u001b[0m argtypes \u001b[39m=\u001b[39m [\u001b[39mself\u001b[39m\u001b[39m.\u001b[39mtypeof_pyval(a) \u001b[39mfor\u001b[39;00m a \u001b[39min\u001b[39;00m args]\n\u001b[1;32m--> 633\u001b[0m \u001b[39mreturn\u001b[39;00m \u001b[39mself\u001b[39;49m\u001b[39m.\u001b[39;49mcompile(\u001b[39mtuple\u001b[39;49m(argtypes))\n",
      "File \u001b[1;32mc:\\Users\\abdel\\anaconda3\\envs\\phys417_clone_07_10_23\\lib\\site-packages\\numba\\cuda\\dispatcher.py:794\u001b[0m, in \u001b[0;36mCUDADispatcher.compile\u001b[1;34m(self, sig)\u001b[0m\n\u001b[0;32m    791\u001b[0m \u001b[39mif\u001b[39;00m \u001b[39mnot\u001b[39;00m \u001b[39mself\u001b[39m\u001b[39m.\u001b[39m_can_compile:\n\u001b[0;32m    792\u001b[0m     \u001b[39mraise\u001b[39;00m \u001b[39mRuntimeError\u001b[39;00m(\u001b[39m\"\u001b[39m\u001b[39mCompilation disabled\u001b[39m\u001b[39m\"\u001b[39m)\n\u001b[1;32m--> 794\u001b[0m kernel \u001b[39m=\u001b[39m _Kernel(\u001b[39mself\u001b[39;49m\u001b[39m.\u001b[39;49mpy_func, argtypes, \u001b[39m*\u001b[39;49m\u001b[39m*\u001b[39;49m\u001b[39mself\u001b[39;49m\u001b[39m.\u001b[39;49mtargetoptions)\n\u001b[0;32m    795\u001b[0m \u001b[39m# We call bind to force codegen, so that there is a cubin to cache\u001b[39;00m\n\u001b[0;32m    796\u001b[0m kernel\u001b[39m.\u001b[39mbind()\n",
      "File \u001b[1;32mc:\\Users\\abdel\\anaconda3\\envs\\phys417_clone_07_10_23\\lib\\site-packages\\numba\\core\\compiler_lock.py:35\u001b[0m, in \u001b[0;36m_CompilerLock.__call__.<locals>._acquire_compile_lock\u001b[1;34m(*args, **kwargs)\u001b[0m\n\u001b[0;32m     32\u001b[0m \u001b[39m@functools\u001b[39m\u001b[39m.\u001b[39mwraps(func)\n\u001b[0;32m     33\u001b[0m \u001b[39mdef\u001b[39;00m \u001b[39m_acquire_compile_lock\u001b[39m(\u001b[39m*\u001b[39margs, \u001b[39m*\u001b[39m\u001b[39m*\u001b[39mkwargs):\n\u001b[0;32m     34\u001b[0m     \u001b[39mwith\u001b[39;00m \u001b[39mself\u001b[39m:\n\u001b[1;32m---> 35\u001b[0m         \u001b[39mreturn\u001b[39;00m func(\u001b[39m*\u001b[39;49margs, \u001b[39m*\u001b[39;49m\u001b[39m*\u001b[39;49mkwargs)\n",
      "File \u001b[1;32mc:\\Users\\abdel\\anaconda3\\envs\\phys417_clone_07_10_23\\lib\\site-packages\\numba\\cuda\\dispatcher.py:75\u001b[0m, in \u001b[0;36m_Kernel.__init__\u001b[1;34m(self, py_func, argtypes, link, debug, lineinfo, inline, fastmath, extensions, max_registers, opt, device)\u001b[0m\n\u001b[0;32m     66\u001b[0m \u001b[39mself\u001b[39m\u001b[39m.\u001b[39mextensions \u001b[39m=\u001b[39m extensions \u001b[39mor\u001b[39;00m []\n\u001b[0;32m     68\u001b[0m nvvm_options \u001b[39m=\u001b[39m {\n\u001b[0;32m     69\u001b[0m     \u001b[39m'\u001b[39m\u001b[39mdebug\u001b[39m\u001b[39m'\u001b[39m: \u001b[39mself\u001b[39m\u001b[39m.\u001b[39mdebug,\n\u001b[0;32m     70\u001b[0m     \u001b[39m'\u001b[39m\u001b[39mlineinfo\u001b[39m\u001b[39m'\u001b[39m: \u001b[39mself\u001b[39m\u001b[39m.\u001b[39mlineinfo,\n\u001b[0;32m     71\u001b[0m     \u001b[39m'\u001b[39m\u001b[39mfastmath\u001b[39m\u001b[39m'\u001b[39m: fastmath,\n\u001b[0;32m     72\u001b[0m     \u001b[39m'\u001b[39m\u001b[39mopt\u001b[39m\u001b[39m'\u001b[39m: \u001b[39m3\u001b[39m \u001b[39mif\u001b[39;00m opt \u001b[39melse\u001b[39;00m \u001b[39m0\u001b[39m\n\u001b[0;32m     73\u001b[0m }\n\u001b[1;32m---> 75\u001b[0m cres \u001b[39m=\u001b[39m compile_cuda(\u001b[39mself\u001b[39;49m\u001b[39m.\u001b[39;49mpy_func, types\u001b[39m.\u001b[39;49mvoid, \u001b[39mself\u001b[39;49m\u001b[39m.\u001b[39;49margtypes,\n\u001b[0;32m     76\u001b[0m                     debug\u001b[39m=\u001b[39;49m\u001b[39mself\u001b[39;49m\u001b[39m.\u001b[39;49mdebug,\n\u001b[0;32m     77\u001b[0m                     lineinfo\u001b[39m=\u001b[39;49m\u001b[39mself\u001b[39;49m\u001b[39m.\u001b[39;49mlineinfo,\n\u001b[0;32m     78\u001b[0m                     inline\u001b[39m=\u001b[39;49minline,\n\u001b[0;32m     79\u001b[0m                     fastmath\u001b[39m=\u001b[39;49mfastmath,\n\u001b[0;32m     80\u001b[0m                     nvvm_options\u001b[39m=\u001b[39;49mnvvm_options)\n\u001b[0;32m     81\u001b[0m tgt_ctx \u001b[39m=\u001b[39m cres\u001b[39m.\u001b[39mtarget_context\n\u001b[0;32m     82\u001b[0m code \u001b[39m=\u001b[39m \u001b[39mself\u001b[39m\u001b[39m.\u001b[39mpy_func\u001b[39m.\u001b[39m\u001b[39m__code__\u001b[39m\n",
      "File \u001b[1;32mc:\\Users\\abdel\\anaconda3\\envs\\phys417_clone_07_10_23\\lib\\site-packages\\numba\\core\\compiler_lock.py:35\u001b[0m, in \u001b[0;36m_CompilerLock.__call__.<locals>._acquire_compile_lock\u001b[1;34m(*args, **kwargs)\u001b[0m\n\u001b[0;32m     32\u001b[0m \u001b[39m@functools\u001b[39m\u001b[39m.\u001b[39mwraps(func)\n\u001b[0;32m     33\u001b[0m \u001b[39mdef\u001b[39;00m \u001b[39m_acquire_compile_lock\u001b[39m(\u001b[39m*\u001b[39margs, \u001b[39m*\u001b[39m\u001b[39m*\u001b[39mkwargs):\n\u001b[0;32m     34\u001b[0m     \u001b[39mwith\u001b[39;00m \u001b[39mself\u001b[39m:\n\u001b[1;32m---> 35\u001b[0m         \u001b[39mreturn\u001b[39;00m func(\u001b[39m*\u001b[39;49margs, \u001b[39m*\u001b[39;49m\u001b[39m*\u001b[39;49mkwargs)\n",
      "File \u001b[1;32mc:\\Users\\abdel\\anaconda3\\envs\\phys417_clone_07_10_23\\lib\\site-packages\\numba\\cuda\\compiler.py:212\u001b[0m, in \u001b[0;36mcompile_cuda\u001b[1;34m(pyfunc, return_type, args, debug, lineinfo, inline, fastmath, nvvm_options)\u001b[0m\n\u001b[0;32m    210\u001b[0m \u001b[39mfrom\u001b[39;00m \u001b[39mnumba\u001b[39;00m\u001b[39m.\u001b[39;00m\u001b[39mcore\u001b[39;00m\u001b[39m.\u001b[39;00m\u001b[39mtarget_extension\u001b[39;00m \u001b[39mimport\u001b[39;00m target_override\n\u001b[0;32m    211\u001b[0m \u001b[39mwith\u001b[39;00m target_override(\u001b[39m'\u001b[39m\u001b[39mcuda\u001b[39m\u001b[39m'\u001b[39m):\n\u001b[1;32m--> 212\u001b[0m     cres \u001b[39m=\u001b[39m compiler\u001b[39m.\u001b[39;49mcompile_extra(typingctx\u001b[39m=\u001b[39;49mtypingctx,\n\u001b[0;32m    213\u001b[0m                                   targetctx\u001b[39m=\u001b[39;49mtargetctx,\n\u001b[0;32m    214\u001b[0m                                   func\u001b[39m=\u001b[39;49mpyfunc,\n\u001b[0;32m    215\u001b[0m                                   args\u001b[39m=\u001b[39;49margs,\n\u001b[0;32m    216\u001b[0m                                   return_type\u001b[39m=\u001b[39;49mreturn_type,\n\u001b[0;32m    217\u001b[0m                                   flags\u001b[39m=\u001b[39;49mflags,\n\u001b[0;32m    218\u001b[0m                                   \u001b[39mlocals\u001b[39;49m\u001b[39m=\u001b[39;49m{},\n\u001b[0;32m    219\u001b[0m                                   pipeline_class\u001b[39m=\u001b[39;49mCUDACompiler)\n\u001b[0;32m    221\u001b[0m library \u001b[39m=\u001b[39m cres\u001b[39m.\u001b[39mlibrary\n\u001b[0;32m    222\u001b[0m library\u001b[39m.\u001b[39mfinalize()\n",
      "File \u001b[1;32mc:\\Users\\abdel\\anaconda3\\envs\\phys417_clone_07_10_23\\lib\\site-packages\\numba\\core\\compiler.py:716\u001b[0m, in \u001b[0;36mcompile_extra\u001b[1;34m(typingctx, targetctx, func, args, return_type, flags, locals, library, pipeline_class)\u001b[0m\n\u001b[0;32m    692\u001b[0m \u001b[39m\u001b[39m\u001b[39m\"\"\"Compiler entry point\u001b[39;00m\n\u001b[0;32m    693\u001b[0m \n\u001b[0;32m    694\u001b[0m \u001b[39mParameter\u001b[39;00m\n\u001b[1;32m   (...)\u001b[0m\n\u001b[0;32m    712\u001b[0m \u001b[39m    compiler pipeline\u001b[39;00m\n\u001b[0;32m    713\u001b[0m \u001b[39m\"\"\"\u001b[39;00m\n\u001b[0;32m    714\u001b[0m pipeline \u001b[39m=\u001b[39m pipeline_class(typingctx, targetctx, library,\n\u001b[0;32m    715\u001b[0m                           args, return_type, flags, \u001b[39mlocals\u001b[39m)\n\u001b[1;32m--> 716\u001b[0m \u001b[39mreturn\u001b[39;00m pipeline\u001b[39m.\u001b[39;49mcompile_extra(func)\n",
      "File \u001b[1;32mc:\\Users\\abdel\\anaconda3\\envs\\phys417_clone_07_10_23\\lib\\site-packages\\numba\\core\\compiler.py:452\u001b[0m, in \u001b[0;36mCompilerBase.compile_extra\u001b[1;34m(self, func)\u001b[0m\n\u001b[0;32m    450\u001b[0m \u001b[39mself\u001b[39m\u001b[39m.\u001b[39mstate\u001b[39m.\u001b[39mlifted \u001b[39m=\u001b[39m ()\n\u001b[0;32m    451\u001b[0m \u001b[39mself\u001b[39m\u001b[39m.\u001b[39mstate\u001b[39m.\u001b[39mlifted_from \u001b[39m=\u001b[39m \u001b[39mNone\u001b[39;00m\n\u001b[1;32m--> 452\u001b[0m \u001b[39mreturn\u001b[39;00m \u001b[39mself\u001b[39;49m\u001b[39m.\u001b[39;49m_compile_bytecode()\n",
      "File \u001b[1;32mc:\\Users\\abdel\\anaconda3\\envs\\phys417_clone_07_10_23\\lib\\site-packages\\numba\\core\\compiler.py:520\u001b[0m, in \u001b[0;36mCompilerBase._compile_bytecode\u001b[1;34m(self)\u001b[0m\n\u001b[0;32m    516\u001b[0m \u001b[39m\u001b[39m\u001b[39m\"\"\"\u001b[39;00m\n\u001b[0;32m    517\u001b[0m \u001b[39mPopulate and run pipeline for bytecode input\u001b[39;00m\n\u001b[0;32m    518\u001b[0m \u001b[39m\"\"\"\u001b[39;00m\n\u001b[0;32m    519\u001b[0m \u001b[39massert\u001b[39;00m \u001b[39mself\u001b[39m\u001b[39m.\u001b[39mstate\u001b[39m.\u001b[39mfunc_ir \u001b[39mis\u001b[39;00m \u001b[39mNone\u001b[39;00m\n\u001b[1;32m--> 520\u001b[0m \u001b[39mreturn\u001b[39;00m \u001b[39mself\u001b[39;49m\u001b[39m.\u001b[39;49m_compile_core()\n",
      "File \u001b[1;32mc:\\Users\\abdel\\anaconda3\\envs\\phys417_clone_07_10_23\\lib\\site-packages\\numba\\core\\compiler.py:499\u001b[0m, in \u001b[0;36mCompilerBase._compile_core\u001b[1;34m(self)\u001b[0m\n\u001b[0;32m    497\u001b[0m         \u001b[39mself\u001b[39m\u001b[39m.\u001b[39mstate\u001b[39m.\u001b[39mstatus\u001b[39m.\u001b[39mfail_reason \u001b[39m=\u001b[39m e\n\u001b[0;32m    498\u001b[0m         \u001b[39mif\u001b[39;00m is_final_pipeline:\n\u001b[1;32m--> 499\u001b[0m             \u001b[39mraise\u001b[39;00m e\n\u001b[0;32m    500\u001b[0m \u001b[39melse\u001b[39;00m:\n\u001b[0;32m    501\u001b[0m     \u001b[39mraise\u001b[39;00m CompilerError(\u001b[39m\"\u001b[39m\u001b[39mAll available pipelines exhausted\u001b[39m\u001b[39m\"\u001b[39m)\n",
      "File \u001b[1;32mc:\\Users\\abdel\\anaconda3\\envs\\phys417_clone_07_10_23\\lib\\site-packages\\numba\\core\\compiler.py:486\u001b[0m, in \u001b[0;36mCompilerBase._compile_core\u001b[1;34m(self)\u001b[0m\n\u001b[0;32m    484\u001b[0m res \u001b[39m=\u001b[39m \u001b[39mNone\u001b[39;00m\n\u001b[0;32m    485\u001b[0m \u001b[39mtry\u001b[39;00m:\n\u001b[1;32m--> 486\u001b[0m     pm\u001b[39m.\u001b[39;49mrun(\u001b[39mself\u001b[39;49m\u001b[39m.\u001b[39;49mstate)\n\u001b[0;32m    487\u001b[0m     \u001b[39mif\u001b[39;00m \u001b[39mself\u001b[39m\u001b[39m.\u001b[39mstate\u001b[39m.\u001b[39mcr \u001b[39mis\u001b[39;00m \u001b[39mnot\u001b[39;00m \u001b[39mNone\u001b[39;00m:\n\u001b[0;32m    488\u001b[0m         \u001b[39mbreak\u001b[39;00m\n",
      "File \u001b[1;32mc:\\Users\\abdel\\anaconda3\\envs\\phys417_clone_07_10_23\\lib\\site-packages\\numba\\core\\compiler_machinery.py:368\u001b[0m, in \u001b[0;36mPassManager.run\u001b[1;34m(self, state)\u001b[0m\n\u001b[0;32m    365\u001b[0m msg \u001b[39m=\u001b[39m \u001b[39m\"\u001b[39m\u001b[39mFailed in \u001b[39m\u001b[39m%s\u001b[39;00m\u001b[39m mode pipeline (step: \u001b[39m\u001b[39m%s\u001b[39;00m\u001b[39m)\u001b[39m\u001b[39m\"\u001b[39m \u001b[39m%\u001b[39m \\\n\u001b[0;32m    366\u001b[0m     (\u001b[39mself\u001b[39m\u001b[39m.\u001b[39mpipeline_name, pass_desc)\n\u001b[0;32m    367\u001b[0m patched_exception \u001b[39m=\u001b[39m \u001b[39mself\u001b[39m\u001b[39m.\u001b[39m_patch_error(msg, e)\n\u001b[1;32m--> 368\u001b[0m \u001b[39mraise\u001b[39;00m patched_exception\n",
      "File \u001b[1;32mc:\\Users\\abdel\\anaconda3\\envs\\phys417_clone_07_10_23\\lib\\site-packages\\numba\\core\\compiler_machinery.py:356\u001b[0m, in \u001b[0;36mPassManager.run\u001b[1;34m(self, state)\u001b[0m\n\u001b[0;32m    354\u001b[0m pass_inst \u001b[39m=\u001b[39m _pass_registry\u001b[39m.\u001b[39mget(pss)\u001b[39m.\u001b[39mpass_inst\n\u001b[0;32m    355\u001b[0m \u001b[39mif\u001b[39;00m \u001b[39misinstance\u001b[39m(pass_inst, CompilerPass):\n\u001b[1;32m--> 356\u001b[0m     \u001b[39mself\u001b[39;49m\u001b[39m.\u001b[39;49m_runPass(idx, pass_inst, state)\n\u001b[0;32m    357\u001b[0m \u001b[39melse\u001b[39;00m:\n\u001b[0;32m    358\u001b[0m     \u001b[39mraise\u001b[39;00m \u001b[39mBaseException\u001b[39;00m(\u001b[39m\"\u001b[39m\u001b[39mLegacy pass in use\u001b[39m\u001b[39m\"\u001b[39m)\n",
      "File \u001b[1;32mc:\\Users\\abdel\\anaconda3\\envs\\phys417_clone_07_10_23\\lib\\site-packages\\numba\\core\\compiler_lock.py:35\u001b[0m, in \u001b[0;36m_CompilerLock.__call__.<locals>._acquire_compile_lock\u001b[1;34m(*args, **kwargs)\u001b[0m\n\u001b[0;32m     32\u001b[0m \u001b[39m@functools\u001b[39m\u001b[39m.\u001b[39mwraps(func)\n\u001b[0;32m     33\u001b[0m \u001b[39mdef\u001b[39;00m \u001b[39m_acquire_compile_lock\u001b[39m(\u001b[39m*\u001b[39margs, \u001b[39m*\u001b[39m\u001b[39m*\u001b[39mkwargs):\n\u001b[0;32m     34\u001b[0m     \u001b[39mwith\u001b[39;00m \u001b[39mself\u001b[39m:\n\u001b[1;32m---> 35\u001b[0m         \u001b[39mreturn\u001b[39;00m func(\u001b[39m*\u001b[39;49margs, \u001b[39m*\u001b[39;49m\u001b[39m*\u001b[39;49mkwargs)\n",
      "File \u001b[1;32mc:\\Users\\abdel\\anaconda3\\envs\\phys417_clone_07_10_23\\lib\\site-packages\\numba\\core\\compiler_machinery.py:311\u001b[0m, in \u001b[0;36mPassManager._runPass\u001b[1;34m(self, index, pss, internal_state)\u001b[0m\n\u001b[0;32m    309\u001b[0m     mutated \u001b[39m|\u001b[39m\u001b[39m=\u001b[39m check(pss\u001b[39m.\u001b[39mrun_initialization, internal_state)\n\u001b[0;32m    310\u001b[0m \u001b[39mwith\u001b[39;00m SimpleTimer() \u001b[39mas\u001b[39;00m pass_time:\n\u001b[1;32m--> 311\u001b[0m     mutated \u001b[39m|\u001b[39m\u001b[39m=\u001b[39m check(pss\u001b[39m.\u001b[39;49mrun_pass, internal_state)\n\u001b[0;32m    312\u001b[0m \u001b[39mwith\u001b[39;00m SimpleTimer() \u001b[39mas\u001b[39;00m finalize_time:\n\u001b[0;32m    313\u001b[0m     mutated \u001b[39m|\u001b[39m\u001b[39m=\u001b[39m check(pss\u001b[39m.\u001b[39mrun_finalizer, internal_state)\n",
      "File \u001b[1;32mc:\\Users\\abdel\\anaconda3\\envs\\phys417_clone_07_10_23\\lib\\site-packages\\numba\\core\\compiler_machinery.py:273\u001b[0m, in \u001b[0;36mPassManager._runPass.<locals>.check\u001b[1;34m(func, compiler_state)\u001b[0m\n\u001b[0;32m    272\u001b[0m \u001b[39mdef\u001b[39;00m \u001b[39mcheck\u001b[39m(func, compiler_state):\n\u001b[1;32m--> 273\u001b[0m     mangled \u001b[39m=\u001b[39m func(compiler_state)\n\u001b[0;32m    274\u001b[0m     \u001b[39mif\u001b[39;00m mangled \u001b[39mnot\u001b[39;00m \u001b[39min\u001b[39;00m (\u001b[39mTrue\u001b[39;00m, \u001b[39mFalse\u001b[39;00m):\n\u001b[0;32m    275\u001b[0m         msg \u001b[39m=\u001b[39m (\u001b[39m\"\u001b[39m\u001b[39mCompilerPass implementations should return True/False. \u001b[39m\u001b[39m\"\u001b[39m\n\u001b[0;32m    276\u001b[0m                \u001b[39m\"\u001b[39m\u001b[39mCompilerPass with name \u001b[39m\u001b[39m'\u001b[39m\u001b[39m%s\u001b[39;00m\u001b[39m'\u001b[39m\u001b[39m did not.\u001b[39m\u001b[39m\"\u001b[39m)\n",
      "File \u001b[1;32mc:\\Users\\abdel\\anaconda3\\envs\\phys417_clone_07_10_23\\lib\\site-packages\\numba\\core\\typed_passes.py:105\u001b[0m, in \u001b[0;36mBaseTypeInference.run_pass\u001b[1;34m(self, state)\u001b[0m\n\u001b[0;32m     99\u001b[0m \u001b[39m\u001b[39m\u001b[39m\"\"\"\u001b[39;00m\n\u001b[0;32m    100\u001b[0m \u001b[39mType inference and legalization\u001b[39;00m\n\u001b[0;32m    101\u001b[0m \u001b[39m\"\"\"\u001b[39;00m\n\u001b[0;32m    102\u001b[0m \u001b[39mwith\u001b[39;00m fallback_context(state, \u001b[39m'\u001b[39m\u001b[39mFunction \u001b[39m\u001b[39m\"\u001b[39m\u001b[39m%s\u001b[39;00m\u001b[39m\"\u001b[39m\u001b[39m failed type inference\u001b[39m\u001b[39m'\u001b[39m\n\u001b[0;32m    103\u001b[0m                       \u001b[39m%\u001b[39m (state\u001b[39m.\u001b[39mfunc_id\u001b[39m.\u001b[39mfunc_name,)):\n\u001b[0;32m    104\u001b[0m     \u001b[39m# Type inference\u001b[39;00m\n\u001b[1;32m--> 105\u001b[0m     typemap, return_type, calltypes, errs \u001b[39m=\u001b[39m type_inference_stage(\n\u001b[0;32m    106\u001b[0m         state\u001b[39m.\u001b[39;49mtypingctx,\n\u001b[0;32m    107\u001b[0m         state\u001b[39m.\u001b[39;49mtargetctx,\n\u001b[0;32m    108\u001b[0m         state\u001b[39m.\u001b[39;49mfunc_ir,\n\u001b[0;32m    109\u001b[0m         state\u001b[39m.\u001b[39;49margs,\n\u001b[0;32m    110\u001b[0m         state\u001b[39m.\u001b[39;49mreturn_type,\n\u001b[0;32m    111\u001b[0m         state\u001b[39m.\u001b[39;49mlocals,\n\u001b[0;32m    112\u001b[0m         raise_errors\u001b[39m=\u001b[39;49m\u001b[39mself\u001b[39;49m\u001b[39m.\u001b[39;49m_raise_errors)\n\u001b[0;32m    113\u001b[0m     state\u001b[39m.\u001b[39mtypemap \u001b[39m=\u001b[39m typemap\n\u001b[0;32m    114\u001b[0m     \u001b[39m# save errors in case of partial typing\u001b[39;00m\n",
      "File \u001b[1;32mc:\\Users\\abdel\\anaconda3\\envs\\phys417_clone_07_10_23\\lib\\site-packages\\numba\\core\\typed_passes.py:83\u001b[0m, in \u001b[0;36mtype_inference_stage\u001b[1;34m(typingctx, targetctx, interp, args, return_type, locals, raise_errors)\u001b[0m\n\u001b[0;32m     81\u001b[0m     infer\u001b[39m.\u001b[39mbuild_constraint()\n\u001b[0;32m     82\u001b[0m     \u001b[39m# return errors in case of partial typing\u001b[39;00m\n\u001b[1;32m---> 83\u001b[0m     errs \u001b[39m=\u001b[39m infer\u001b[39m.\u001b[39;49mpropagate(raise_errors\u001b[39m=\u001b[39;49mraise_errors)\n\u001b[0;32m     84\u001b[0m     typemap, restype, calltypes \u001b[39m=\u001b[39m infer\u001b[39m.\u001b[39munify(raise_errors\u001b[39m=\u001b[39mraise_errors)\n\u001b[0;32m     86\u001b[0m \u001b[39m# Output all Numba warnings\u001b[39;00m\n",
      "File \u001b[1;32mc:\\Users\\abdel\\anaconda3\\envs\\phys417_clone_07_10_23\\lib\\site-packages\\numba\\core\\typeinfer.py:1086\u001b[0m, in \u001b[0;36mTypeInferer.propagate\u001b[1;34m(self, raise_errors)\u001b[0m\n\u001b[0;32m   1083\u001b[0m force_lit_args \u001b[39m=\u001b[39m [e \u001b[39mfor\u001b[39;00m e \u001b[39min\u001b[39;00m errors\n\u001b[0;32m   1084\u001b[0m                   \u001b[39mif\u001b[39;00m \u001b[39misinstance\u001b[39m(e, ForceLiteralArg)]\n\u001b[0;32m   1085\u001b[0m \u001b[39mif\u001b[39;00m \u001b[39mnot\u001b[39;00m force_lit_args:\n\u001b[1;32m-> 1086\u001b[0m     \u001b[39mraise\u001b[39;00m errors[\u001b[39m0\u001b[39m]\n\u001b[0;32m   1087\u001b[0m \u001b[39melse\u001b[39;00m:\n\u001b[0;32m   1088\u001b[0m     \u001b[39mraise\u001b[39;00m reduce(operator\u001b[39m.\u001b[39mor_, force_lit_args)\n",
      "\u001b[1;31mTypingError\u001b[0m: Failed in cuda mode pipeline (step: nopython frontend)\n\u001b[1m\u001b[1m\u001b[1mNo implementation of function Function(<class 'numba.cuda.stubs.atomic.add'>) found for signature:\n \n >>> add(array(complex128, 2d, C), UniTuple(int32 x 2), complex128)\n \nThere are 2 candidate implementations:\n\u001b[1m  - Of which 2 did not match due to:\n  Overload of function 'add': File: numba\\cuda\\cudadecl.py: Line 390.\n    With argument(s): '(array(complex128, 2d, C), UniTuple(int32 x 2), complex128)':\u001b[0m\n\u001b[1m   No match.\u001b[0m\n\u001b[0m\n\u001b[0m\u001b[1mDuring: resolving callee type: Function(<class 'numba.cuda.stubs.atomic.add'>)\u001b[0m\n\u001b[0m\u001b[1mDuring: typing of call at C:\\Users\\abdel\\AppData\\Local\\Temp\\ipykernel_19872\\2043246606.py (66)\n\u001b[0m\n\u001b[1m\nFile \"..\\..\\..\\..\\..\\AppData\\Local\\Temp\\ipykernel_19872\\2043246606.py\", line 66:\u001b[0m\n\u001b[1m<source missing, REPL/exec in use?>\u001b[0m\n"
     ]
    }
   ],
   "source": [
    "#TODO: grid sync, thread sync, shared memory\n",
    "@cuda.jit(device=True)\n",
    "def matmul_vecarr_device(A, B, C):\n",
    "    \"\"\"Perform square matrix multiplication of C = A * B\n",
    "    \"\"\"\n",
    "    for i in range(len(C)):\n",
    "        tmp = 0.\n",
    "        for j in range(len(A)):\n",
    "            tmp += A[j] * B[i,j]\n",
    "        C[i] = tmp\n",
    "\n",
    "@cuda.jit\n",
    "def matmul_vecvec_device(A, B, C):\n",
    "    \"\"\"Perform square matrix multiplication of C = A * B\n",
    "    \"\"\"\n",
    "    for i in range(len(C)):\n",
    "        tmp = 0.\n",
    "        for j in range(len(A)):\n",
    "            tmp += A[j] * B[j]\n",
    "        C[i]=tmp\n",
    "\n",
    "@cuda.jit(device=True)\n",
    "def matmul_device(A, B, C):\n",
    "    \"\"\"Perform square matrix multiplication of C = A * B\n",
    "    \"\"\"\n",
    "    for i in range(N_DIM):\n",
    "        for j in range(N_DIM):\n",
    "            tmp = 0.\n",
    "            for k in range(A.shape[1]):\n",
    "                tmp += A[i, k] * B[k, j]\n",
    "        C[i, j] = tmp\n",
    "\n",
    "@cuda.jit(debug=True, opt=False)#(types.void(types.float64[:,:], types.complex128[:,:]))\n",
    "def H3_cuda(js, H3, psi):\n",
    "\n",
    "    alpha, beta = cuda.grid(2) # These are the indeces of H3 for which this kernel is responsible\n",
    "    if (alpha < H3.shape[0]) and (beta < H3.shape[1]):\n",
    "        \n",
    "        #cuda.syncthreads()\n",
    "        H_ab = 0\n",
    "        for i in range(js.shape[0]-2):\n",
    "            psi_i = psi[i]\n",
    "            psi_i_a = psi[i][alpha,:]\n",
    "\n",
    "            for j in range(i+1, js.shape[1]-1):\n",
    "                psi_j = psi[j]\n",
    "\n",
    "                psi_j1 = psi[j+1]\n",
    "                # 2 lines below crop error\n",
    "                #psi_ij1 = cuda.shared.array((N_DIM, N_DIM), dtype=np.complex128)\n",
    "                #matmul_device(psi_i, psi_j1, psi_ij1)\n",
    "\n",
    "                # Compute dot product: psi_i[alpha,:] @ psi_j[:,beta]\n",
    "                psi_ij_a = cuda.shared.array((N_DIM,), dtype=np.complex128) # initialize destination array of intermediate product, in other words \"shared memory\"\n",
    "                matmul_vecarr_device(psi_i_a, psi_j, psi_ij_a)\n",
    "\n",
    "                for k in range(j+1, js.shape[2]):\n",
    "                    psi_k_b = psi[k][:,beta]\n",
    "                    \n",
    "                    # Compute dot product: psi_ij_a @ psi_k_b\n",
    "                    psi_ijk_ab = cuda.shared.array((1,1), dtype=np.complex128) # initialize destination array of intermediate product, in other words \"shared memory\"\n",
    "                    matmul_vecvec_device(psi_ij_a, psi_k_b, psi_ijk_ab)\n",
    "                    \n",
    "                    j_ijk = js[i, j, k]\n",
    "                    #H_ab += (1j**(Q/2))*j_ijk*psi_ijk_ab[0,0]\n",
    "                    cuda.atomic.add(H3, (alpha, beta), (1j**(Q/2))*j_ijk*psi_ijk_ab[0,0])\n",
    "\n",
    "        H3[alpha, beta] = H_ab\n",
    "\n",
    "# Test\n",
    "js_test_h = js_all[0]\n",
    "js_test_d = cuda.to_device(js_test_h)\n",
    "\n",
    "H3_test_h = np.zeros((N_DIM, N_DIM), dtype=np.complex128)\n",
    "#H3_test_d = cuda.device_array((N_DIM, N_DIM), dtype=np.complex128)\n",
    "H3_test_d = cuda.to_device(H3_test_h)\n",
    "\n",
    "threadsperblock = (4, 4)\n",
    "blockspergrid_x = math.ceil(H3_test_d.shape[0] / threadsperblock[0])\n",
    "blockspergrid_y = math.ceil(H3_test_d.shape[1] / threadsperblock[1])\n",
    "blockspergrid = (blockspergrid_x, blockspergrid_y)\n",
    "\n",
    "tic = time.time()\n",
    "print(f\"Config: K={K}, Q={Q}, J={J}, threadsperblock={threadsperblock}, blockspergrid={blockspergrid}\")\n",
    "H3_cuda[blockspergrid, threadsperblock](js_test_d, H3_test_d, psi_d)\n",
    "duration = time.time() - tic\n",
    "print(f\"Duration: {duration//60} minutes, {duration%60} seconds\")\n"
   ]
  },
  {
   "cell_type": "markdown",
   "metadata": {},
   "source": [
    "- K=7, bpg_multiplier=64: 44.2 seconds\n",
    "- K=7, bpg_multiplier=8: 41 seconds\n",
    "- K=8: 14 minutes, 15.4 seconds"
   ]
  },
  {
   "cell_type": "markdown",
   "metadata": {},
   "source": [
    "## Check that Python and CUDA implementations agree"
   ]
  },
  {
   "cell_type": "code",
   "execution_count": 25,
   "metadata": {},
   "outputs": [
    {
     "name": "stdout",
     "output_type": "stream",
     "text": [
      "False\n",
      "False\n"
     ]
    }
   ],
   "source": [
    "H3_cuda_test = H3_test_d.copy_to_host()\n",
    "print(np.allclose(H3_python_test, H3_cuda_test))\n",
    "print(np.allclose(H3_python_test.real, H3_cuda_test.real))"
   ]
  },
  {
   "cell_type": "code",
   "execution_count": 26,
   "metadata": {},
   "outputs": [
    {
     "name": "stdout",
     "output_type": "stream",
     "text": [
      "[ 0.          0.10991912 -0.13799655  0.         -0.29160098  0.\n",
      "  0.         -0.24553369  0.06160392  0.          0.          0.35215939\n",
      "  0.          0.17796138 -0.14947524  0.         -0.01984952  0.\n",
      "  0.         -0.33390324  0.          0.25467405  0.04530312  0.\n",
      "  0.          0.28326189  0.05675327  0.          0.25171002  0.\n",
      "  0.          0.          0.2443454   0.          0.         -0.53768181\n",
      "  0.          0.44968509 -0.14235685  0.          0.         -0.32796051\n",
      " -0.14743016  0.         -0.57624634  0.          0.          0.\n",
      "  0.         -0.22477497 -0.29709331  0.          0.46000882  0.\n",
      "  0.          0.         -0.22097222  0.          0.          0.\n",
      "  0.          0.          0.          0.          0.11725844  0.\n",
      "  0.          0.11178457  0.         -0.50004678 -0.32169739  0.\n",
      "  0.         -0.58642729  0.38099436  0.         -0.21829082  0.\n",
      "  0.          0.          0.         -0.60144644 -0.18077908  0.\n",
      " -0.28200682  0.          0.          0.          0.17874883  0.\n",
      "  0.          0.          0.          0.          0.          0.\n",
      "  0.         -0.05556213 -0.13418235  0.          0.05965692  0.\n",
      "  0.          0.         -0.18917803  0.          0.          0.\n",
      "  0.          0.          0.          0.          0.22613711  0.\n",
      "  0.          0.          0.          0.          0.          0.\n",
      "  0.          0.          0.          0.          0.          0.\n",
      "  0.          0.        ]\n"
     ]
    }
   ],
   "source": [
    "print(H3_python_test[0].real)"
   ]
  },
  {
   "cell_type": "code",
   "execution_count": 27,
   "metadata": {},
   "outputs": [
    {
     "name": "stdout",
     "output_type": "stream",
     "text": [
      "[ 0.          0.          0.          0.          0.07730385  0.07730385\n",
      "  0.07730385  0.07730385  0.49138994  0.49138994  0.49138994  0.49138994\n",
      "  0.          0.          0.          0.          0.04839577  0.04839577\n",
      "  0.04839577  0.04839577  0.          0.          0.          0.\n",
      "  0.          0.          0.          0.          0.17877991  0.17877991\n",
      "  0.17877991  0.17877991 -0.01605593 -0.01605593 -0.01605593 -0.01605593\n",
      "  0.          0.          0.          0.          0.          0.\n",
      "  0.          0.         -0.02685485 -0.02685485 -0.02685485 -0.02685485\n",
      "  0.          0.          0.          0.         -0.27911558 -0.27911558\n",
      " -0.27911558 -0.27911558  0.14994833  0.14994833  0.14994833  0.14994833\n",
      "  0.          0.          0.          0.          0.11725844  0.11725844\n",
      "  0.11725844  0.11725844  0.          0.          0.          0.\n",
      "  0.          0.          0.          0.         -0.33931914 -0.33931914\n",
      " -0.33931914 -0.33931914  0.          0.          0.          0.\n",
      " -0.17758889 -0.17758889 -0.17758889 -0.17758889  0.20221916  0.20221916\n",
      "  0.20221916  0.20221916  0.          0.          0.          0.\n",
      "  0.          0.          0.          0.         -0.0283983  -0.0283983\n",
      " -0.0283983  -0.0283983  -0.09631526 -0.09631526 -0.09631526 -0.09631526\n",
      "  0.          0.          0.          0.          0.16342791  0.16342791\n",
      "  0.16342791  0.16342791  0.          0.          0.          0.\n",
      "  0.          0.          0.          0.          0.          0.\n",
      "  0.          0.        ]\n"
     ]
    }
   ],
   "source": [
    "print(H3_cuda_test[0].real)"
   ]
  },
  {
   "cell_type": "code",
   "execution_count": null,
   "metadata": {},
   "outputs": [],
   "source": []
  }
 ],
 "metadata": {
  "kernelspec": {
   "display_name": "phys417_clone_07_10_23",
   "language": "python",
   "name": "python3"
  },
  "language_info": {
   "codemirror_mode": {
    "name": "ipython",
    "version": 3
   },
   "file_extension": ".py",
   "mimetype": "text/x-python",
   "name": "python",
   "nbconvert_exporter": "python",
   "pygments_lexer": "ipython3",
   "version": "3.8.16"
  },
  "orig_nbformat": 4
 },
 "nbformat": 4,
 "nbformat_minor": 2
}
