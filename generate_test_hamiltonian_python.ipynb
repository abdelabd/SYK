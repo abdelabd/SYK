{
 "cells": [
  {
   "cell_type": "code",
   "execution_count": 1,
   "metadata": {},
   "outputs": [
    {
     "data": {
      "text/plain": [
       "array([ 0.32995524,  0.07484697,  0.18306698,  0.41914542,  0.34931534,\n",
       "       -0.18279387,  0.17770825, -0.02831044, -0.01930646,  0.07679995,\n",
       "        0.02694247,  0.272013  ,  0.14234747,  0.02275857])"
      ]
     },
     "execution_count": 1,
     "metadata": {},
     "output_type": "execute_result"
    }
   ],
   "source": [
    "import os \n",
    "import time\n",
    "import copy\n",
    "from tqdm import tqdm\n",
    "\n",
    "import numpy as np \n",
    "import matplotlib.pyplot as plt\n",
    "import scipy\n",
    "from scipy.linalg import ishermitian\n",
    "import pandas as pd\n",
    "\n",
    "from joblib import Parallel, delayed\n",
    "from numba import jit, njit, prange\n",
    "import functools as ft\n",
    "\n",
    "############## Local imports ##############\n",
    "from hamiltonian_generation import make_H4_sparse\n",
    "\n",
    "########### Define macros ############\n",
    "np.random.seed(0)\n",
    "\n",
    "K=7\n",
    "J=4\n",
    "Q=4\n",
    "N=2*K\n",
    "N_DIM = 2**K\n",
    "\n",
    "############ Load test coefficients ############\n",
    "js_fpath = os.path.join(\"Excel\", 'test_coefficients_K{}_J{}_q{}.csv'.format(K,J,Q))\n",
    "js_test = np.fromfile(js_fpath, sep = ',').reshape(tuple([N for i in range(Q)]))\n",
    "js_test[0,0,0]"
   ]
  },
  {
   "cell_type": "markdown",
   "metadata": {},
   "source": [
    "## Generate Hamiltonian"
   ]
  },
  {
   "cell_type": "code",
   "execution_count": 5,
   "metadata": {},
   "outputs": [],
   "source": [
    "H4_func, psi, psi_pairs, psi_quads = make_H4_sparse(K, J, precompute_pairs = True, precompute_quads = True) # <-- This is the function being tested, by having its output compared to that of Mathematica\n",
    "H4_test = H4_func(js_test).toarray()"
   ]
  },
  {
   "cell_type": "code",
   "execution_count": 7,
   "metadata": {},
   "outputs": [
    {
     "name": "stdout",
     "output_type": "stream",
     "text": [
      "Eigenvalues mostly real: True\n",
      "[-2.71372914 -2.71372914 -2.50614971 -2.50614971 -2.39193942 -2.39193942\n",
      " -2.28531215 -2.28531215 -2.22671951 -2.22671951 -2.10895018 -2.10895018\n",
      " -2.06858285 -2.06858285 -1.94907982 -1.94907982 -1.92979535 -1.92979535\n",
      " -1.87834499 -1.87834499 -1.75334631 -1.75334631 -1.63392516 -1.63392516\n",
      " -1.53065414 -1.53065414 -1.44722728 -1.44722728 -1.36958049 -1.36958049\n",
      " -1.33619472 -1.33619472 -1.24297254 -1.24297254 -1.11626472 -1.11626472\n",
      " -1.06549167 -1.06549167 -0.92800271 -0.92800271 -0.88420049 -0.88420049\n",
      " -0.8172338  -0.8172338  -0.76443155 -0.76443155 -0.58825773 -0.58825773\n",
      " -0.53402193 -0.53402193 -0.43035009 -0.43035009 -0.41393383 -0.41393383\n",
      " -0.35249287 -0.35249287 -0.29932921 -0.29932921 -0.19663866 -0.19663866\n",
      " -0.10633302 -0.10633302 -0.00690898 -0.00690898  0.09732491  0.09732491\n",
      "  0.14929888  0.14929888  0.19722888  0.19722888  0.27449905  0.27449905\n",
      "  0.33413609  0.33413609  0.39162741  0.39162741  0.53649867  0.53649867\n",
      "  0.6627846   0.6627846   0.70564478  0.70564478  0.7396081   0.7396081\n",
      "  0.8508207   0.8508207   0.89593713  0.89593713  0.94245877  0.94245877\n",
      "  1.00387684  1.00387684  1.12886847  1.12886847  1.16352978  1.16352978\n",
      "  1.25366931  1.25366931  1.32978681  1.32978681  1.43522563  1.43522563\n",
      "  1.45474029  1.45474029  1.53793398  1.53793398  1.69637726  1.69637726\n",
      "  1.74684035  1.74684035  1.84988731  1.84988731  1.94402253  1.94402253\n",
      "  2.00200854  2.00200854  2.15726959  2.15726959  2.24236252  2.24236252\n",
      "  2.29389241  2.29389241  2.5241088   2.5241088   2.6417743   2.6417743\n",
      "  2.69235236  2.69235236]\n"
     ]
    },
    {
     "data": {
      "image/png": "[encoded data removed]",
      "text/plain": [
       "<Figure size 640x480 with 1 Axes>"
      ]
     },
     "metadata": {},
     "output_type": "display_data"
    }
   ],
   "source": [
    "iv_test = np.linalg.eigvalsh(H4_test)\n",
    "print(f\"Eigenvalues mostly real: {np.allclose(iv_test, np.real(iv_test))}\")\n",
    "plt.hist(iv_test, bins=6)\n",
    "print(np.sort(iv_test.real))"
   ]
  },
  {
   "attachments": {},
   "cell_type": "markdown",
   "metadata": {},
   "source": [
    "Boom, exactly the same eigenvalues as the Mathematica method"
   ]
  },
  {
   "cell_type": "markdown",
   "metadata": {},
   "source": []
  }
 ],
 "metadata": {
  "kernelspec": {
   "display_name": "phys417",
   "language": "python",
   "name": "python3"
  },
  "language_info": {
   "codemirror_mode": {
    "name": "ipython",
    "version": 3
   },
   "file_extension": ".py",
   "mimetype": "text/x-python",
   "name": "python",
   "nbconvert_exporter": "python",
   "pygments_lexer": "ipython3",
   "version": "3.8.16"
  },
  "orig_nbformat": 4
 },
 "nbformat": 4,
 "nbformat_minor": 2
}
