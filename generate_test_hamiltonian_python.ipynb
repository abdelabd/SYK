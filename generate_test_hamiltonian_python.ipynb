{
 "cells": [
  {
   "cell_type": "code",
   "execution_count": 19,
   "metadata": {},
   "outputs": [],
   "source": [
    "import os \n",
    "import time\n",
    "import copy\n",
    "from tqdm import tqdm\n",
    "\n",
    "import numpy as np \n",
    "import matplotlib.pyplot as plt\n",
    "import scipy\n",
    "from scipy.linalg import ishermitian\n",
    "import pandas as pd\n",
    "\n",
    "from joblib import Parallel, delayed\n",
    "from numba import jit, njit, prange\n",
    "import functools as ft\n",
    "\n",
    "np.random.seed(0)"
   ]
  },
  {
   "cell_type": "code",
   "execution_count": 20,
   "metadata": {},
   "outputs": [
    {
     "data": {
      "text/plain": [
       "array([ 0.32995524,  0.07484697,  0.18306698,  0.41914542,  0.34931534,\n",
       "       -0.18279387,  0.17770825, -0.02831044, -0.01930646,  0.07679995,\n",
       "        0.02694247,  0.272013  ,  0.14234747,  0.02275857])"
      ]
     },
     "execution_count": 20,
     "metadata": {},
     "output_type": "execute_result"
    }
   ],
   "source": [
    "# Load test coefficients\n",
    "K=7\n",
    "J=4\n",
    "q=4\n",
    "\n",
    "N = 2*K\n",
    "n_dim = 2**K\n",
    "\n",
    "fname = 'test_coefficients_K{}_J{}_q{}.csv'.format(K,J,q)\n",
    "\n",
    "test_js = np.fromfile(fname, sep = ',').reshape(tuple([N for i in range(q)]))\n",
    "test_js[0,0,0]"
   ]
  },
  {
   "attachments": {},
   "cell_type": "markdown",
   "metadata": {},
   "source": [
    "## 1. Define fermionic modes"
   ]
  },
  {
   "cell_type": "code",
   "execution_count": 21,
   "metadata": {},
   "outputs": [],
   "source": [
    "cr = np.array([[0,1],[0,0]])\n",
    "an = np.array([[0,0],[1,0]])\n",
    "id = np.identity(2)\n",
    "id2 = np.array([[-1,0],[0,1]])\n",
    "\n",
    "def c(n, K):\n",
    "    factors = [id for i in range(n-1)]+[cr]+[id2 for i in range(K-n)]\n",
    "    out = factors[0]\n",
    "    for i in range(1, K):\n",
    "        out = np.kron(out,factors[i])\n",
    "    return out\n",
    "\n",
    "def cd(n, K):\n",
    "    factors = [id for i in range(n-1)]+[an]+[id2 for i in range(K-n)]\n",
    "    out = factors[0]\n",
    "    for i in range(1, K):\n",
    "        out = np.kron(out,factors[i])\n",
    "    return out"
   ]
  },
  {
   "attachments": {},
   "cell_type": "markdown",
   "metadata": {},
   "source": [
    "### 1.a. Check fermionic modes satisfy algebra"
   ]
  },
  {
   "attachments": {},
   "cell_type": "markdown",
   "metadata": {},
   "source": [
    "$\\{c_i, c_j\\}=\\{c_i^\\dagger, c_j^\\dagger\\}=0$,     $\\{c_i,c_j^\\dagger\\}=\\delta_{ij}$"
   ]
  },
  {
   "cell_type": "code",
   "execution_count": 22,
   "metadata": {},
   "outputs": [
    {
     "name": "stdout",
     "output_type": "stream",
     "text": [
      "Algebra satisfied: True\n"
     ]
    }
   ],
   "source": [
    "def anticommutator(a,b):\n",
    "    return a@b+b@a\n",
    "\n",
    "c_algebra_satisfied = True\n",
    "for i in range(1,K+1):\n",
    "    c_i = c(i, K)\n",
    "    cd_i = cd(i, K)\n",
    "\n",
    "    for j in range(1,K+1):\n",
    "        c_j = c(j, K)\n",
    "        cd_j = cd(j, K)\n",
    "\n",
    "        ac_ci_cj = anticommutator(c_i, c_j)\n",
    "        if not np.allclose(ac_ci_cj, np.zeros((n_dim, n_dim))):\n",
    "            c_algebra_satisfied = False\n",
    "            print(f\"Failure 1: i={i}, j={j}\")\n",
    "\n",
    "        ac_cdi_cdj = anticommutator(cd_i, cd_j)\n",
    "        if not np.allclose(ac_cdi_cdj, np.zeros((n_dim, n_dim))):\n",
    "            c_algebra_satisfied = False\n",
    "            print(f\"Failure 2: i={i}, j={j}\")\n",
    "\n",
    "\n",
    "        ac_ci_cdj = anticommutator(c_i, cd_j)\n",
    "        if i==j:\n",
    "            if not np.allclose(ac_ci_cdj, np.identity(n_dim)):\n",
    "                c_algebra_satisfied = False\n",
    "                print(f\"Failure 3: i={i}, j={j}\")\n",
    "\n",
    "        else:\n",
    "            if not np.allclose(ac_ci_cdj, np.zeros((n_dim, n_dim))):\n",
    "                c_algebra_satisfied = False\n",
    "                (f\"Failure 4: i={i}, j={j}\")\n",
    "\n",
    "        \n",
    "print(f\"Algebra satisfied: {c_algebra_satisfied}\")"
   ]
  },
  {
   "attachments": {},
   "cell_type": "markdown",
   "metadata": {},
   "source": [
    "## 2. Define fermions"
   ]
  },
  {
   "cell_type": "code",
   "execution_count": 23,
   "metadata": {},
   "outputs": [],
   "source": [
    "# Compute first N psi's\n",
    "psi = np.zeros((N, n_dim, n_dim), dtype=np.complex128)\n",
    "for i in range(1,K+1):\n",
    "    psi[2*(i-1)] = (c(i, K)+cd(i, K))/np.sqrt(2)\n",
    "    psi[2*(i-1)+1] = (c(i, K)-cd(i, K))*(-1j/np.sqrt(2))"
   ]
  },
  {
   "attachments": {},
   "cell_type": "markdown",
   "metadata": {},
   "source": [
    "### 2.a. Check that fermions satisfy algebra"
   ]
  },
  {
   "attachments": {},
   "cell_type": "markdown",
   "metadata": {},
   "source": [
    "$\\{\\psi_i, \\psi_j\\} = \\delta_{ij}$"
   ]
  },
  {
   "cell_type": "code",
   "execution_count": 24,
   "metadata": {},
   "outputs": [
    {
     "name": "stdout",
     "output_type": "stream",
     "text": [
      "Algebra satisfied: True\n"
     ]
    }
   ],
   "source": [
    "def anticommutator(a,b):\n",
    "    return a@b+b@a\n",
    "\n",
    "psi_algebra_satisfied = True\n",
    "for i in range(N):\n",
    "    psi_i = psi[i]\n",
    "\n",
    "    for j in range(N):\n",
    "        psi_j = psi[j]\n",
    "\n",
    "        ac_pi_pj = anticommutator(psi_i, psi_j)\n",
    "\n",
    "        if i==j:\n",
    "            if not np.allclose(ac_pi_pj, np.identity(n_dim)):\n",
    "                psi_algebra_satisfied = False\n",
    "                print(f\"Failure 1: i={i}, j={j}\")\n",
    "        else:\n",
    "            if not np.allclose(ac_pi_pj, np.zeros((n_dim, n_dim))):\n",
    "                psi_algebra_satisfied = False\n",
    "                print(f\"Failure 2: i={i}, j={j}\")\n",
    "        \n",
    "print(f\"Algebra satisfied: {psi_algebra_satisfied}\")"
   ]
  },
  {
   "attachments": {},
   "cell_type": "markdown",
   "metadata": {},
   "source": [
    "## 2. Pre-compute pairwise $\\psi$ inner-products"
   ]
  },
  {
   "cell_type": "code",
   "execution_count": 25,
   "metadata": {},
   "outputs": [],
   "source": [
    "# Compute pairwise inner products\n",
    "psi_pairs = np.zeros((N, N, n_dim, n_dim), dtype=np.complex128)\n",
    "for i in range(N):\n",
    "    for j in range(i+1, N):\n",
    "        psi_pairs[i, j] = psi[i]@psi[j]"
   ]
  },
  {
   "attachments": {},
   "cell_type": "markdown",
   "metadata": {},
   "source": [
    "## 3. Pre-compute quadwise inner products"
   ]
  },
  {
   "cell_type": "code",
   "execution_count": 26,
   "metadata": {},
   "outputs": [
    {
     "name": "stdout",
     "output_type": "stream",
     "text": [
      "test_js.shape: (14, 14, 14, 14)\n",
      "psi_quads.shape: (14, 14, 14, 14, 128, 128)\n"
     ]
    }
   ],
   "source": [
    "psi_quads = np.zeros((N, N, N, N, n_dim, n_dim), dtype=np.complex64)\n",
    "for i in range(N):\n",
    "    for j in range(i+1, N):\n",
    "        for k in range(j+1, N):\n",
    "            for l in range(k+1, N):\n",
    "                psi_quads[i, j, k, l] = psi_pairs[i,j]@psi_pairs[k,l]\n",
    "\n",
    "print(f\"test_js.shape: {test_js.shape}\")\n",
    "print(f\"psi_quads.shape: {psi_quads.shape}\")"
   ]
  },
  {
   "attachments": {},
   "cell_type": "markdown",
   "metadata": {},
   "source": [
    "## 4. Compute Hamiltonian"
   ]
  },
  {
   "cell_type": "code",
   "execution_count": 34,
   "metadata": {},
   "outputs": [],
   "source": [
    "H = np.zeros((n_dim, n_dim), dtype=np.complex64)\n",
    "for i in range(N):\n",
    "    for j in range(i+1, N):\n",
    "        for k in range(j+1, N):\n",
    "            for l in range(k+1, N):\n",
    "                H += (1j**(q/2))*test_js[i,j,k,l]*psi_quads[i,j,k,l]"
   ]
  },
  {
   "cell_type": "code",
   "execution_count": 36,
   "metadata": {},
   "outputs": [
    {
     "name": "stdout",
     "output_type": "stream",
     "text": [
      "Eigenvalues mostly real: True\n",
      "[-2.7137291  -2.7137291  -2.5061498  -2.5061498  -2.3919394  -2.3919394\n",
      " -2.2853122  -2.2853122  -2.2267196  -2.2267196  -2.1089501  -2.1089501\n",
      " -2.0685828  -2.0685828  -1.9490799  -1.9490799  -1.9297954  -1.9297954\n",
      " -1.878345   -1.878345   -1.7533463  -1.7533463  -1.6339252  -1.6339252\n",
      " -1.5306541  -1.5306541  -1.4472272  -1.4472272  -1.3695805  -1.3695805\n",
      " -1.3361948  -1.3361948  -1.2429725  -1.2429725  -1.1162647  -1.1162647\n",
      " -1.0654917  -1.0654917  -0.9280027  -0.9280027  -0.88420045 -0.88420045\n",
      " -0.8172338  -0.8172338  -0.76443154 -0.76443154 -0.58825773 -0.58825773\n",
      " -0.5340219  -0.5340219  -0.4303501  -0.4303501  -0.4139338  -0.4139338\n",
      " -0.35249287 -0.35249287 -0.29932922 -0.29932922 -0.19663866 -0.19663866\n",
      " -0.10633302 -0.10633302 -0.00690897 -0.00690897  0.09732491  0.09732491\n",
      "  0.14929888  0.14929888  0.19722888  0.19722888  0.27449903  0.27449903\n",
      "  0.3341361   0.3341361   0.3916274   0.3916274   0.53649867  0.53649867\n",
      "  0.6627846   0.6627846   0.7056448   0.7056448   0.7396081   0.7396081\n",
      "  0.8508207   0.8508207   0.89593714  0.89593714  0.94245875  0.94245875\n",
      "  1.0038768   1.0038768   1.1288685   1.1288685   1.1635298   1.1635298\n",
      "  1.2536693   1.2536693   1.3297868   1.3297868   1.4352256   1.4352256\n",
      "  1.4547403   1.4547403   1.537934    1.537934    1.6963773   1.6963773\n",
      "  1.7468404   1.7468404   1.8498873   1.8498873   1.9440225   1.9440225\n",
      "  2.0020084   2.0020084   2.1572695   2.1572695   2.2423625   2.2423625\n",
      "  2.2938924   2.2938924   2.524109    2.524109    2.6417742   2.6417742\n",
      "  2.6923523   2.6923523 ]\n"
     ]
    },
    {
     "data": {
      "image/png": "[encoded data removed]",
      "text/plain": [
       "<Figure size 640x480 with 1 Axes>"
      ]
     },
     "metadata": {},
     "output_type": "display_data"
    }
   ],
   "source": [
    "eigvals = np.linalg.eigvals(H)\n",
    "print(f\"Eigenvalues mostly real: {np.allclose(eigvals, np.real(eigvals))}\")\n",
    "plt.hist(eigvals, bins=6)\n",
    "print(np.sort(eigvals.real))"
   ]
  },
  {
   "attachments": {},
   "cell_type": "markdown",
   "metadata": {},
   "source": [
    "Boom, exactly the same eigenvalues as the Mathematica method"
   ]
  },
  {
   "cell_type": "markdown",
   "metadata": {},
   "source": []
  }
 ],
 "metadata": {
  "kernelspec": {
   "display_name": "phys417",
   "language": "python",
   "name": "python3"
  },
  "language_info": {
   "codemirror_mode": {
    "name": "ipython",
    "version": 3
   },
   "file_extension": ".py",
   "mimetype": "text/x-python",
   "name": "python",
   "nbconvert_exporter": "python",
   "pygments_lexer": "ipython3",
   "version": "3.8.16"
  },
  "orig_nbformat": 4
 },
 "nbformat": 4,
 "nbformat_minor": 2
}
