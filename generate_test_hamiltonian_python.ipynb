{
 "cells": [
  {
   "cell_type": "code",
   "execution_count": 1,
   "metadata": {},
   "outputs": [
    {
     "data": {
      "text/plain": [
       "array([ 0.32995524,  0.07484697,  0.18306698,  0.41914542,  0.34931534,\n",
       "       -0.18279387,  0.17770825, -0.02831044, -0.01930646,  0.07679995,\n",
       "        0.02694247,  0.272013  ,  0.14234747,  0.02275857])"
      ]
     },
     "execution_count": 1,
     "metadata": {},
     "output_type": "execute_result"
    }
   ],
   "source": [
    "import os \n",
    "import time\n",
    "import copy\n",
    "from tqdm import tqdm\n",
    "\n",
    "import numpy as np \n",
    "import matplotlib.pyplot as plt\n",
    "import scipy\n",
    "from scipy.linalg import ishermitian\n",
    "import pandas as pd\n",
    "\n",
    "from joblib import Parallel, delayed\n",
    "from numba import jit, njit, prange\n",
    "import functools as ft\n",
    "\n",
    "############## Local imports ##############\n",
    "from hamiltonian_generation import make_H4_sparse\n",
    "\n",
    "########### Define macros ############\n",
    "np.random.seed(0)\n",
    "\n",
    "K=7\n",
    "J=4\n",
    "Q=4\n",
    "N=2*K\n",
    "N_DIM = 2**K\n",
    "\n",
    "############ Load test coefficients ############\n",
    "js_fpath = os.path.join(\"Excel\", 'test_coefficients_K{}_J{}_q{}.csv'.format(K,J,Q))\n",
    "js_test = np.fromfile(js_fpath, sep = ',').reshape(tuple([N for i in range(Q)]))\n",
    "js_test[0,0,0]"
   ]
  },
  {
   "cell_type": "markdown",
   "metadata": {},
   "source": [
    "## Generate Hamiltonian"
   ]
  },
  {
   "cell_type": "code",
   "execution_count": 2,
   "metadata": {},
   "outputs": [],
   "source": [
    "H4_func, psi, psi_pairs, psi_quads = make_H4_sparse(K, J, precompute_pairs = True, precompute_quads = True) # <-- This is the function being tested, by having its output compared to that of Mathematica\n",
    "H4_test = H4_func(js_test)"
   ]
  },
  {
   "cell_type": "code",
   "execution_count": null,
   "metadata": {},
   "outputs": [],
   "source": [
    "iv_test = np.linalg.eigvalsh(H4_test)\n",
    "print(f\"Eigenvalues mostly real: {np.allclose(iv_test, np.real(iv_test))}\")\n",
    "plt.hist(iv, bins=6)\n",
    "print(np.sort(iv.real))"
   ]
  },
  {
   "attachments": {},
   "cell_type": "markdown",
   "metadata": {},
   "source": [
    "Boom, exactly the same eigenvalues as the Mathematica method"
   ]
  },
  {
   "cell_type": "markdown",
   "metadata": {},
   "source": []
  }
 ],
 "metadata": {
  "kernelspec": {
   "display_name": "phys417",
   "language": "python",
   "name": "python3"
  },
  "language_info": {
   "codemirror_mode": {
    "name": "ipython",
    "version": 3
   },
   "file_extension": ".py",
   "mimetype": "text/x-python",
   "name": "python",
   "nbconvert_exporter": "python",
   "pygments_lexer": "ipython3",
   "version": "3.8.16"
  },
  "orig_nbformat": 4
 },
 "nbformat": 4,
 "nbformat_minor": 2
}
