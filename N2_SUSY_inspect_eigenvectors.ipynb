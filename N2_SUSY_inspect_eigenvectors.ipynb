{
 "cells": [
  {
   "cell_type": "code",
   "execution_count": null,
   "metadata": {},
   "outputs": [],
   "source": [
    "# file-handling\n",
    "import os \n",
    "\n",
    "# user status updates\n",
    "import time\n",
    "from time import gmtime, strftime\n",
    "from tqdm import tqdm\n",
    "from IPython.display import display, Latex\n",
    "from datetime import datetime\n",
    "\n",
    "# the holy trinity of python data science\n",
    "import numpy as np \n",
    "import matplotlib.pyplot as plt\n",
    "import pandas as pd\n",
    "\n",
    "# scipy\n",
    "import scipy\n",
    "from scipy import sparse, linalg, fft\n",
    "from scipy.linalg import expm, sinm, cosm\n",
    "import scipy.integrate as integrate\n",
    "from scipy.integrate import quad\n",
    "\n",
    "# parallelization, memory management\n",
    "from joblib import Parallel, delayed\n",
    "from numba import jit, njit, prange\n",
    "import copy\n",
    "\n",
    "# itertools\n",
    "import itertools\n",
    "\n",
    "############ Macros ###############\n",
    "np.random.seed(0)\n",
    "\n",
    "# Physical constants\n",
    "N = 12 # number of fermions\n",
    "J = 100 # ~\"energy scale\"\n",
    "Q_COUPLING = 3 # order of coupling, don't want to use the letter 'Q' because that denotes the supercharge\n",
    "N_DIM = 2**N # Hilbert space dimension <-- Important: Hilbert space dimension is now 2^N instead of 2^(N/2). \n",
    "\n",
    "# Computer stuff\n",
    "N_SAMPLES = 100 # number of samples to generate\n",
    "N_JOBS = 20 # number of jobs to run in parallel\n",
    "EASY_DAGGER = True # whether to use the easy dagger function or the hard one\n",
    "CHECK_ALGEBRA = False # Whether we want to check algebra\n",
    "FLOAT_ERROR = 1e-15 # What we consider to be a floating point error; eigenvalues with absolute value less than FLOAT_ERROR will be considered zero\n",
    "\n",
    "# Directories\n",
    "N2_SUSY_DIR = os.path.join(\"Excel\", \"N2_SUSY_SYK\")\n",
    "RESULT_DIR = os.path.join(N2_SUSY_DIR, \"Simulated Hamiltonians\", f\"N{N}_J{J}\")\n",
    "os.makedirs(RESULT_DIR, exist_ok=True)\n"
   ]
  },
  {
   "cell_type": "markdown",
   "metadata": {},
   "source": [
    "# 1. Let's first generate the eigenvalues and eigenvectors"
   ]
  },
  {
   "cell_type": "markdown",
   "metadata": {},
   "source": [
    "## 1.1 Fermion operators"
   ]
  },
  {
   "cell_type": "markdown",
   "metadata": {},
   "source": [
    "We've compartmentalized the whole thing (computing fermions, their daggers, pairwise and triple inner-products) to it's own Python function. "
   ]
  },
  {
   "cell_type": "code",
   "execution_count": null,
   "metadata": {},
   "outputs": [],
   "source": [
    "from N2_SUSY_fermions import make_fermions\n",
    "psi_dict = make_fermions(N, easy_dagger=EASY_DAGGER, check_algebra=CHECK_ALGEBRA, n_jobs=N_JOBS)\n",
    "\n",
    "psi_all = psi_dict[\"psi_all\"]\n",
    "psi_dagger_all = psi_dict[\"psi_dagger_all\"]\n",
    "psi_psi_all = psi_dict[\"psi_psi_all\"]\n",
    "psi_dagger_psi_all = psi_dict[\"psi_dagger_psi_all\"]\n",
    "psi_psi_dagger_all = psi_dict[\"psi_psi_dagger_all\"]\n",
    "psi_dagger_psi_dagger_all = psi_dict[\"psi_dagger_psi_dagger_all\"]\n",
    "psi_psi_psi_all = psi_dict[\"psi_psi_psi_all\"]"
   ]
  },
  {
   "cell_type": "markdown",
   "metadata": {},
   "source": [
    "## 1.2 Random coefficients tensor, $C_{ijk}$"
   ]
  },
  {
   "cell_type": "code",
   "execution_count": null,
   "metadata": {},
   "outputs": [],
   "source": [
    "def levi_civita_tensor(dim):   \n",
    "    arr=np.zeros(tuple([dim for i in range(dim)]), dtype=np.int32)\n",
    "    for x in itertools.permutations(tuple(range(dim))):\n",
    "        mat = np.zeros((dim, dim), dtype=np.int32)\n",
    "        for i, j in zip(range(dim), x):\n",
    "            mat[i, j] = 1\n",
    "        arr[x]=int(np.linalg.det(mat))\n",
    "    return arr\n",
    "\n",
    "def asym_perm(iterable):\n",
    "    n_elem = len(iterable)\n",
    "    if len(set(iterable)) < n_elem:\n",
    "        return 0 # <-- If there are repeated elements, levi-civita value is identically zero \n",
    "\n",
    "    order_0 = tuple(list(range(n_elem)))\n",
    "    all_orders = list(itertools.permutations(order_0))\n",
    "    all_permutations = [tuple([iterable[i] for i in order]) for order in all_orders]\n",
    "\n",
    "    lc_tensor = levi_civita_tensor(n_elem)\n",
    "    out = {}\n",
    "    for i in range(len(all_orders)):\n",
    "        order_i = all_orders[i]\n",
    "        multiplier = lc_tensor[order_i]\n",
    "\n",
    "        permutation_i = all_permutations[i]\n",
    "        out[permutation_i] = multiplier\n",
    "\n",
    "    return out\n",
    "\n",
    "def make_C(random_seed):\n",
    "    np.random.seed(random_seed)\n",
    "\n",
    "    sigma_C_squared = 2*J/(N**2)\n",
    "    sigma_C_prime_squared = sigma_C_squared*(N**2)/((N-1)*(N-2))\n",
    "    sigma_C = np.sqrt(sigma_C_squared)\n",
    "    sigma_C_prime = np.sqrt(sigma_C_prime_squared)\n",
    "\n",
    "    # Generate distribution for X', Y'\n",
    "    N_UPPER = N*(N-1)*(N-2)//6\n",
    "    sigma_XY_prime = sigma_C_prime/np.sqrt(2)\n",
    "    X_prime = np.random.normal(0, sigma_XY_prime, size=(N_UPPER))\n",
    "    Y_prime = np.random.normal(0, sigma_XY_prime, size=(N_UPPER))\n",
    "\n",
    "    # Generate distribution for C'\n",
    "    C_prime = X_prime + 1j*Y_prime\n",
    "\n",
    "    # Initialize upper-upper-triangle array\n",
    "    C_upper_upper = np.zeros(shape = [N for i in range(Q_COUPLING)], dtype=np.complex128)\n",
    "\n",
    "    index = 0\n",
    "    for i in range(N-2):\n",
    "        for j in range(i+1, N-1):\n",
    "            for k in range(j+1, N):\n",
    "                C_upper_upper[i, j, k] = C_prime[index]\n",
    "                index += 1\n",
    "\n",
    "    # Antisymmetrize C_upper_upper to form full tensor C\n",
    "    C = np.zeros(shape=[N for i in range(Q_COUPLING)], dtype=np.complex128)\n",
    "    axes_og = range(len(C.shape))\n",
    "    axes_asym_perms = asym_perm(axes_og)\n",
    "    for axes, multiplier in axes_asym_perms.items():\n",
    "        addendum = multiplier*np.transpose(C_upper_upper, axes)\n",
    "        C += addendum\n",
    "\n",
    "    return C\n",
    "\n",
    "C = make_C(0)"
   ]
  },
  {
   "cell_type": "markdown",
   "metadata": {},
   "source": [
    "## 1.3 Supercharge, $Q$"
   ]
  },
  {
   "cell_type": "code",
   "execution_count": null,
   "metadata": {},
   "outputs": [],
   "source": [
    "def make_Q(C):\n",
    "    \n",
    "    Q = sparse.csr_array(np.zeros((N_DIM, N_DIM), dtype=np.complex128))\n",
    "    for i_index in range(N-2):\n",
    "        i_label = i_index+1\n",
    "\n",
    "        for j_index in range(i_index+1, N-1):\n",
    "            j_label = j_index+1\n",
    "\n",
    "            for k_index in range(j_index+1, N):\n",
    "                k_label = k_index+1\n",
    "\n",
    "                C_ijk = C[i_index, j_index, k_index]\n",
    "                psi_psi_psi_ijk = psi_psi_psi_all[(i_label, j_label, k_label)]\n",
    "                Q += C_ijk*psi_psi_psi_ijk\n",
    "        \n",
    "\n",
    "    Q *= 1j\n",
    "    return Q\n",
    "\n",
    "Q = make_Q(C)\n",
    "Q_bar = np.transpose(np.conjugate(Q))"
   ]
  },
  {
   "cell_type": "markdown",
   "metadata": {},
   "source": [
    "## 1.4 Hamiltonian"
   ]
  },
  {
   "cell_type": "code",
   "execution_count": null,
   "metadata": {},
   "outputs": [],
   "source": [
    "def make_H(Q):\n",
    "    Q_bar = np.transpose(np.conjugate(Q))\n",
    "    H = Q@Q_bar + Q_bar@Q\n",
    "    return H\n",
    "\n",
    "H = make_H(Q)"
   ]
  },
  {
   "cell_type": "markdown",
   "metadata": {},
   "source": [
    "## 1.5 Eigenvectors"
   ]
  },
  {
   "cell_type": "code",
   "execution_count": null,
   "metadata": {},
   "outputs": [],
   "source": [
    "# get eigenvalues, eigenvectors\n",
    "i_vals, i_vecs = np.linalg.eigh(H.toarray())\n",
    "i_vecs = i_vecs.T\n",
    "\n",
    "# sort in order of increasing eigenvalue\n",
    "sorted_indeces = np.argsort(i_vals)\n",
    "i_vals = np.array([i_vals[i] for i in sorted_indeces])\n",
    "i_vecs = np.array([i_vecs[i,:] for i in sorted_indeces])"
   ]
  },
  {
   "cell_type": "markdown",
   "metadata": {},
   "source": [
    "## 1.6 (Maybe) normalize eigenvectors"
   ]
  },
  {
   "cell_type": "code",
   "execution_count": null,
   "metadata": {},
   "outputs": [],
   "source": [
    "# Normalize eigenvectors \n",
    "def l2_norm(v):\n",
    "    return v/np.sqrt(v@v)\n",
    "\n",
    "i_vecs_normed = copy.deepcopy(i_vecs)\n",
    "#i_vecs_normed = np.array([l2_norm(i_vecs[i,:]) for i in range(i_vecs.shape[0])])\n",
    "\n",
    "iv0 = i_vecs_normed[0]\n",
    "iv1 = i_vecs_normed[1]\n",
    "iv2 = i_vecs_normed[9]\n",
    "\n",
    "print(np.abs(iv0@iv0))\n",
    "print(iv1@iv1)\n",
    "print(np.abs(iv1@iv1))\n",
    "print(iv2@iv2)"
   ]
  },
  {
   "cell_type": "markdown",
   "metadata": {},
   "source": [
    "# 2. Plot eigenvalue distribution, determine threshold for \"finite-energy\""
   ]
  },
  {
   "cell_type": "markdown",
   "metadata": {},
   "source": [
    "## 2.1 Full histogram"
   ]
  },
  {
   "cell_type": "code",
   "execution_count": null,
   "metadata": {},
   "outputs": [],
   "source": [
    "plt.figure()\n",
    "plt.hist(i_vals, bins=50)\n",
    "plt.xlabel(\"Eigenvalue\")\n",
    "plt.ylabel(\"Frequency\")\n",
    "plt.title(r\"$N=2$ Supersymmetric SYK Model, \"+f\"N={N}, J={J}, Q={Q_COUPLING}\")\n",
    "#plt.savefig(os.path.join(RESULT_DIR, \"iv_hist_zoomed.png\"))\n",
    "plt.show()\n",
    "plt.close()"
   ]
  },
  {
   "cell_type": "markdown",
   "metadata": {},
   "source": [
    "## 2.2 Zoomed-in on the zero-energy eigenvalues"
   ]
  },
  {
   "cell_type": "code",
   "execution_count": null,
   "metadata": {},
   "outputs": [],
   "source": [
    "plt.figure()\n",
    "plt.hist(i_vals, bins=4000)\n",
    "plt.xlim(0,0.25)\n",
    "plt.xlabel(\"Eigenvalue\")\n",
    "plt.ylabel(\"Frequency\")\n",
    "plt.title(r\"$N=2$ Supersymmetric SYK Model, \"+f\"N={N}, J={J}, Q={Q_COUPLING}\")\n",
    "#plt.savefig(os.path.join(RESULT_DIR, \"iv_hist_zoomed.png\"))\n",
    "plt.show()\n",
    "plt.close()"
   ]
  },
  {
   "cell_type": "markdown",
   "metadata": {},
   "source": [
    "## 2.3 Separate into \"zero-energy\" and \"finite-energy\" eigenvectors/values"
   ]
  },
  {
   "cell_type": "code",
   "execution_count": null,
   "metadata": {},
   "outputs": [],
   "source": [
    "FIRST_NONZERO = 0.1 # First seemingly non-zero eigenvalue from histogram\n",
    "# zero-energy eigenvectors\n",
    "i_vals_0_idx = np.where(i_vals<FIRST_NONZERO)[0]\n",
    "i_vecs_0 = np.array([i_vecs_normed[i] for i in i_vals_0_idx])\n",
    "i_vecs_0_r = i_vecs_0.real\n",
    "i_vecs_0_i = i_vecs_0.imag\n",
    "i_vecs_0_abs = np.abs(i_vecs_0)\n",
    "\n",
    "# finite-energy eigenvectors\n",
    "i_vals_n0_idx = np.where(i_vals>=FIRST_NONZERO)[0]\n",
    "i_vecs_n0 = np.array([i_vecs_normed[i] for i in i_vals_n0_idx])\n",
    "i_vecs_n0_r = i_vecs_n0.real\n",
    "i_vecs_n0_i = i_vecs_n0.imag\n",
    "i_vecs_n0_abs = np.abs(i_vecs_n0)"
   ]
  },
  {
   "cell_type": "markdown",
   "metadata": {},
   "source": [
    "# 3. Heatmaps of eigenvectors"
   ]
  },
  {
   "cell_type": "code",
   "execution_count": null,
   "metadata": {},
   "outputs": [],
   "source": [
    "plt.figure()\n",
    "plt.imshow(i_vecs_0_r, norm=\"log\", origin=\"lower\")\n",
    "plt.xlabel(\"Element within eigenvector\")\n",
    "plt.ylabel(\"Eigenvector rank (by energy)\")\n",
    "plt.title(f\"Real part\\nN={N}, J={J}, zero-energy eigenvectors\")\n",
    "plt.colorbar(label=\"Real part of element\")\n",
    "plt.savefig(os.path.join(RESULT_DIR, \"Eigenvector_0 distribution real.png\"))\n",
    "plt.show()\n",
    "plt.close()"
   ]
  },
  {
   "cell_type": "code",
   "execution_count": null,
   "metadata": {},
   "outputs": [],
   "source": [
    "plt.figure()\n",
    "plt.imshow(i_vecs_0_i, norm=\"log\", origin=\"lower\")\n",
    "plt.xlabel(\"Element within eigenvector\")\n",
    "plt.ylabel(\"Eigenvector rank (by energy)\")\n",
    "plt.title(f\"Imaginary part\\nN={N}, J={J}, zero-energy eigenvectors\")\n",
    "plt.colorbar(label=\"Imaginary part of element\")\n",
    "plt.savefig(os.path.join(RESULT_DIR, \"Eigenvector_0 distribution imaginary.png\"))\n",
    "plt.show()\n",
    "plt.close()"
   ]
  },
  {
   "cell_type": "code",
   "execution_count": null,
   "metadata": {},
   "outputs": [],
   "source": [
    "plt.figure()\n",
    "plt.imshow(i_vecs_0_abs, norm=\"log\", origin=\"lower\")\n",
    "plt.xlabel(\"Element within eigenvector\")\n",
    "plt.ylabel(\"Eigenvector number\")\n",
    "plt.title(f\"Magnitude\\nN={N}, J={J}, zero-energy eigenvectors\")\n",
    "plt.colorbar(label=\"Magnitude of element\")\n",
    "plt.savefig(os.path.join(RESULT_DIR, \"Eigenvector_0 distribution magnitude.png\"))\n",
    "plt.show()\n",
    "plt.close()"
   ]
  },
  {
   "cell_type": "code",
   "execution_count": null,
   "metadata": {},
   "outputs": [],
   "source": [
    "plt.figure()\n",
    "plt.imshow(np.angle(i_vecs_0), norm=\"log\", origin=\"lower\")\n",
    "plt.xlabel(\"Element within eigenvector\")\n",
    "plt.ylabel(\"Eigenvector number\")\n",
    "plt.title(f\"Phase\\nN={N}, J={J}, zero-energy eigenvectors\")\n",
    "plt.colorbar(label=\"Phase of element\")\n",
    "plt.savefig(os.path.join(RESULT_DIR, \"Eigenvector_0 distribution phase.png\"))\n",
    "plt.show()\n",
    "plt.close()"
   ]
  },
  {
   "cell_type": "code",
   "execution_count": null,
   "metadata": {},
   "outputs": [],
   "source": [
    "plt.figure()\n",
    "plt.imshow(i_vecs_n0_r, norm=\"log\", origin=\"lower\")\n",
    "plt.xlabel(\"Element within eigenvector\")\n",
    "plt.ylabel(\"Eigenvector rank (by energy)\")\n",
    "plt.title(f\"Real part\\nN={N}, J={J}, finite-energy eigenvectors\")\n",
    "plt.colorbar(label=\"Real part of element\")\n",
    "plt.savefig(os.path.join(RESULT_DIR, \"Eigenvector_n0 distribution real.png\"))\n",
    "plt.show()\n",
    "plt.close()"
   ]
  },
  {
   "cell_type": "code",
   "execution_count": null,
   "metadata": {},
   "outputs": [],
   "source": [
    "plt.figure()\n",
    "plt.imshow(i_vecs_n0_i, norm=\"log\", origin=\"lower\")\n",
    "plt.xlabel(\"Element within eigenvector\")\n",
    "plt.ylabel(\"Eigenvector rank (by energy)\")\n",
    "plt.title(f\"Imaginary part\\nN={N}, J={J}, finite-energy eigenvectors\")\n",
    "plt.colorbar(label=\"Imaginary part of element\")\n",
    "plt.savefig(os.path.join(RESULT_DIR, \"Eigenvector_n0 distribution imaginary.png\"))\n",
    "plt.show()\n",
    "plt.close()"
   ]
  },
  {
   "cell_type": "code",
   "execution_count": null,
   "metadata": {},
   "outputs": [],
   "source": [
    "plt.figure()\n",
    "plt.imshow(i_vecs_n0_abs, norm=\"log\", origin=\"lower\")\n",
    "plt.xlabel(\"Element within eigenvector\")\n",
    "plt.ylabel(\"Eigenvector rank (by energy)\")\n",
    "plt.title(f\"Magnitude\\nN={N}, J={J}, finite-energy eigenvectors\")\n",
    "plt.colorbar(label=\"Magnitude of element\")\n",
    "plt.savefig(os.path.join(RESULT_DIR, \"Eigenvector_n0 distribution magnitude.png\"))\n",
    "plt.show()\n",
    "plt.close()"
   ]
  },
  {
   "cell_type": "code",
   "execution_count": null,
   "metadata": {},
   "outputs": [],
   "source": [
    "plt.figure()\n",
    "plt.imshow(np.angle(i_vecs_n0), norm=\"log\", origin=\"lower\")\n",
    "plt.xlabel(\"Element within eigenvector\")\n",
    "plt.ylabel(\"Eigenvector rank (by energy)\")\n",
    "plt.title(f\"Phase\\nN={N}, J={J}, finite-energy eigenvectors\")\n",
    "plt.colorbar(label=\"Phase of element\")\n",
    "plt.savefig(os.path.join(RESULT_DIR, \"Eigenvector_n0 distribution phase.png\"))\n",
    "plt.show()\n",
    "plt.close()"
   ]
  },
  {
   "cell_type": "code",
   "execution_count": null,
   "metadata": {},
   "outputs": [],
   "source": [
    "plt.figure()\n",
    "plt.imshow(i_vecs.real, norm=\"log\", origin=\"lower\")\n",
    "plt.xlabel(\"Element within eigenvector\")\n",
    "plt.ylabel(\"Eigenvector rank (by energy)\")\n",
    "plt.title(f\"Real part\\nN={N}, J={J}, all eigenvectors\")\n",
    "plt.colorbar(label=\"Real part of element\")\n",
    "plt.savefig(os.path.join(RESULT_DIR, \"Eigenvector distribution real.png\"))\n",
    "plt.show()\n",
    "plt.close()"
   ]
  },
  {
   "cell_type": "code",
   "execution_count": null,
   "metadata": {},
   "outputs": [],
   "source": [
    "plt.figure()\n",
    "plt.imshow(i_vecs.imag, norm=\"log\", origin=\"lower\")\n",
    "plt.xlabel(\"Element within eigenvector\")\n",
    "plt.ylabel(\"Eigenvector rank (by energy)\")\n",
    "plt.title(f\"Imaginary part\\nN={N}, J={J}, all eigenvectors\")\n",
    "plt.colorbar(label=\"Imaginary part of element\")\n",
    "plt.savefig(os.path.join(RESULT_DIR, \"Eigenvector distribution imaginary.png\"))\n",
    "plt.show()\n",
    "plt.close()"
   ]
  },
  {
   "cell_type": "code",
   "execution_count": null,
   "metadata": {},
   "outputs": [],
   "source": [
    "plt.figure()\n",
    "plt.imshow(np.abs(i_vecs), norm=\"log\", origin=\"lower\")\n",
    "plt.xlabel(\"Element within eigenvector\")\n",
    "plt.ylabel(\"Eigenvector rank (by energy)\")\n",
    "plt.title(f\"Magnitude\\nN={N}, J={J}, all eigenvectors\")\n",
    "plt.colorbar(label=\"Magnitude of element\")\n",
    "plt.savefig(os.path.join(RESULT_DIR, \"N12_J100_heatmap_magnitude.png\"))\n",
    "plt.show()\n",
    "plt.close()"
   ]
  },
  {
   "cell_type": "markdown",
   "metadata": {},
   "source": [
    "Note the sharp distinction between zero-energy and finite-energy eigenvectors above."
   ]
  },
  {
   "cell_type": "code",
   "execution_count": null,
   "metadata": {},
   "outputs": [],
   "source": [
    "plt.figure()\n",
    "plt.imshow(np.angle(i_vecs), norm=\"log\", origin=\"lower\")\n",
    "plt.xlabel(\"Element within eigenvector\")\n",
    "plt.ylabel(\"Eigenvector rank (by energy)\")\n",
    "plt.title(f\"Phase\\nN={N}, J={J}, all eigenvectors\")\n",
    "plt.colorbar(label=\"Phase of element\")\n",
    "plt.savefig(os.path.join(RESULT_DIR, \"Eigenvector distribution phase.png\"))\n",
    "plt.show()\n",
    "plt.close()"
   ]
  },
  {
   "cell_type": "markdown",
   "metadata": {},
   "source": [
    "# 4. Eigen-energies, by increasing value"
   ]
  },
  {
   "cell_type": "code",
   "execution_count": null,
   "metadata": {},
   "outputs": [],
   "source": [
    "plt.figure()\n",
    "plt.plot(range(len(i_vals)), i_vals)\n",
    "plt.xlabel(\"Eigenvector rank by energy\")\n",
    "plt.ylabel(\"Eigenvector energy\")\n",
    "plt.title(\"Eigenvector energy vs. rank\")\n",
    "plt.savefig(os.path.join(RESULT_DIR, \"N12_J100_energy_vs_rank.png\"))"
   ]
  },
  {
   "cell_type": "markdown",
   "metadata": {},
   "source": [
    "# 5. Typical zero-energy eigenvector"
   ]
  },
  {
   "cell_type": "code",
   "execution_count": null,
   "metadata": {},
   "outputs": [],
   "source": [
    "plt.title(\"Real part\\nElements of zero-energy eigenvector\")\n",
    "plt.scatter(range(len(i_vecs_0[0])), i_vecs_0[0].real, alpha=0.3)\n",
    "plt.xlabel(\"Element index\")\n",
    "plt.ylabel(\"Value\")"
   ]
  },
  {
   "cell_type": "code",
   "execution_count": null,
   "metadata": {},
   "outputs": [],
   "source": [
    "plt.title(\"Imaginary part\\nElements of zero-energy eigenvector\")\n",
    "plt.scatter(range(len(i_vecs_0[0])), i_vecs_0[0].imag, alpha=0.3)\n",
    "plt.xlabel(\"Element index\")\n",
    "plt.ylabel(\"Value\")"
   ]
  },
  {
   "cell_type": "code",
   "execution_count": null,
   "metadata": {},
   "outputs": [],
   "source": [
    "plt.title(\"Magnitude\\nElements of zero-energy eigenvector\")\n",
    "plt.scatter(range(len(i_vecs_0[0])), np.abs(i_vecs_0[0]), alpha=0.3)\n",
    "plt.xlabel(\"Element index\")\n",
    "plt.ylabel(\"Value\")"
   ]
  },
  {
   "cell_type": "code",
   "execution_count": null,
   "metadata": {},
   "outputs": [],
   "source": [
    "plt.title(\"Phase\\nElements of zero-energy eigenvector\")\n",
    "plt.scatter(range(len(i_vecs_0[0])), np.angle(i_vecs_0[0]), alpha=0.3)\n",
    "plt.xlabel(\"Element index\")\n",
    "plt.ylabel(\"Phase\")"
   ]
  },
  {
   "cell_type": "markdown",
   "metadata": {},
   "source": [
    "# 6. Typical finite-energy eigenvector"
   ]
  },
  {
   "cell_type": "code",
   "execution_count": null,
   "metadata": {},
   "outputs": [],
   "source": [
    "plt.title(\"Real part\\nElements of finite-energy eigenvector\")\n",
    "plt.scatter(range(len(i_vecs_n0[0])), i_vecs_n0[0].real, alpha=0.3)\n",
    "plt.xlabel(\"Element index\")\n",
    "plt.ylabel(\"Value\")"
   ]
  },
  {
   "cell_type": "code",
   "execution_count": null,
   "metadata": {},
   "outputs": [],
   "source": [
    "plt.title(\"Imaginary part\\nElements of finite-energy eigenvector\")\n",
    "plt.scatter(range(len(i_vecs_n0[0])), i_vecs_n0[0].imag, alpha=0.3)\n",
    "plt.xlabel(\"Element index\")\n",
    "plt.ylabel(\"Value\")"
   ]
  },
  {
   "cell_type": "code",
   "execution_count": null,
   "metadata": {},
   "outputs": [],
   "source": [
    "plt.title(\"Magnitude\\nElements of finite-energy eigenvector\")\n",
    "plt.scatter(range(len(i_vecs_n0[0])), np.abs(i_vecs_n0[0]), alpha=0.3)\n",
    "plt.xlabel(\"Element index\")\n",
    "plt.ylabel(\"Value\")"
   ]
  },
  {
   "cell_type": "code",
   "execution_count": null,
   "metadata": {},
   "outputs": [],
   "source": [
    "plt.title(\"Magnitude\\nElements of finite-energy eigenvector\")\n",
    "plt.scatter(range(len(i_vecs_n0[0])), np.angle(i_vecs_n0[0]), alpha=0.3)\n",
    "plt.xlabel(\"Element index\")\n",
    "plt.ylabel(\"Value\")"
   ]
  },
  {
   "cell_type": "code",
   "execution_count": null,
   "metadata": {},
   "outputs": [],
   "source": []
  }
 ],
 "metadata": {
  "kernelspec": {
   "display_name": "phys417",
   "language": "python",
   "name": "python3"
  },
  "language_info": {
   "codemirror_mode": {
    "name": "ipython",
    "version": 3
   },
   "file_extension": ".py",
   "mimetype": "text/x-python",
   "name": "python",
   "nbconvert_exporter": "python",
   "pygments_lexer": "ipython3",
   "version": "3.8.16"
  },
  "orig_nbformat": 4
 },
 "nbformat": 4,
 "nbformat_minor": 2
}
