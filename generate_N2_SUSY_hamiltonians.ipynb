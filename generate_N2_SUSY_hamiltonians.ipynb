{
 "cells": [
  {
   "cell_type": "code",
   "execution_count": 4,
   "metadata": {},
   "outputs": [],
   "source": [
    "# file-handling\n",
    "import os \n",
    "\n",
    "# user status updates\n",
    "import time\n",
    "from time import gmtime, strftime\n",
    "from tqdm import tqdm\n",
    "from IPython.display import display, Latex\n",
    "from datetime import datetime\n",
    "\n",
    "# the holy trinity of python data science\n",
    "import numpy as np \n",
    "import matplotlib.pyplot as plt\n",
    "import pandas as pd\n",
    "\n",
    "# scipy\n",
    "import scipy\n",
    "from scipy import sparse, linalg, fft\n",
    "from scipy.linalg import expm, sinm, cosm\n",
    "import scipy.integrate as integrate\n",
    "from scipy.integrate import quad\n",
    "\n",
    "# parallelization, memory management\n",
    "from joblib import Parallel, delayed\n",
    "from numba import jit, njit, prange\n",
    "import copy\n",
    "\n",
    "# itertools\n",
    "import itertools\n",
    "\n",
    "# Locals \n",
    "from N2_SUSY_SYK import HamiltonianGenerator\n",
    "\n",
    "############ Macros ###############\n",
    "np.random.seed(0)\n",
    "\n",
    "# Physical constants\n",
    "N = 12 # number of fermions\n",
    "J = 100 # ~\"energy scale\"\n",
    "Q_COUPLING = 3 # order of coupling, don't want to use the letter 'Q' because that denotes the supercharge\n",
    "N_DIM = 2**N # Hilbert space dimension <-- Important: Hilbert space dimension is now 2^N instead of 2^(N/2). \n",
    "\n",
    "# Computer stuff\n",
    "N_SAMPLES = 10 # number of samples to generate\n",
    "N_JOBS = 20 # number of jobs to run in parallel\n",
    "EASY_DAGGER = True # whether to use the easy dagger function or the hard one\n",
    "CHECK_ALGEBRA = False # Whether we want to check algebra\n",
    "FLOAT_ERROR = 1e-15 # What we consider to be a floating point error; eigenvalues with absolute value less than FLOAT_ERROR will be considered zero\n",
    "\n",
    "# Directories\n",
    "N2_SUSY_DIR = os.path.join(\"Excel\", \"N2_SUSY_SYK\")\n",
    "RESULT_DIR = os.path.join(N2_SUSY_DIR, \"Simulated Hamiltonians\", f\"N{N}_J{J}\")\n",
    "os.makedirs(RESULT_DIR, exist_ok=True)\n"
   ]
  },
  {
   "cell_type": "code",
   "execution_count": 5,
   "metadata": {},
   "outputs": [],
   "source": [
    "H_generator = HamiltonianGenerator(N, J, n_jobs=N_JOBS, parent_dir=N2_SUSY_DIR)\n",
    "for i in range(N_SAMPLES):\n",
    "    H_i = H_generator.make_H(i)\n",
    "    ivals_i, ivecs_i = np.linalg.eigh(H_i.toarray())\n",
    "    np.save(os.path.join(RESULT_DIR, f\"ivals_{i}.npy\"), ivals_i)\n",
    "    np.save(os.path.join(RESULT_DIR, f\"ivecs_{i}.npy\"), ivecs_i)\n"
   ]
  }
 ],
 "metadata": {
  "kernelspec": {
   "display_name": "phys417",
   "language": "python",
   "name": "python3"
  },
  "language_info": {
   "codemirror_mode": {
    "name": "ipython",
    "version": 3
   },
   "file_extension": ".py",
   "mimetype": "text/x-python",
   "name": "python",
   "nbconvert_exporter": "python",
   "pygments_lexer": "ipython3",
   "version": "3.8.16"
  },
  "orig_nbformat": 4
 },
 "nbformat": 4,
 "nbformat_minor": 2
}
